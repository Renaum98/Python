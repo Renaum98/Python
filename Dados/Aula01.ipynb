{
 "cells": [
  {
   "cell_type": "code",
   "execution_count": null,
   "metadata": {},
   "outputs": [
    {
     "name": "stdout",
     "output_type": "stream",
     "text": [
      "         Calculadora          \n",
      "1-Soma\n",
      "2-Subtração\n",
      "3-Multiplicação\n",
      "4-Divisão\n"
     ]
    }
   ],
   "source": [
    "operadores = ['Soma', 'Subtração', 'Multiplicação', 'Divisão']\n",
    "\n",
    "print('Calculadora'.center(30))\n",
    "\n",
    "n1 = int(input('Digite um valor: '))\n",
    "n2 = int(input('Digite outro valor: '))\n",
    "for e,index in enumerate(operadores):\n",
    "    print(f'{e}-{index}')\n",
    "op = int(input('Digite uma operação'))\n",
    "\n",
    "\n",
    "if op == 0:\n",
    "    print(f'A {operadores[0]} de {n1} e {n2} é igual a: {n1+n2}')\n",
    "elif op == 1:\n",
    "    print(f'A {operadores[1]} de {n1} e {n2} é igual a: {n1-n2}')\n",
    "elif op == 2:\n",
    "    print(f'A {operadores[2]} de {n1} e {n2} é igual a: {n1*n2}')\n",
    "elif op == 3:\n",
    "    print(f'A {operadores[3]} de {n1} e {n2} é igual a: {n1/n2}')\n"
   ]
  }
 ],
 "metadata": {
  "kernelspec": {
   "display_name": "Python 3",
   "language": "python",
   "name": "python3"
  },
  "language_info": {
   "codemirror_mode": {
    "name": "ipython",
    "version": 3
   },
   "file_extension": ".py",
   "mimetype": "text/x-python",
   "name": "python",
   "nbconvert_exporter": "python",
   "pygments_lexer": "ipython3",
   "version": "3.12.5"
  }
 },
 "nbformat": 4,
 "nbformat_minor": 2
}
