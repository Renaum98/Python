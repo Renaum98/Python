{
 "cells": [
  {
   "cell_type": "markdown",
   "metadata": {},
   "source": [
    "### **114** - Crie um codigo em Python que teste se o site Pudim esta acessivel pelo computador usado."
   ]
  },
  {
   "cell_type": "code",
   "execution_count": 5,
   "metadata": {},
   "outputs": [
    {
     "name": "stdout",
     "output_type": "stream",
     "text": [
      "O site Pudim não esta disponivel no momento\n"
     ]
    }
   ],
   "source": [
    "import urllib\n",
    "import urllib.error\n",
    "import urllib.request\n",
    "\n",
    "try:\n",
    "    site = urllib.request.urlopen('http://www.pudim.com.br')\n",
    "except urllib.error.URLError:\n",
    "    print('O site Pudim não esta disponivel no momento')\n",
    "else:\n",
    "    print('Consegui Acessar o site pudim com sucesso')\n",
    "    print(site.read())"
   ]
  }
 ],
 "metadata": {
  "kernelspec": {
   "display_name": "Python 3",
   "language": "python",
   "name": "python3"
  },
  "language_info": {
   "codemirror_mode": {
    "name": "ipython",
    "version": 3
   },
   "file_extension": ".py",
   "mimetype": "text/x-python",
   "name": "python",
   "nbconvert_exporter": "python",
   "pygments_lexer": "ipython3",
   "version": "3.12.5"
  }
 },
 "nbformat": 4,
 "nbformat_minor": 2
}
