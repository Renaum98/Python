{
 "cells": [
  {
   "cell_type": "markdown",
   "metadata": {},
   "source": [
    "### **113** - Reescreva a função `leiaInt()` que fizemos no desafio 104, incluindo agora a posibilidade da digitação de um numero de tipo invalido.Crie tambem uma função `leiaFloat()` com a mesma funcionalidade."
   ]
  },
  {
   "cell_type": "code",
   "execution_count": null,
   "metadata": {},
   "outputs": [
    {
     "name": "stdout",
     "output_type": "stream",
     "text": [
      "\u001b[31mFoi digitado um valor invalido\u001b[0m\n",
      "Você digitou os numeros: \u001b[32m10\u001b[0m e \u001b[32m10.0\u001b[0m\n",
      "\u001b[31mFoi digitado um valor invalido\u001b[0m\n",
      "\u001b[31mFoi digitado um valor invalido\u001b[0m\n",
      "\u001b[31mFoi digitado um valor invalido\u001b[0m\n",
      "\u001b[31mFoi digitado um valor invalido\u001b[0m\n",
      "\u001b[31mFoi digitado um valor invalido\u001b[0m\n",
      "\u001b[31mFoi digitado um valor invalido\u001b[0m\n",
      "\u001b[31mFoi digitado um valor invalido\u001b[0m\n",
      "\u001b[31mFoi digitado um valor invalido\u001b[0m\n",
      "\u001b[31mFoi digitado um valor invalido\u001b[0m\n",
      "\u001b[31mFoi digitado um valor invalido\u001b[0m\n",
      "\u001b[31mFoi digitado um valor invalido\u001b[0m\n",
      "\u001b[31mFoi digitado um valor invalido\u001b[0m\n",
      "\u001b[31mFoi digitado um valor invalido\u001b[0m\n",
      "Você digitou os numeros: \u001b[32m20\u001b[0m e \u001b[32m10.0\u001b[0m\n",
      "Você digitou os numeros: \u001b[32m20\u001b[0m e \u001b[32m10.0\u001b[0m\n",
      "Você digitou os numeros: \u001b[32m20\u001b[0m e \u001b[32m30.0\u001b[0m\n",
      "Você digitou os numeros: \u001b[32m0\u001b[0m e \u001b[32m2.0\u001b[0m\n",
      "Você digitou os numeros: \u001b[32m3\u001b[0m e \u001b[32m1.0\u001b[0m\n",
      "\u001b[31mFoi digitado um valor invalido\u001b[0m\n",
      "\u001b[31mFoi digitado um valor invalido\u001b[0m\n",
      "\u001b[31mFoi digitado um valor invalido\u001b[0m\n",
      "\u001b[31mFoi digitado um valor invalido\u001b[0m\n",
      "\u001b[31mFoi digitado um valor invalido\u001b[0m\n"
     ]
    }
   ],
   "source": [
    "from termcolor import colored\n",
    "\n",
    "# Programa principal\n",
    "while True:\n",
    "    try: \n",
    "        inteiro = int(input('Digite um numero inteiro: '))\n",
    "    except:\n",
    "        print(colored('Foi digitado um valor invalido','red'))\n",
    "    try:\n",
    "        real = float(input('Digite um numero real:'))\n",
    "    except:\n",
    "        print(colored('Foi digitado um valor invalido','red'))\n",
    "    else:\n",
    "        print(f'Você digitou os numeros: {colored(inteiro, 'green')} e {colored(real,'green')}')\n",
    "        break"
   ]
  },
  {
   "cell_type": "code",
   "execution_count": null,
   "metadata": {},
   "outputs": [],
   "source": []
  }
 ],
 "metadata": {
  "kernelspec": {
   "display_name": "Python 3",
   "language": "python",
   "name": "python3"
  },
  "language_info": {
   "codemirror_mode": {
    "name": "ipython",
    "version": 3
   },
   "file_extension": ".py",
   "mimetype": "text/x-python",
   "name": "python",
   "nbconvert_exporter": "python",
   "pygments_lexer": "ipython3",
   "version": "3.12.5"
  }
 },
 "nbformat": 4,
 "nbformat_minor": 2
}
