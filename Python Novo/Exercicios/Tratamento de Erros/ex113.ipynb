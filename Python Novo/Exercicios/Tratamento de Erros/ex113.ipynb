{
 "cells": [
  {
   "cell_type": "markdown",
   "metadata": {},
   "source": [
    "### **113** - Reescreva a função `leiaInt()` que fizemos no desafio 104, incluindo agora a posibilidade da digitação de um numero de tipo invalido.Crie tambem uma função `leiaFloat()` com a mesma funcionalidade."
   ]
  },
  {
   "cell_type": "code",
   "execution_count": null,
   "metadata": {},
   "outputs": [
    {
     "name": "stdout",
     "output_type": "stream",
     "text": [
      "\u001b[31mFoi digitado um valor invalido\u001b[0m\n",
      "Você digitou os numeros: \u001b[32m10\u001b[0m e \u001b[32m10.0\u001b[0m\n",
      "\u001b[31mFoi digitado um valor invalido\u001b[0m\n",
      "\u001b[31mFoi digitado um valor invalido\u001b[0m\n",
      "\u001b[31mFoi digitado um valor invalido\u001b[0m\n",
      "\u001b[31mFoi digitado um valor invalido\u001b[0m\n",
      "\u001b[31mFoi digitado um valor invalido\u001b[0m\n",
      "\u001b[31mFoi digitado um valor invalido\u001b[0m\n",
      "\u001b[31mFoi digitado um valor invalido\u001b[0m\n",
      "\u001b[31mFoi digitado um valor invalido\u001b[0m\n",
      "\u001b[31mFoi digitado um valor invalido\u001b[0m\n",
      "\u001b[31mFoi digitado um valor invalido\u001b[0m\n",
      "\u001b[31mFoi digitado um valor invalido\u001b[0m\n",
      "\u001b[31mFoi digitado um valor invalido\u001b[0m\n",
      "\u001b[31mFoi digitado um valor invalido\u001b[0m\n",
      "Você digitou os numeros: \u001b[32m20\u001b[0m e \u001b[32m10.0\u001b[0m\n",
      "Você digitou os numeros: \u001b[32m20\u001b[0m e \u001b[32m10.0\u001b[0m\n",
      "Você digitou os numeros: \u001b[32m20\u001b[0m e \u001b[32m30.0\u001b[0m\n",
      "Você digitou os numeros: \u001b[32m0\u001b[0m e \u001b[32m2.0\u001b[0m\n",
      "Você digitou os numeros: \u001b[32m3\u001b[0m e \u001b[32m1.0\u001b[0m\n",
      "\u001b[31mFoi digitado um valor invalido\u001b[0m\n",
      "\u001b[31mFoi digitado um valor invalido\u001b[0m\n",
      "\u001b[31mFoi digitado um valor invalido\u001b[0m\n",
      "\u001b[31mFoi digitado um valor invalido\u001b[0m\n",
      "\u001b[31mFoi digitado um valor invalido\u001b[0m\n"
     ]
    }
   ],
   "source": [
    "from termcolor import colored\n",
    "\n",
    "# Programa principal\n",
    "while True:\n",
    "    try: \n",
    "        inteiro = int(input('Digite um numero inteiro: '))\n",
    "    except:\n",
    "        print(colored('Foi digitado um valor invalido','red'))\n",
    "    try:\n",
    "        real = float(input('Digite um numero real:'))\n",
    "    except:\n",
    "        print(colored('Foi digitado um valor invalido','red'))\n",
    "    else:\n",
    "        print(f'Você digitou os numeros: {colored(inteiro, 'green')} e {colored(real,'green')}')\n",
    "        break"
   ]
  },
  {
   "cell_type": "code",
   "execution_count": 4,
   "metadata": {},
   "outputs": [
    {
     "name": "stdout",
     "output_type": "stream",
     "text": [
      "O valor inteiro digitado foi \u001b[32m41\u001b[0m e valor real \u001b[32m41\u001b[0m\n"
     ]
    }
   ],
   "source": [
    "from termcolor import colored\n",
    "def leiaInt(msg):\n",
    "    while True:\n",
    "        try: \n",
    "            n = int(input(msg))\n",
    "        except(ValueError,TypeError):\n",
    "            print(colored('ERRO:Por favor, digite um numero inteiro valido','red'))\n",
    "            continue\n",
    "        except(KeyboardInterrupt):\n",
    "            print(colored('Entrada de dados interrompida pelo usuario','red'))\n",
    "            return 0\n",
    "        else:\n",
    "            return n\n",
    "\n",
    "def leiaFloat(msg):\n",
    "    while True:\n",
    "        try:\n",
    "            n = float(input(msg))\n",
    "        except(TypeError,ValueError):\n",
    "            print(colored('ERRO, Por favor, digite um numero real valido','light_red'))   \n",
    "        except(KeyboardInterrupt):\n",
    "            print(colored('Entrada de dados interrompida pelo usuario','red'))\n",
    "            return 0\n",
    "        else:\n",
    "            return n  \n",
    "        \n",
    "\n",
    "num = leiaInt('Digite um valor: ')\n",
    "real = leiaFloat('Digite um valor real: ')\n",
    "print(f'O valor inteiro digitado foi {colored(num,'green')} e valor real {colored(num,'green')}')"
   ]
  }
 ],
 "metadata": {
  "kernelspec": {
   "display_name": "Python 3",
   "language": "python",
   "name": "python3"
  },
  "language_info": {
   "codemirror_mode": {
    "name": "ipython",
    "version": 3
   },
   "file_extension": ".py",
   "mimetype": "text/x-python",
   "name": "python",
   "nbconvert_exporter": "python",
   "pygments_lexer": "ipython3",
   "version": "3.12.5"
  }
 },
 "nbformat": 4,
 "nbformat_minor": 2
}
