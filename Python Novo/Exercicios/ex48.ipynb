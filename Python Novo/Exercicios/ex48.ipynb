{
 "cells": [
  {
   "cell_type": "markdown",
   "metadata": {},
   "source": [
    "### **48** - Faça um programa que calcule a **soma** entre todos os **numeros impares** que são multiplos de tres e que se encontram no intervao de 1 a 500."
   ]
  }
 ],
 "metadata": {
  "language_info": {
   "name": "python"
  }
 },
 "nbformat": 4,
 "nbformat_minor": 2
}
