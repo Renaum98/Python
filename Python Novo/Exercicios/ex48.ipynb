{
 "cells": [
  {
   "cell_type": "markdown",
   "metadata": {},
   "source": [
    "### **48** - Faça um programa que calcule a **soma** entre todos os **numeros impares** que são multiplos de tres e que se encontram no intervao de 1 a 500."
   ]
  },
  {
   "cell_type": "code",
   "execution_count": 28,
   "metadata": {},
   "outputs": [
    {
     "name": "stdout",
     "output_type": "stream",
     "text": [
      "A soma é de 20667\n"
     ]
    }
   ],
   "source": [
    "s = 0\n",
    "for c in range(1,500+1):\n",
    "    if c % 2 != 0 and c % 3 == 0:\n",
    "        s+=c\n",
    "print('A soma é de {}'.format(s))\n",
    "\n",
    "\n"
   ]
  }
 ],
 "metadata": {
  "kernelspec": {
   "display_name": "Python 3",
   "language": "python",
   "name": "python3"
  },
  "language_info": {
   "codemirror_mode": {
    "name": "ipython",
    "version": 3
   },
   "file_extension": ".py",
   "mimetype": "text/x-python",
   "name": "python",
   "nbconvert_exporter": "python",
   "pygments_lexer": "ipython3",
   "version": "3.11.9"
  }
 },
 "nbformat": 4,
 "nbformat_minor": 2
}
