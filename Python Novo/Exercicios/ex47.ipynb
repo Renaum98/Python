{
 "cells": [
  {
   "cell_type": "markdown",
   "metadata": {},
   "source": [
    "### **47** - Crie um programa que mopstre na tela **todos os numeros pares** que estão no intervalo de 1 e 50."
   ]
  }
 ],
 "metadata": {
  "language_info": {
   "name": "python"
  }
 },
 "nbformat": 4,
 "nbformat_minor": 2
}
