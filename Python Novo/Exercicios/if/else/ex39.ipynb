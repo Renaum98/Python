{
 "cells": [
  {
   "cell_type": "markdown",
   "metadata": {},
   "source": [
    "### **39** - Faça um programa que leia o ano de nascimento de um jovem e informe de acordo com a sua idade:\n",
    "\n",
    "-Se ele ainda vai se alistar ao serviço militar\n",
    "\n",
    "-Se é a hora de se alistar\n",
    "\n",
    "-Se ja passou do tempo do alistamento.\n",
    "\n",
    "Seu programa tambem devera mostrar o tempo que falta ou que passou do prazo."
   ]
  },
  {
   "cell_type": "code",
   "execution_count": 8,
   "metadata": {},
   "outputs": [
    {
     "name": "stdout",
     "output_type": "stream",
     "text": [
      "Esta na hora de se alistar, compareça a um posto de atendimento para concluir\n",
      "Obrigado\n"
     ]
    }
   ],
   "source": [
    "from datetime import datetime\n",
    "ano = int(input('Digite sue ano de nascimento: '))\n",
    "ano_atual = datetime.now().year\n",
    "idade = ano_atual - ano\n",
    "\n",
    "if idade < 16:\n",
    "    print('Você ainda não prescisa se alistar')\n",
    "    print('Faltam {} anos'.format(18-idade))\n",
    "elif idade >= 16 and idade <= 18:\n",
    "    print('Esta na hora de se alistar, compareça a um posto de atendimento para concluir')\n",
    "else:\n",
    "    print('Ja passou da hora de se alistar, procure um posto urgente')\n",
    "    print('Voce esta {} anos atrasado'.format(idade - 18))\n",
    "print('Obrigado')"
   ]
  }
 ],
 "metadata": {
  "kernelspec": {
   "display_name": "Python 3",
   "language": "python",
   "name": "python3"
  },
  "language_info": {
   "codemirror_mode": {
    "name": "ipython",
    "version": 3
   },
   "file_extension": ".py",
   "mimetype": "text/x-python",
   "name": "python",
   "nbconvert_exporter": "python",
   "pygments_lexer": "ipython3",
   "version": "3.11.9"
  }
 },
 "nbformat": 4,
 "nbformat_minor": 2
}
