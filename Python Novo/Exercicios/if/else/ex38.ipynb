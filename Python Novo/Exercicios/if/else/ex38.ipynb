{
 "cells": [
  {
   "cell_type": "markdown",
   "metadata": {},
   "source": [
    "### **38** - Escreva um programa que leia dois numeros inteiros e compare-os mostrando na tela uma mensagem:\n",
    "\n",
    "-O primeiro valor é maior\n",
    "\n",
    "-O segundo valor é maior\n",
    "\n",
    "-Não existe valor maior, os dois são iguais"
   ]
  },
  {
   "cell_type": "code",
   "execution_count": 4,
   "metadata": {},
   "outputs": [
    {
     "name": "stdout",
     "output_type": "stream",
     "text": [
      "Comparador de Numeros\n",
      "Valor digitado: 50\n",
      "Valor digitado: 100\n",
      "...Analisando...\n",
      "O segundo valor é maior que o primeiro\n"
     ]
    }
   ],
   "source": [
    "import time\n",
    "print('Comparador de Numeros')\n",
    "n1= int(input('Digite um numero inteiro: '))\n",
    "print('Valor digitado: {}'.format(n1))\n",
    "n2= int(input('Digite outro numero inteiro: '))\n",
    "print('Valor digitado: {}'.format(n2))\n",
    "\n",
    "print('...Analisando...')\n",
    "time.sleep(2)\n",
    "\n",
    "if n1 > n2:\n",
    "    print('O primeiro valor digitado é maior que o segundo')\n",
    "elif n2 > n1:\n",
    "    print('O segundo valor é maior que o primeiro')\n",
    "else:\n",
    "    print('Os dois valores são iguais')\n"
   ]
  }
 ],
 "metadata": {
  "kernelspec": {
   "display_name": "Python 3",
   "language": "python",
   "name": "python3"
  },
  "language_info": {
   "codemirror_mode": {
    "name": "ipython",
    "version": 3
   },
   "file_extension": ".py",
   "mimetype": "text/x-python",
   "name": "python",
   "nbconvert_exporter": "python",
   "pygments_lexer": "ipython3",
   "version": "3.11.9"
  }
 },
 "nbformat": 4,
 "nbformat_minor": 2
}
