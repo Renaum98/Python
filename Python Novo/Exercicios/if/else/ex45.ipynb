{
 "cells": [
  {
   "cell_type": "markdown",
   "metadata": {},
   "source": [
    "### **45** - Crie um programa que faça o computador jogar jokenpo com você.*\n",
    "\n",
    "Pedra: 🪨\n",
    "\n",
    "Papel: 📄\n",
    "\n",
    "Tesoura: ✂️"
   ]
  },
  {
   "cell_type": "code",
   "execution_count": 41,
   "metadata": {},
   "outputs": [
    {
     "name": "stdout",
     "output_type": "stream",
     "text": [
      "Vamos Jogar Jokenpo\n",
      "__________________________________________________\n",
      "\n",
      "Você escolheu Pedra e o computador escolheu Papel\n",
      "__________________________________________________\n",
      "Você perdeu\n",
      "Tente novamente\n",
      "Obrigado por testar\n"
     ]
    }
   ],
   "source": [
    "import random\n",
    "print('Vamos Jogar Jokenpo')\n",
    "lista = ['Pedra', 'Papel', 'Tesoura']\n",
    "pc = random.choice(lista)\n",
    "user = input('Escolha entre Pedra, Papel ou Tesoura: ').capitalize()\n",
    "\n",
    "\n",
    "if user not in lista:\n",
    "    print('Escolha um valor valido')\n",
    "else:    \n",
    "    print('_'*50)\n",
    "    print('\\nVocê escolheu {} e o computador escolheu {}'.format(user,pc))\n",
    "    print('_'*50)\n",
    "    \n",
    "    if (user == 'Pedra' and pc == 'Tesoura') or (user == 'Papel' and pc == 'Pedra') or (user == 'Tesoura' and pc == 'Papel'):\n",
    "        print('Parabens, você venceu')\n",
    "    #se empatar\n",
    "    \n",
    "    elif user == pc:\n",
    "        print('Foi um empate')\n",
    "    \n",
    "    else:\n",
    "        print('Você perdeu')\n",
    "        print('Tente novamente')\n",
    "\n",
    "    print('Obrigado por testar')\n"
   ]
  },
  {
   "cell_type": "markdown",
   "metadata": {},
   "source": [
    "### *Codigo com emojis*"
   ]
  },
  {
   "cell_type": "code",
   "execution_count": 48,
   "metadata": {},
   "outputs": [
    {
     "name": "stdout",
     "output_type": "stream",
     "text": [
      "Vamos Jogar Jokenpô\n",
      "Escolha um valor válido entre Pedra, Papel ou Tesoura.\n"
     ]
    }
   ],
   "source": [
    "import random\n",
    "\n",
    "# Definindo as opções com emojis\n",
    "pedra = '🪨'\n",
    "papel = '📄'\n",
    "tesoura = '✂️'\n",
    "\n",
    "# Lista de opções em formato de emoji\n",
    "lista = [pedra, papel, tesoura]\n",
    "\n",
    "print('Vamos Jogar Jokenpô')\n",
    "# Escolha do computador\n",
    "pc = random.choice(lista)\n",
    "\n",
    "# Escolha do usuário com verificação de entrada válida\n",
    "user = input(f'Escolha entre {pedra}, {papel} ou {tesoura}: ').capitalize()\n",
    "\n",
    "# Verificando se a escolha do usuário é válida\n",
    "if user not in ['Pedra', 'Papel', 'Tesoura']:\n",
    "    print('Escolha um valor válido entre Pedra, Papel ou Tesoura.')\n",
    "else:\n",
    "    # Convertendo a escolha do usuário para emoji\n",
    "    if user == 'Pedra':\n",
    "        user_emoji = pedra\n",
    "    elif user == 'Papel':\n",
    "        user_emoji = papel\n",
    "    else:\n",
    "        user_emoji = tesoura\n",
    "    \n",
    "    # Convertendo a escolha do computador para emoji\n",
    "    if pc == pedra:\n",
    "        pc_emoji = pedra\n",
    "    elif pc == papel:\n",
    "        pc_emoji = papel\n",
    "    else:\n",
    "        pc_emoji = tesoura\n",
    "\n",
    "    print('_'*45)\n",
    "    print(f'\\nVocê escolheu {user_emoji} e o computador escolheu {pc_emoji}')\n",
    "    print('_'*45)\n",
    "\n",
    "    # Verificando quem venceu\n",
    "    if user_emoji == pc_emoji:\n",
    "        print('Foi um empate!')\n",
    "    elif (user_emoji == pedra and pc_emoji == tesoura) or (user_emoji == papel and pc_emoji == pedra) or (user_emoji == tesoura and pc_emoji == papel):\n",
    "        print('Parabéns, você venceu!')\n",
    "    else:\n",
    "        print('Você perdeu!')\n",
    "\n",
    "    print('Obrigado por jogar!')\n"
   ]
  }
 ],
 "metadata": {
  "kernelspec": {
   "display_name": "Python 3",
   "language": "python",
   "name": "python3"
  },
  "language_info": {
   "codemirror_mode": {
    "name": "ipython",
    "version": 3
   },
   "file_extension": ".py",
   "mimetype": "text/x-python",
   "name": "python",
   "nbconvert_exporter": "python",
   "pygments_lexer": "ipython3",
   "version": "3.12.5"
  }
 },
 "nbformat": 4,
 "nbformat_minor": 2
}
