{
 "cells": [
  {
   "cell_type": "markdown",
   "metadata": {},
   "source": [
    "### **56** - Desenvova um programa que leia o nome, idade e sexo de 4 pessoas.No final do programa mostre:\n",
    "\n",
    "-A media de idade do grupo\n",
    "\n",
    "-Qual é o nome do homem mais velho.\n",
    "\n",
    "-Quantas mulheres tem menos de 20 anos.\n"
   ]
  },
  {
   "cell_type": "code",
   "execution_count": 1,
   "metadata": {},
   "outputs": [
    {
     "ename": "ValueError",
     "evalue": "invalid literal for int() with base 10: ''",
     "output_type": "error",
     "traceback": [
      "\u001b[1;31m---------------------------------------------------------------------------\u001b[0m",
      "\u001b[1;31mValueError\u001b[0m                                Traceback (most recent call last)",
      "Cell \u001b[1;32mIn[1], line 5\u001b[0m\n\u001b[0;32m      2\u001b[0m media_idade \u001b[38;5;241m=\u001b[39m soma_idade \u001b[38;5;241m/\u001b[39m \u001b[38;5;241m4\u001b[39m\n\u001b[0;32m      3\u001b[0m \u001b[38;5;28;01mfor\u001b[39;00m i \u001b[38;5;129;01min\u001b[39;00m \u001b[38;5;28mrange\u001b[39m(\u001b[38;5;241m4\u001b[39m):\n\u001b[0;32m      4\u001b[0m     \u001b[38;5;66;03m#nome = str(input('Digite seu nome: '))\u001b[39;00m\n\u001b[1;32m----> 5\u001b[0m     idade \u001b[38;5;241m=\u001b[39m \u001b[38;5;28;43mint\u001b[39;49m\u001b[43m(\u001b[49m\u001b[38;5;28;43minput\u001b[39;49m\u001b[43m(\u001b[49m\u001b[38;5;124;43m'\u001b[39;49m\u001b[38;5;124;43mDigite sua idade: \u001b[39;49m\u001b[38;5;124;43m'\u001b[39;49m\u001b[43m)\u001b[49m\u001b[43m)\u001b[49m\n\u001b[0;32m      6\u001b[0m     \u001b[38;5;66;03m#sexo = str(input('Digite seu sexo: '))\u001b[39;00m\n\u001b[0;32m      8\u001b[0m     soma_idade \u001b[38;5;241m=\u001b[39m idade\n",
      "\u001b[1;31mValueError\u001b[0m: invalid literal for int() with base 10: ''"
     ]
    }
   ],
   "source": [
    "soma_idade = 0\n",
    "media_idade = soma_idade / 4\n",
    "for i in range(4):\n",
    "    #nome = str(input('Digite seu nome: '))\n",
    "    idade = int(input('Digite sua idade: '))\n",
    "    #sexo = str(input('Digite seu sexo: '))\n",
    "    \n",
    "    soma_idade = idade\n",
    "    soma_idade = soma_idade + i\n",
    "    print(soma_idade)\n",
    "\n",
    "media_idade = soma_idade / 4\n",
    "print(media_idade)\n"
   ]
  },
  {
   "cell_type": "markdown",
   "metadata": {},
   "source": [
    "### Correção"
   ]
  },
  {
   "cell_type": "code",
   "execution_count": 9,
   "metadata": {},
   "outputs": [
    {
     "name": "stdout",
     "output_type": "stream",
     "text": [
      "----1ª Pessoa----\n",
      "Nome: Renan\n",
      "Idade: 19\n",
      "Sexo:m\n",
      "----2ª Pessoa----\n",
      "Nome: Andreia\n",
      "Idade: 25\n",
      "Sexo:f\n",
      "----3ª Pessoa----\n",
      "Nome: Paula\n",
      "Idade: 45\n",
      "Sexo:f\n",
      "----4ª Pessoa----\n",
      "Nome: Marcos\n",
      "Idade: 52\n",
      "Sexo:m\n",
      "A média de idade do grupo é 35.25 anos\n",
      "O homem mais velho tem 52 anos e se chama Marcos\n",
      "Ao todo são 0 mulheres com menos de 20 anos\n"
     ]
    }
   ],
   "source": [
    "s_idade=0\n",
    "m_idade=0\n",
    "maior_idade_homem = 0\n",
    "nomevelho = ''\n",
    "totmulher20 = 0\n",
    "for p in range(1,5):\n",
    "    print('----{}ª Pessoa----'.format(p))\n",
    "    nome = str(input('Nome: ')).strip().title()\n",
    "    print('Nome: {}'.format(nome))\n",
    "\n",
    "    idade = int(input('Idade: '))\n",
    "    print('Idade: {}'.format(idade))\n",
    "\n",
    "    sexo = str(input('Sexo[M/F]: ')).strip()\n",
    "    print('Sexo:{}'.format(sexo))\n",
    "\n",
    "    s_idade += idade\n",
    "    if p == 1 and sexo in 'Mm':\n",
    "        maior_idade_homem = idade\n",
    "        nomevelho = nome\n",
    "    if sexo in 'Mm' and idade > maior_idade_homem:\n",
    "        maior_idade_homem = idade\n",
    "        nomevelho = nome\n",
    "    if sexo in 'Ff' and idade < 20:\n",
    "        totmulher20 = totmulher20 + 1\n",
    "m_idade = s_idade / 4\n",
    "print('A média de idade do grupo é {} anos'.format(m_idade))\n",
    "print('O homem mais velho tem {} anos e se chama {}'.format(maior_idade_homem,nomevelho))\n",
    "print('Ao todo são {} mulheres com menos de 20 anos'.format(totmulher20))"
   ]
  }
 ],
 "metadata": {
  "kernelspec": {
   "display_name": "Python 3",
   "language": "python",
   "name": "python3"
  },
  "language_info": {
   "codemirror_mode": {
    "name": "ipython",
    "version": 3
   },
   "file_extension": ".py",
   "mimetype": "text/x-python",
   "name": "python",
   "nbconvert_exporter": "python",
   "pygments_lexer": "ipython3",
   "version": "3.12.5"
  }
 },
 "nbformat": 4,
 "nbformat_minor": 2
}
