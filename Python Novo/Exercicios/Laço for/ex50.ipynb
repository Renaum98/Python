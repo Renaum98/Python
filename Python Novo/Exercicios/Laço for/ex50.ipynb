{
 "cells": [
  {
   "cell_type": "markdown",
   "metadata": {},
   "source": [
    "### **50** - Desenvolva um programa que leia seis numeros inteiros e mostre a soma apenas daqueles que forem pares.Se o valor digitado for impar, desconsidere-o."
   ]
  },
  {
   "cell_type": "code",
   "execution_count": 3,
   "metadata": {},
   "outputs": [
    {
     "name": "stdout",
     "output_type": "stream",
     "text": [
      "Voce informou 3 numeros pares\n",
      "A soma é de : 136\n"
     ]
    }
   ],
   "source": [
    "so = 0\n",
    "cont = 0\n",
    "for num in range(1,7):\n",
    "    n = int(input('Digite um numero inteiro:'))\n",
    "    if n % 2 == 0:\n",
    "        cont+=1\n",
    "        so = so + n\n",
    "print('Voce informou {} numeros pares\\nA soma é de : {}'.format(cont,so))"
   ]
  }
 ],
 "metadata": {
  "kernelspec": {
   "display_name": "Python 3",
   "language": "python",
   "name": "python3"
  },
  "language_info": {
   "codemirror_mode": {
    "name": "ipython",
    "version": 3
   },
   "file_extension": ".py",
   "mimetype": "text/x-python",
   "name": "python",
   "nbconvert_exporter": "python",
   "pygments_lexer": "ipython3",
   "version": "3.12.5"
  }
 },
 "nbformat": 4,
 "nbformat_minor": 2
}
