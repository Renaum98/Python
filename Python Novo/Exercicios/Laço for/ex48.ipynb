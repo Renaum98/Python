{
 "cells": [
  {
   "cell_type": "markdown",
   "metadata": {},
   "source": [
    "### **48** - Faça um programa que calcule a **soma** entre todos os **numeros impares** que são multiplos de tres e que se encontram no intervao de 1 a 500."
   ]
  },
  {
   "cell_type": "code",
   "execution_count": 2,
   "metadata": {},
   "outputs": [
    {
     "name": "stdout",
     "output_type": "stream",
     "text": [
      "A soma de todos os 83 valores solicitados é de 20667\n"
     ]
    }
   ],
   "source": [
    "soma = 0 #é um acumulador\n",
    "cont = 0 #é um contador\n",
    "for c in range(1, 501 ,2):\n",
    "    if c % 3 == 0:\n",
    "        cont = cont + 1 #ou cont+=1\n",
    "        soma = soma + c #ou soma+=c\n",
    "print('A soma de todos os {} valores solicitados é de {}'.format(cont, soma))\n",
    "\n",
    "\n"
   ]
  }
 ],
 "metadata": {
  "kernelspec": {
   "display_name": "Python 3",
   "language": "python",
   "name": "python3"
  },
  "language_info": {
   "codemirror_mode": {
    "name": "ipython",
    "version": 3
   },
   "file_extension": ".py",
   "mimetype": "text/x-python",
   "name": "python",
   "nbconvert_exporter": "python",
   "pygments_lexer": "ipython3",
   "version": "3.12.5"
  }
 },
 "nbformat": 4,
 "nbformat_minor": 2
}
