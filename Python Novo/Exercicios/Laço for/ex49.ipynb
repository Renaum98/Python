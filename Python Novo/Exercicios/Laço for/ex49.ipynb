{
 "cells": [
  {
   "cell_type": "markdown",
   "metadata": {},
   "source": [
    "### **49** - Refaça o desafio 009, mostrando a tabuada de um numero que o usuario escoher, so que agora utilizando um laço for. "
   ]
  },
  {
   "cell_type": "code",
   "execution_count": 1,
   "metadata": {},
   "outputs": [
    {
     "name": "stdout",
     "output_type": "stream",
     "text": [
      "4 x 1 = 4\n",
      "___________\n",
      "4 x 2 = 8\n",
      "___________\n",
      "4 x 3 = 12\n",
      "___________\n",
      "4 x 4 = 16\n",
      "___________\n",
      "4 x 5 = 20\n",
      "___________\n",
      "4 x 6 = 24\n",
      "___________\n",
      "4 x 7 = 28\n",
      "___________\n",
      "4 x 8 = 32\n",
      "___________\n",
      "4 x 9 = 36\n",
      "___________\n",
      "4 x 10 = 40\n",
      "___________\n",
      "Fim\n"
     ]
    }
   ],
   "source": [
    "n = int(input('Digite um número inteiro: '))\n",
    "for c in range(1, 11):\n",
    "    print('{} x {} = {}'.format(n, c, n * c))\n",
    "    print('_' * 11)\n",
    "print('Fim')"
   ]
  }
 ],
 "metadata": {
  "kernelspec": {
   "display_name": "Python 3",
   "language": "python",
   "name": "python3"
  },
  "language_info": {
   "codemirror_mode": {
    "name": "ipython",
    "version": 3
   },
   "file_extension": ".py",
   "mimetype": "text/x-python",
   "name": "python",
   "nbconvert_exporter": "python",
   "pygments_lexer": "ipython3",
   "version": "3.11.9"
  }
 },
 "nbformat": 4,
 "nbformat_minor": 2
}
