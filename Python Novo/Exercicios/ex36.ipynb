{
 "cells": [
  {
   "cell_type": "markdown",
   "metadata": {},
   "source": [
    "36 - Escreva um programa para aprovar o emprestimo bancario para a compra de uma casa.O programa vai perguntar o valor da casa, o salario do comprador e em quantos anos ele vai pagar.\n",
    "\n",
    "Calcule o valor da prestação mensal, sabendo que ele não pode exceder 30% do salario ou então o emprestimo sera negado."
   ]
  }
 ],
 "metadata": {
  "language_info": {
   "name": "python"
  }
 },
 "nbformat": 4,
 "nbformat_minor": 2
}
