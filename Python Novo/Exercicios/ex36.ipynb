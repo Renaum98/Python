{
 "cells": [
  {
   "cell_type": "markdown",
   "metadata": {},
   "source": [
    "### **36** - Escreva um programa para aprovar o emprestimo bancario para a compra de uma casa.O programa vai perguntar o valor da casa, o salario do comprador e em quantos anos ele vai pagar.\n",
    "\n",
    "Calcule o valor da prestação mensal, sabendo que ele não pode exceder 30% do salario ou então o emprestimo sera negado."
   ]
  },
  {
   "cell_type": "code",
   "execution_count": 11,
   "metadata": {},
   "outputs": [
    {
     "name": "stdout",
     "output_type": "stream",
     "text": [
      "Emprestimo para a  compra de Imovel\n",
      "o valor pago por mês sera R$454.55\n",
      "Parabens, o crédito foi aprovado.\n"
     ]
    }
   ],
   "source": [
    "print('Emprestimo para a compra de Imovel')\n",
    "v_casa = float(input('Digite o valor total da casa que deseja comprar: '))\n",
    "s_comprador = float(input('Digite seu salario mensal: '))\n",
    "tempo_p = int(input('Em quantos anos deseja pagar: '))\n",
    "valor_mes = (v_casa / tempo_p)/12\n",
    "s_limite = s_comprador*30/100\n",
    "\n",
    "print('o valor pago por mês sera R${:.2f}'.format(valor_mes))\n",
    "\n",
    "if valor_mes > s_limite:\n",
    "    print('Infelizmente seu rendimento mensal não é o suficiente para a compra da casa')\n",
    "else:\n",
    "    print('Parabens, o crédito foi aprovado.')\n"
   ]
  }
 ],
 "metadata": {
  "kernelspec": {
   "display_name": "Python 3",
   "language": "python",
   "name": "python3"
  },
  "language_info": {
   "codemirror_mode": {
    "name": "ipython",
    "version": 3
   },
   "file_extension": ".py",
   "mimetype": "text/x-python",
   "name": "python",
   "nbconvert_exporter": "python",
   "pygments_lexer": "ipython3",
   "version": "3.11.9"
  }
 },
 "nbformat": 4,
 "nbformat_minor": 2
}
