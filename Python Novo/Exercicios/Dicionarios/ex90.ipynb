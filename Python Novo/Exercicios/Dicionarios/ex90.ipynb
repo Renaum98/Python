{
 "cells": [
  {
   "cell_type": "markdown",
   "metadata": {},
   "source": [
    "### **90** - Faça um programa que leia o nome e a media de um aluno, guandando tambem a situação em um dicionario. No final mostre o conteudo na tela."
   ]
  },
  {
   "cell_type": "code",
   "execution_count": 5,
   "metadata": {},
   "outputs": [
    {
     "name": "stdout",
     "output_type": "stream",
     "text": [
      "Nome é igual a Ana\n",
      "Media é igual a 2.0\n",
      "Situação é igual a Reprovado\n"
     ]
    }
   ],
   "source": [
    "aluno = {'Nome':input('Nome: ').title(),\n",
    "         'Media':float(input('Média: '))}\n",
    "if aluno['Media'] > 6:\n",
    "    aluno['Situação'] = 'Aprovado'\n",
    "else:\n",
    "    aluno['Situação'] = 'Reprovado'\n",
    "for k, v in aluno.items():\n",
    "    print(f'{k} é igual a {v}')\n"
   ]
  }
 ],
 "metadata": {
  "kernelspec": {
   "display_name": "Python 3",
   "language": "python",
   "name": "python3"
  },
  "language_info": {
   "codemirror_mode": {
    "name": "ipython",
    "version": 3
   },
   "file_extension": ".py",
   "mimetype": "text/x-python",
   "name": "python",
   "nbconvert_exporter": "python",
   "pygments_lexer": "ipython3",
   "version": "3.12.5"
  }
 },
 "nbformat": 4,
 "nbformat_minor": 2
}
