{
 "cells": [
  {
   "cell_type": "markdown",
   "metadata": {},
   "source": [
    "### **95** - Aprimore o **Desafio 93** para que ele funcione com varios jogadores incluindo um sistema de vizualização de detalhes do aproveitamento de cada jogador."
   ]
  },
  {
   "cell_type": "code",
   "execution_count": 34,
   "metadata": {},
   "outputs": [
    {
     "name": "stdout",
     "output_type": "stream",
     "text": [
      "cod nome       gols                total\n",
      "----------------------------------------\n",
      "0 - Renan      [1, 4]                    2\n",
      "----------------------------------------\n"
     ]
    },
    {
     "ename": "ValueError",
     "evalue": "invalid literal for int() with base 10: ''",
     "output_type": "error",
     "traceback": [
      "\u001b[1;31m---------------------------------------------------------------------------\u001b[0m",
      "\u001b[1;31mValueError\u001b[0m                                Traceback (most recent call last)",
      "Cell \u001b[1;32mIn[34], line 29\u001b[0m\n\u001b[0;32m     27\u001b[0m \u001b[38;5;28mprint\u001b[39m(\u001b[38;5;124m'\u001b[39m\u001b[38;5;124m-\u001b[39m\u001b[38;5;124m'\u001b[39m\u001b[38;5;241m*\u001b[39m\u001b[38;5;241m40\u001b[39m)\n\u001b[0;32m     28\u001b[0m \u001b[38;5;28;01mwhile\u001b[39;00m \u001b[38;5;28;01mTrue\u001b[39;00m:\n\u001b[1;32m---> 29\u001b[0m     selec\u001b[38;5;241m=\u001b[39m \u001b[38;5;28;43mint\u001b[39;49m\u001b[43m(\u001b[49m\u001b[38;5;28;43minput\u001b[39;49m\u001b[43m(\u001b[49m\u001b[38;5;124;43m'\u001b[39;49m\u001b[38;5;124;43mMostrar dados de qual jogador? (999 interrompe)\u001b[39;49m\u001b[38;5;124;43m'\u001b[39;49m\u001b[43m)\u001b[49m\u001b[43m)\u001b[49m\n\u001b[0;32m     30\u001b[0m     \u001b[38;5;28;01mif\u001b[39;00m selec \u001b[38;5;241m<\u001b[39m \u001b[38;5;28mlen\u001b[39m(cadastro):\n\u001b[0;32m     31\u001b[0m         \u001b[38;5;28mprint\u001b[39m(\u001b[38;5;124m'\u001b[39m\u001b[38;5;124m-- LEVANTAMENTO JO JOGADOR \u001b[39m\u001b[38;5;132;01m{}\u001b[39;00m\u001b[38;5;124m: \u001b[39m\u001b[38;5;124m'\u001b[39m)\n",
      "\u001b[1;31mValueError\u001b[0m: invalid literal for int() with base 10: ''"
     ]
    }
   ],
   "source": [
    "tabela = {}\n",
    "jogos = []\n",
    "cadastro = []\n",
    "\n",
    "while True:\n",
    "    tabela['nome']= input('nome: ').title()\n",
    "    tabela['total'] = int(input(f'Quantas partidas {tabela['nome']} jogou? '))\n",
    "    \n",
    "    for c in range(0,tabela['total']):\n",
    "        gols = int(input(f'Quantos gols no jogo {c+1} '))\n",
    "        jogos.append(gols)\n",
    "\n",
    "    tabela['gols'] = jogos[:]\n",
    "\n",
    "\n",
    "    cadastro.append(tabela.copy())\n",
    "    jogos.clear()\n",
    "    continuar = ' '\n",
    "    while continuar not in 'S,N':\n",
    "        continuar = input('Deseja continuar? [S/N]').upper()[0]\n",
    "    if continuar in 'N':\n",
    "        break\n",
    "print(f'{\"cod\":<} {\"nome\":<10} {\"gols\"} {\"total\":>20}')\n",
    "print('-'*40)\n",
    "for n, c in enumerate(cadastro):\n",
    "    print(f'{n:<} - {c[\"nome\"]:<10} {c[\"gols\"]} {c[\"total\"]:>20}')\n",
    "print('-'*40)\n",
    "while True:\n",
    "    selec= int(input('Mostrar dados de qual jogador? (999 interrompe)'))\n",
    "    if selec < len(cadastro):\n",
    "        print('-- LEVANTAMENTO JO JOGADOR {}: ')\n",
    "        for k, c in cadastro['gols'].items():\n",
    "            print(f'  No jogo {k} fez {c} gols.')\n",
    "    if selec == 999:\n",
    "        break\n",
    "    else:\n",
    "        print(f'Não existe jogador com o codigo {selec}, Tente novamente')"
   ]
  }
 ],
 "metadata": {
  "kernelspec": {
   "display_name": "Python 3",
   "language": "python",
   "name": "python3"
  },
  "language_info": {
   "codemirror_mode": {
    "name": "ipython",
    "version": 3
   },
   "file_extension": ".py",
   "mimetype": "text/x-python",
   "name": "python",
   "nbconvert_exporter": "python",
   "pygments_lexer": "ipython3",
   "version": "3.12.5"
  }
 },
 "nbformat": 4,
 "nbformat_minor": 2
}
