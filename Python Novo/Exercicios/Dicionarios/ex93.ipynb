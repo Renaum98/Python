{
 "cells": [
  {
   "cell_type": "markdown",
   "metadata": {},
   "source": [
    "### **93** - Crie um programa que gerencie o aproveitamento de um jogador de futebol.O programa vai ler o nome do jogador e quantas partidas ele jogou.Depois vai ler a quantidade de gols feitos em cada partida.No final isso sera guardado em um dicionario,incluindo o total de gols feitos durante o campeonato."
   ]
  },
  {
   "cell_type": "code",
   "execution_count": 14,
   "metadata": {},
   "outputs": [
    {
     "name": "stdout",
     "output_type": "stream",
     "text": [
      "-=-=-=-=-=-=-=-=-=-=-=-=-=-=-=-=-=-=-=-=-=-=-=-=-=-=-=-=-=-=\n",
      "{'nome': 'Andre', 'total': 3, 'gols': [0, 1, 0]}\n",
      "-=-=-=-=-=-=-=-=-=-=-=-=-=-=-=-=-=-=-=-=-=-=-=-=-=-=-=-=-=-=\n",
      "nome tem o valor Andre\n",
      "total tem o valor 3\n",
      "gols tem o valor [0, 1, 0]\n",
      "-=-=-=-=-=-=-=-=-=-=-=-=-=-=-=-=-=-=-=-=-=-=-=-=-=-=-=-=-=-=\n",
      "O jogador Andre jogou 3 partidas\n",
      "  ➡️   Na partida 1, fez 0 gols\n",
      "  ➡️   Na partida 2, fez 1 gols\n",
      "  ➡️   Na partida 3, fez 0 gols\n",
      "Foi um total de 1 gols.\n"
     ]
    }
   ],
   "source": [
    "tabela = {}\n",
    "jogos = []\n",
    "tabela['nome']= input('nome: ').title()\n",
    "tabela['total'] = int(input(f'Quantas partidas {tabela['nome']} jogou? '))\n",
    "for c in range(0,tabela['total']):\n",
    "    gols = int(input(f'Quantos gols no jogo {c+1} '))\n",
    "    jogos.append(gols)\n",
    "tabela['gols'] = jogos\n",
    "print('-='*30)\n",
    "print(tabela)\n",
    "print('-='*30)\n",
    "for k, v in tabela.items():\n",
    "    print(f'{k} tem o valor {v}')\n",
    "print('-='*30)\n",
    "print(f'O jogador {tabela[\"nome\"]} jogou {tabela[\"total\"]} partidas')\n",
    "for cont, val in enumerate(jogos):\n",
    "    print(f'  ➡️   Na partida {cont+1}, fez {val} gols')\n",
    "print(f'Foi um total de {sum(jogos)} gols.')"
   ]
  },
  {
   "cell_type": "code",
   "execution_count": null,
   "metadata": {},
   "outputs": [
    {
     "name": "stdout",
     "output_type": "stream",
     "text": [
      "-=-=-=-=-=-=-=-=-=-=-=-=-=-=-=-=-=-=-=-=-=-=-=-=-=-=-=-=-=-=\n",
      "{'nome': 'Andre', 'gols': [2, 4, 5, 0], 'total': 11}\n",
      "-=-=-=-=-=-=-=-=-=-=-=-=-=-=-=-=-=-=-=-=-=-=-=-=-=-=-=-=-=-=\n",
      "O campo nome tem o valor Andre\n",
      "O campo gols tem o valor [2, 4, 5, 0]\n",
      "O campo total tem o valor 11\n",
      "-=-=-=-=-=-=-=-=-=-=-=-=-=-=-=-=-=-=-=-=-=-=-=-=-=-=-=-=-=-=\n",
      "O jogador Andre jogou 4 partidas\n",
      "  ➡️   Na partida 1, fez 2 gols\n",
      "  ➡️   Na partida 2, fez 4 gols\n",
      "  ➡️   Na partida 3, fez 5 gols\n",
      "  ➡️   Na partida 4, fez 0 gols\n",
      "Total de gols foi 11 \n"
     ]
    }
   ],
   "source": [
    "jogador = {}\n",
    "partidas = []\n",
    "jogador['nome'] = input('Nome do jogador: ').title()\n",
    "tot = int(input(f'Quantas partidas {jogador['nome']} jogou?'))\n",
    "for c in range(0,tot):\n",
    "    partidas.append(int(input(f'  Quantos gols na partida {c+1}?')))\n",
    "jogador['gols'] = partidas[:]\n",
    "jogador['total'] = sum(partidas)\n",
    "print('-='*30)\n",
    "print(jogador)\n",
    "print('-='*30)\n",
    "for k, v in jogador.items():\n",
    "    print(f'O campo {k} tem o valor {v}')\n",
    "print('-='*30)\n",
    "print(f'O jogador {jogador[\"nome\"]} jogou {tot} partidas')\n",
    "for c, g in enumerate(partidas):\n",
    "    print(f'  ➡️   Na partida {c+1}, fez {g} gols')\n",
    "print(f'Total de gols foi {jogador[\"total\"]} ')"
   ]
  }
 ],
 "metadata": {
  "kernelspec": {
   "display_name": "Python 3",
   "language": "python",
   "name": "python3"
  },
  "language_info": {
   "codemirror_mode": {
    "name": "ipython",
    "version": 3
   },
   "file_extension": ".py",
   "mimetype": "text/x-python",
   "name": "python",
   "nbconvert_exporter": "python",
   "pygments_lexer": "ipython3",
   "version": "3.12.5"
  }
 },
 "nbformat": 4,
 "nbformat_minor": 2
}
