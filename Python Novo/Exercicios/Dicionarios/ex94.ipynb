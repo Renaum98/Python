{
 "cells": [
  {
   "cell_type": "markdown",
   "metadata": {},
   "source": [
    "### **94** - Crie um programa que leia nome,sexo e idade de varias pessoas, guardando os dados de cada pessoa em um dicionario e todos os dicionarios em uma lista.No final mostre:\n",
    "\n",
    "-Quantas pessoas foram cadastradas\n",
    "\n",
    "-A media de idade do grupo\n",
    "\n",
    "-Uma lista com todas as mulheres.\n",
    "\n",
    "-Uma lista com todas as pessoas com idade acima da media"
   ]
  },
  {
   "cell_type": "code",
   "execution_count": 10,
   "metadata": {},
   "outputs": [
    {
     "name": "stdout",
     "output_type": "stream",
     "text": [
      "-=-=-=-=-=-=-=-=-=-=-=-=-=-=-=-=-=-=-=-=-=-=-=-=-=-=-=-=-=-=\n",
      "- O grupo tem 5 pessoas\n",
      "- A média de idade é de 35.0 anos\n",
      "- As mulheres cadastradas foram: Maria  Paulo  \n",
      "Lista das pessoas que estão acima da média: \n",
      "nome = Maria; sexo = F; idade = 41; \n",
      "nome = Andre; sexo = M; idade = 80; \n",
      "<< ENCERRADO >>\n"
     ]
    }
   ],
   "source": [
    "cad_total = []\n",
    "cadastro = {}\n",
    "mulheres = []\n",
    "maior_media = {}\n",
    "media_idade = total_p = idade = 0\n",
    "while True:\n",
    "    cadastro['nome'] = input('Nome: ').title()\n",
    "    cadastro['sexo'] = input('Sexo: ').upper()[0]\n",
    "    cadastro['idade'] = int(input('Idade: '))\n",
    "    if cadastro['sexo'] in 'F':\n",
    "        mulheres.append(cadastro.copy())\n",
    "    idade += cadastro['idade']\n",
    "    total_p +=1\n",
    "\n",
    "    cad_total.append(cadastro.copy())\n",
    "    continuar = ' '\n",
    "    while continuar not in 'S,N':\n",
    "        continuar = input('Quer continuar? [S/N]').upper()[0]\n",
    "    \n",
    "    if continuar in 'N':\n",
    "        break\n",
    "media_idade = idade / total_p\n",
    "\n",
    "print('-='*30)\n",
    "print(f'- O grupo tem {total_p} pessoas')\n",
    "print(f'- A média de idade é de {media_idade} anos')\n",
    "print('- As mulheres cadastradas foram: ',end='')\n",
    "for m in mulheres:\n",
    "    print(f'{m['nome']} ',end=' ')\n",
    "print()\n",
    "print(f'Lista das pessoas que estão acima da média: ')\n",
    "for i in cad_total:\n",
    "    if i['idade'] > media_idade:\n",
    "        maior_media = i\n",
    "        for k, v in maior_media.items():\n",
    "            print(f'{k} = {v}; ', end='')\n",
    "        print()\n",
    "print('<<','ENCERRADO','>>')"
   ]
  }
 ],
 "metadata": {
  "kernelspec": {
   "display_name": "Python 3",
   "language": "python",
   "name": "python3"
  },
  "language_info": {
   "codemirror_mode": {
    "name": "ipython",
    "version": 3
   },
   "file_extension": ".py",
   "mimetype": "text/x-python",
   "name": "python",
   "nbconvert_exporter": "python",
   "pygments_lexer": "ipython3",
   "version": "3.12.5"
  }
 },
 "nbformat": 4,
 "nbformat_minor": 2
}
