{
 "cells": [
  {
   "cell_type": "markdown",
   "metadata": {},
   "source": [
    "### **91** - Crie um programa onde 4 jogadores joguem um dado e tenha resultados aleatorios.Guarde esses resultados em um dicionario.No final coloque esse dicionario em ordem sabendo que o vencedor tirou o maior numero do dado."
   ]
  },
  {
   "cell_type": "markdown",
   "metadata": {},
   "source": [
    "# CORRIGIR"
   ]
  },
  {
   "cell_type": "code",
   "execution_count": 38,
   "metadata": {},
   "outputs": [
    {
     "name": "stdout",
     "output_type": "stream",
     "text": [
      "      Valores Sorteados       \n",
      "::::::::::::::::::::::::::::::\n",
      "O jogador 1 tirou 6\n",
      "O jogador 2 tirou 4\n",
      "O jogador 3 tirou 2\n",
      "O jogador 4 tirou 5\n",
      "::::::::::::::::::::::::::::::\n",
      "O jogador 1 venceu com 6 pontos\n"
     ]
    }
   ],
   "source": [
    "from random import randint\n",
    "from time import sleep\n",
    "maior = 0\n",
    "jogadores = {}\n",
    "\n",
    "jogadores['jogador 1'] = randint(1,6)\n",
    "jogadores['jogador 2'] = randint(1,6)\n",
    "jogadores['jogador 3'] = randint(1,6)\n",
    "jogadores['jogador 4'] = randint(1,6)\n",
    "print(f'{\"Valores Sorteados\":^30}')\n",
    "print(':'*30,)\n",
    "for k, v in jogadores.items():\n",
    "    if v > maior:\n",
    "        maior = v\n",
    "    sleep(.5)\n",
    "    print(f'O {k} tirou {v}')\n",
    "\n",
    "print(':'*30,)\n",
    "\n",
    "for k, v in jogadores.items():\n",
    "    if maior == v:\n",
    "        print(f'O {k} venceu com {maior} pontos')"
   ]
  }
 ],
 "metadata": {
  "kernelspec": {
   "display_name": "Python 3",
   "language": "python",
   "name": "python3"
  },
  "language_info": {
   "codemirror_mode": {
    "name": "ipython",
    "version": 3
   },
   "file_extension": ".py",
   "mimetype": "text/x-python",
   "name": "python",
   "nbconvert_exporter": "python",
   "pygments_lexer": "ipython3",
   "version": "3.12.5"
  }
 },
 "nbformat": 4,
 "nbformat_minor": 2
}
