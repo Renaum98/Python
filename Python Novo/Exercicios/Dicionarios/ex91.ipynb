{
 "cells": [
  {
   "cell_type": "markdown",
   "metadata": {},
   "source": [
    "### **91** - Crie um programa onde 4 jogadores joguem um dado e tenha resultados aleatorios.Guarde esses resultados em um dicionario.No final coloque esse dicionario em ordem sabendo que o vencedor tirou o maior numero do dado."
   ]
  },
  {
   "cell_type": "code",
   "execution_count": 43,
   "metadata": {},
   "outputs": [
    {
     "name": "stdout",
     "output_type": "stream",
     "text": [
      "      Valores Sorteados       \n",
      "::::::::::::::::::::::::::::::\n",
      "O jogador 1 tirou 5\n",
      "O jogador 2 tirou 4\n",
      "O jogador 3 tirou 4\n",
      "O jogador 4 tirou 6\n",
      "::::::::::::::::::::::::::::::\n",
      "O jogador 4 venceu com 6 pontos\n"
     ]
    }
   ],
   "source": [
    "from random import randint\n",
    "from time import sleep\n",
    "maior = 0\n",
    "jogadores = {}\n",
    "\n",
    "jogadores['jogador 1'] = randint(1,6)\n",
    "jogadores['jogador 2'] = randint(1,6)\n",
    "jogadores['jogador 3'] = randint(1,6)\n",
    "jogadores['jogador 4'] = randint(1,6)\n",
    "print(f'{\"Valores Sorteados\":^30}')\n",
    "print(':'*30,)\n",
    "for k, v in jogadores.items():\n",
    "    if v > maior:\n",
    "        maior = v\n",
    "    print(f'O {k} tirou {v}')\n",
    "    sleep(.5)\n",
    "\n",
    "print(':'*30,)\n",
    "\n",
    "for k, v in jogadores.items():\n",
    "    if maior == v:\n",
    "        print(f'O {k} venceu com {maior} pontos')"
   ]
  },
  {
   "cell_type": "code",
   "execution_count": 46,
   "metadata": {},
   "outputs": [
    {
     "name": "stdout",
     "output_type": "stream",
     "text": [
      "Valores Sorteados: \n",
      "::::::::::::::::::::::::::::::\n",
      "  O jogador1 tirou 5\n",
      "  O jogador2 tirou 6\n",
      "  O jogador3 tirou 3\n",
      "  O jogador4 tirou 5\n",
      "::::::::::::::::::::::::::::::\n",
      "== RANKING DOS JOGADORES ==\n",
      "  1º lugar: jogador2 com 6\n",
      "  2º lugar: jogador1 com 5\n",
      "  3º lugar: jogador4 com 5\n",
      "  4º lugar: jogador3 com 3\n"
     ]
    }
   ],
   "source": [
    "from random import randint\n",
    "from time import sleep\n",
    "from operator import itemgetter\n",
    "jogo = {'jogador1':randint(1, 6),\n",
    "        'jogador2':randint(1, 6),\n",
    "        'jogador3':randint(1, 6),\n",
    "        'jogador4':randint(1, 6)}\n",
    "ranking = []\n",
    "print('Valores Sorteados: ')\n",
    "print(\":\"*30)\n",
    "for k, V in jogo.items():\n",
    "    print(f'  O {k} tirou {V}')\n",
    "    sleep(.5)\n",
    "print(\":\"*30)\n",
    "ranking = sorted(jogo.items(), key=itemgetter(1), reverse = True )\n",
    "print('== RANKING DOS JOGADORES ==')\n",
    "for c, j in enumerate(ranking):\n",
    "    print(f'  {c+1}º lugar: {j[0]} com {j[1]}')"
   ]
  }
 ],
 "metadata": {
  "kernelspec": {
   "display_name": "Python 3",
   "language": "python",
   "name": "python3"
  },
  "language_info": {
   "codemirror_mode": {
    "name": "ipython",
    "version": 3
   },
   "file_extension": ".py",
   "mimetype": "text/x-python",
   "name": "python",
   "nbconvert_exporter": "python",
   "pygments_lexer": "ipython3",
   "version": "3.12.5"
  }
 },
 "nbformat": 4,
 "nbformat_minor": 2
}
