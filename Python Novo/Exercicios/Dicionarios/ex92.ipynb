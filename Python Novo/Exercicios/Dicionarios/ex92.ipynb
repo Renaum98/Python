{
 "cells": [
  {
   "cell_type": "markdown",
   "metadata": {},
   "source": [
    "### **92** - Crie um programa que leia nome, ano de nascimento, e carteira de trabalho e cadastre-os(com a idade) em um dicionario se por acaso a CTPS for diferente de **ZERO**, o dicionario recebera tambem o ano de contratação e o salario.Calcule e acrescente alem da idade com quantos anos a pessoa vai se aposentar. "
   ]
  },
  {
   "cell_type": "code",
   "execution_count": null,
   "metadata": {},
   "outputs": [
    {
     "name": "stdout",
     "output_type": "stream",
     "text": [
      "nome tem o valor: Renan\n",
      "ano de nascimento tem o valor: 225\n",
      "ctps tem o valor: 1\n",
      "ano de contratacao tem o valor: 1990\n",
      "salario tem o valor: 210.0\n",
      "aposentadoria tem o valor: ja pode se aposentar\n"
     ]
    }
   ],
   "source": [
    "from datetime import datetime\n",
    "data = datetime.now()\n",
    "ano = data.year\n",
    "\n",
    "\n",
    "cadastro = {}\n",
    "\n",
    "cadastro['nome'] = input('Nome: ').title()\n",
    "cadastro['ano de nascimento'] = ano - int(input('Ano de nascimento: '))\n",
    "\n",
    "cadastro['ctps'] = int(input('Carteira de Trabalho (0 não tem)'))\n",
    "if cadastro['ctps'] == 0:\n",
    "    del cadastro['ctps']\n",
    "    for k, v in cadastro.items():\n",
    "        print(f'{k} tem o valor: {v}')\n",
    "else:\n",
    "    cadastro['ano de contratacao'] = int(input('Ano de contratação: '))\n",
    "    cadastro['salario'] = float(input('Salario: '))\n",
    "    cadastro['aposentadoria'] = 35 - (ano - cadastro['ano de contratacao'])\n",
    "    if cadastro['aposentadoria'] < 0:\n",
    "        cadastro['aposentadoria'] = str('ja pode se aposentar')\n",
    "    for k, v in cadastro.items():\n",
    "        print(f'{k} tem o valor: {v}')"
   ]
  },
  {
   "cell_type": "code",
   "execution_count": 13,
   "metadata": {},
   "outputs": [
    {
     "name": "stdout",
     "output_type": "stream",
     "text": [
      "-=-=-=-=-=-=-=-=-=-=-=-=-=-=-=-=-=-=-=-=-=-=-=-=-=-=-=-=-=-=\n",
      "nome tem o valor Renan\n",
      "idade tem o valor 27\n",
      "ctps tem o valor 123\n",
      "contratação tem o valor 1990\n",
      "salario tem o valor 2000.0\n",
      "aposentadoria tem o valor 27\n"
     ]
    }
   ],
   "source": [
    "from datetime import datetime\n",
    "dados = {}\n",
    "dados['nome'] = input('Nome: ').title()\n",
    "nasc = int(input('Ano de Nascimento: '))\n",
    "dados['idade'] = datetime.now().year - nasc\n",
    "dados['ctps'] = int(input('Carteira de Trabalho (0 não tem): '))\n",
    "if dados['ctps'] != 0:\n",
    "    dados['contratação'] = int(input('Ano de Contratação: '))\n",
    "    dados['salario'] = float(input('Salario: '))\n",
    "    dados['aposentadoria'] = dados['idade'] +((dados['contratação'] +35) - datetime.now().year)\n",
    "print('-='*30)\n",
    "for k, v in dados.items():\n",
    "    print(f'{k} tem o valor {v}')\n"
   ]
  }
 ],
 "metadata": {
  "kernelspec": {
   "display_name": "Python 3",
   "language": "python",
   "name": "python3"
  },
  "language_info": {
   "codemirror_mode": {
    "name": "ipython",
    "version": 3
   },
   "file_extension": ".py",
   "mimetype": "text/x-python",
   "name": "python",
   "nbconvert_exporter": "python",
   "pygments_lexer": "ipython3",
   "version": "3.12.5"
  }
 },
 "nbformat": 4,
 "nbformat_minor": 2
}
