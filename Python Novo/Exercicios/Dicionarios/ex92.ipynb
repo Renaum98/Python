{
 "cells": [
  {
   "cell_type": "markdown",
   "metadata": {},
   "source": [
    "### **92** - Crie um programa que leia nome, ano de nascimento, e carteira de trabalho e cadastre-os(com a idade) em um dicionario se por acaso a CTPS for diferente de **ZERO**, o dicionario recebera tambem o ano de contratação e o salario.Calcule e acrescente alem da idade com quantos anos a pessoa vai se aposentar. "
   ]
  },
  {
   "cell_type": "code",
   "execution_count": 15,
   "metadata": {},
   "outputs": [
    {
     "name": "stdout",
     "output_type": "stream",
     "text": [
      "nome tem o valor Renan\n",
      "ano de nascimento tem o valor 27\n"
     ]
    }
   ],
   "source": [
    "from datetime import datetime\n",
    "data = datetime.now()\n",
    "ano = data.year\n",
    "\n",
    "\n",
    "cadastro = {}\n",
    "\n",
    "cadastro['nome'] = input('Nome: ').title()\n",
    "cadastro['ano de nascimento'] = ano - int(input('Ano de nascimento: '))\n",
    "\n",
    "cadastro['ctps'] = int(input('Carteira de Trabalho (0 não tem)'))\n",
    "if cadastro['ctps'] == 0:\n",
    "    del cadastro['ctps']\n",
    "    for k, v in cadastro.items():\n",
    "        print(f'{k} tem o valor {v}')\n",
    "else:\n",
    "    cadastro['ano de contratacao'] = int(input('Ano de contratação: '))\n",
    "    cadastro['salario'] = float(input('Salario: '))\n",
    "    cadastro['aposentadoria'] = (ano - cadastro['ano de contratacao'])+35\n",
    "    for k, v in cadastro.items():\n",
    "        print(f'{k} tem o valor {v}')"
   ]
  }
 ],
 "metadata": {
  "kernelspec": {
   "display_name": "Python 3",
   "language": "python",
   "name": "python3"
  },
  "language_info": {
   "codemirror_mode": {
    "name": "ipython",
    "version": 3
   },
   "file_extension": ".py",
   "mimetype": "text/x-python",
   "name": "python",
   "nbconvert_exporter": "python",
   "pygments_lexer": "ipython3",
   "version": "3.12.5"
  }
 },
 "nbformat": 4,
 "nbformat_minor": 2
}
