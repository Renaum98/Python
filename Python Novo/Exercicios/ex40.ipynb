{
 "cells": [
  {
   "cell_type": "markdown",
   "metadata": {},
   "source": [
    "40 - Crie um programa que leia duas notas de aluno e calcule sua média, mostrando uma mensagem no final de acordo com a média atingida:\n",
    "\n",
    "-Média abaixo de 5.0:REPROVADO\n",
    "\n",
    "-Média entre 5.0 a 6.9:RECUPERAÇÃO\n",
    "\n",
    "-Média 7.0 ou superior:APROVADO"
   ]
  }
 ],
 "metadata": {
  "language_info": {
   "name": "python"
  }
 },
 "nbformat": 4,
 "nbformat_minor": 2
}
