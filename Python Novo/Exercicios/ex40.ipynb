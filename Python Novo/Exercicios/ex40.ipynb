{
 "cells": [
  {
   "cell_type": "markdown",
   "metadata": {},
   "source": [
    "40 - Crie um programa que leia duas notas de aluno e calcule sua média, mostrando uma mensagem no final de acordo com a média atingida:\n",
    "\n",
    "-Média abaixo de 5.0:REPROVADO\n",
    "\n",
    "-Média entre 5.0 a 6.9:RECUPERAÇÃO\n",
    "\n",
    "-Média 7.0 ou superior:APROVADO"
   ]
  },
  {
   "cell_type": "code",
   "execution_count": 2,
   "metadata": {},
   "outputs": [
    {
     "name": "stdout",
     "output_type": "stream",
     "text": [
      "Média de notas\n",
      "Calculando nota ...\n",
      "Sua Média foi: 7.3\n",
      "Parabens, você foi aprovado com sucesso\n",
      "Continue assim <3\n"
     ]
    }
   ],
   "source": [
    "import time\n",
    "print('Média de notas')\n",
    "n1 = float(input('Digite a nota 1: ')) \n",
    "n2 = float(input('Digite a nota 2: '))\n",
    "n3 = float(input('Digite a nota 3: '))\n",
    "\n",
    "m = (n1+n2+n3)/3\n",
    "\n",
    "print('Calculando nota ...')\n",
    "time.sleep(1.5)\n",
    "\n",
    "print('Sua Média foi: {:.1f}'.format(m))\n",
    "\n",
    "if m < 5.0:\n",
    "    print('Infelizmente você foi REPROVADO')\n",
    "    print('Continue estudando')\n",
    "elif m == 5 and m < 6.9:\n",
    "    print('Você esta de RECUPERAÇÃO')\n",
    "else:\n",
    "    print('Parabens, você foi aprovado com sucesso\\nContinue assim')"
   ]
  }
 ],
 "metadata": {
  "kernelspec": {
   "display_name": "Python 3",
   "language": "python",
   "name": "python3"
  },
  "language_info": {
   "codemirror_mode": {
    "name": "ipython",
    "version": 3
   },
   "file_extension": ".py",
   "mimetype": "text/x-python",
   "name": "python",
   "nbconvert_exporter": "python",
   "pygments_lexer": "ipython3",
   "version": "3.11.9"
  }
 },
 "nbformat": 4,
 "nbformat_minor": 2
}
