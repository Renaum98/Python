{
 "cells": [
  {
   "cell_type": "markdown",
   "metadata": {},
   "source": [
    "### **56** - Desenvova um programa que leia o nome, idade e sexo de 4 pessoas.No final do programa mostre:\n",
    "\n",
    "-A media de idade do grupo\n",
    "\n",
    "-Qual é o nome do homem mais velho.\n",
    "\n",
    "-Quantas mulheres tem menos de 20 anos.\n"
   ]
  },
  {
   "cell_type": "code",
   "execution_count": 5,
   "metadata": {},
   "outputs": [
    {
     "name": "stdout",
     "output_type": "stream",
     "text": [
      "10\n",
      "16\n",
      "12\n",
      "13\n",
      "3.25\n"
     ]
    }
   ],
   "source": [
    "soma_idade = 0\n",
    "media_idade = soma_idade / 4\n",
    "for i in range(4):\n",
    "    #nome = str(input('Digite seu nome: '))\n",
    "    idade = int(input('Digite sua idade: '))\n",
    "    #sexo = str(input('Digite seu sexo: '))\n",
    "    \n",
    "    soma_idade = idade\n",
    "    soma_idade+=i\n",
    "    print(soma_idade)\n",
    "\n",
    "media_idade = soma_idade / 4\n",
    "print(media_idade)\n"
   ]
  }
 ],
 "metadata": {
  "kernelspec": {
   "display_name": "Python 3",
   "language": "python",
   "name": "python3"
  },
  "language_info": {
   "codemirror_mode": {
    "name": "ipython",
    "version": 3
   },
   "file_extension": ".py",
   "mimetype": "text/x-python",
   "name": "python",
   "nbconvert_exporter": "python",
   "pygments_lexer": "ipython3",
   "version": "3.11.9"
  }
 },
 "nbformat": 4,
 "nbformat_minor": 2
}
