{
 "cells": [
  {
   "cell_type": "markdown",
   "metadata": {},
   "source": [
    "### **56** - Desenvova um programa que leia o nome, idade e sexo de 4 pessoas.No final do programa mostre:\n",
    "\n",
    "-A media de idade do grupo\n",
    "\n",
    "-Qual é o nome dp homem mais velho.\n",
    "\n",
    "-Quantas mulheres tem menos de 20 anos.\n"
   ]
  }
 ],
 "metadata": {
  "language_info": {
   "name": "python"
  }
 },
 "nbformat": 4,
 "nbformat_minor": 2
}
