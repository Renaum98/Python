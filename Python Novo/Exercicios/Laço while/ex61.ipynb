{
 "cells": [
  {
   "cell_type": "markdown",
   "metadata": {},
   "source": [
    "### **61** - Refaça o Desafio 51, lendo o primeiro termo e a razão de uma PA, mostrando os 10 primeiros termos da progressão usando uma estrutura while."
   ]
  },
  {
   "cell_type": "code",
   "execution_count": 6,
   "metadata": {},
   "outputs": [
    {
     "name": "stdout",
     "output_type": "stream",
     "text": [
      "10\n",
      "12\n",
      "14\n",
      "16\n",
      "18\n",
      "20\n",
      "22\n",
      "24\n",
      "26\n",
      "28\n"
     ]
    }
   ],
   "source": [
    "# Solicitar o primeiro termo e a razão da PA\n",
    "a1 = int(input(\"Digite o primeiro termo da PA: \"))\n",
    "r = int(input(\"Digite a razão da PA: \"))\n",
    "n = 0\n",
    "# Exibir os 10 primeiros termos da PA\n",
    "'''for n in range(10):\n",
    "    an = a1 + n * r  # Fórmula do n-ésimo termo da PA\n",
    "    print(an)'''\n",
    "while n < 10:\n",
    "    an = a1 + n * r  # Fórmula do n-ésimo termo da PA\n",
    "    print(an)\n",
    "    n+=1"
   ]
  },
  {
   "cell_type": "code",
   "execution_count": 15,
   "metadata": {},
   "outputs": [
    {
     "name": "stdout",
     "output_type": "stream",
     "text": [
      "Gerador de PA\n",
      "-=-=-=-=-=-=-=-=-=-=\n",
      "10 ➡ 25 ➡ 40 ➡ 55 ➡ 70 ➡ 85 ➡ 100 ➡ 115 ➡ 130 ➡ 145 ➡ FIM"
     ]
    }
   ],
   "source": [
    "print('Gerador de PA')\n",
    "print('-=' * 10)\n",
    "primeiro = int(input('Primeiro termo: '))\n",
    "razao = int(input('Razão: '))\n",
    "termo = primeiro\n",
    "cont = 1 \n",
    "while cont <= 10:\n",
    "    print('{} ➡ '.format(termo),end='')\n",
    "    termo = termo + razao\n",
    "    cont+=1\n",
    "print('FIM',end='')"
   ]
  }
 ],
 "metadata": {
  "kernelspec": {
   "display_name": "Python 3",
   "language": "python",
   "name": "python3"
  },
  "language_info": {
   "codemirror_mode": {
    "name": "ipython",
    "version": 3
   },
   "file_extension": ".py",
   "mimetype": "text/x-python",
   "name": "python",
   "nbconvert_exporter": "python",
   "pygments_lexer": "ipython3",
   "version": "3.12.5"
  }
 },
 "nbformat": 4,
 "nbformat_minor": 2
}
