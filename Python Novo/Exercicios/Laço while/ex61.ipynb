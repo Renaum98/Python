{
 "cells": [
  {
   "cell_type": "markdown",
   "metadata": {},
   "source": [
    "### **61** - Refaça o Desafio 51, lendo o primeiro termo e a razão de uma PA, mostrando os 10 primeiros termos da progressão usando uma estrutura while."
   ]
  },
  {
   "cell_type": "code",
   "execution_count": null,
   "metadata": {},
   "outputs": [],
   "source": [
    "# Solicitar o primeiro termo e a razão da PA\n",
    "a1 = int(input(\"Digite o primeiro termo da PA: \"))\n",
    "r = int(input(\"Digite a razão da PA: \"))\n",
    "\n",
    "# Exibir os 10 primeiros termos da PA\n",
    "for n in range(10):\n",
    "    an = a1 + n * r  # Fórmula do n-ésimo termo da PA\n",
    "    print(an)"
   ]
  }
 ],
 "metadata": {
  "language_info": {
   "name": "python"
  }
 },
 "nbformat": 4,
 "nbformat_minor": 2
}
