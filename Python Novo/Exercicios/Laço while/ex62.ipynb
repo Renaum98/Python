{
 "cells": [
  {
   "cell_type": "markdown",
   "metadata": {},
   "source": [
    "### **62** - Melhore o Desafio 61 perguntando para o usuario se ele quer mostrar mais alguns termos. O programa encerra quando ele disser que quer mostrar 0 termos."
   ]
  },
  {
   "cell_type": "code",
   "execution_count": 9,
   "metadata": {},
   "outputs": [
    {
     "name": "stdout",
     "output_type": "stream",
     "text": [
      "Gerador de PA\n",
      "-=-=-=-=-=-=-=-=-=-=\n",
      "5 ➡ 9 ➡ 13 ➡ 17 ➡ 21 ➡ 25 ➡ 29 ➡ 33 ➡ 37 ➡ 41 ➡ PAUSA\n",
      "45 ➡ PAUSA\n",
      "49 ➡ 53 ➡ PAUSA\n",
      "57 ➡ 61 ➡ 65 ➡ 69 ➡ 73 ➡ 77 ➡ PAUSA\n",
      "Progressão encerrada com 19 termos\n",
      "FIM\n"
     ]
    }
   ],
   "source": [
    "print('Gerador de PA')\n",
    "print('-=' * 10)\n",
    "primeiro = int(input('Primeiro termo: '))\n",
    "razao = int(input('Razão: '))\n",
    "termo = primeiro\n",
    "cont = 1\n",
    "total = 0\n",
    "mais = 10\n",
    "while mais != 0:\n",
    "    total += mais\n",
    "    while cont <= total:\n",
    "        print('{} ➡ '.format(termo),end='')\n",
    "        termo += razao\n",
    "        cont+=1\n",
    "    print('PAUSA')\n",
    "    mais = int(input('Quantos termos você quer mostrar a mais? '))\n",
    "print('Progressão encerrada com {} termos'.format(total))\n",
    "print('FIM')"
   ]
  }
 ],
 "metadata": {
  "kernelspec": {
   "display_name": "Python 3",
   "language": "python",
   "name": "python3"
  },
  "language_info": {
   "codemirror_mode": {
    "name": "ipython",
    "version": 3
   },
   "file_extension": ".py",
   "mimetype": "text/x-python",
   "name": "python",
   "nbconvert_exporter": "python",
   "pygments_lexer": "ipython3",
   "version": "3.12.5"
  }
 },
 "nbformat": 4,
 "nbformat_minor": 2
}
