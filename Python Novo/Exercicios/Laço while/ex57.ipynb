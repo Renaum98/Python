{
 "cells": [
  {
   "cell_type": "markdown",
   "metadata": {},
   "source": [
    "### **57** - Faça um programa que leia o sexo de uma pessoa, mas so aceite valores M ou F. Caso esteja errado, peça a digitação novamente até ter um valor correto."
   ]
  }
 ],
 "metadata": {
  "language_info": {
   "name": "python"
  }
 },
 "nbformat": 4,
 "nbformat_minor": 2
}
