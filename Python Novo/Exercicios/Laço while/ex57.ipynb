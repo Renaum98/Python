{
 "cells": [
  {
   "cell_type": "markdown",
   "metadata": {},
   "source": [
    "### **57** - Faça um programa que leia o sexo de uma pessoa, mas so aceite valores M ou F. Caso esteja errado, peça a digitação novamente até ter um valor correto."
   ]
  },
  {
   "cell_type": "code",
   "execution_count": 22,
   "metadata": {},
   "outputs": [
    {
     "name": "stdout",
     "output_type": "stream",
     "text": [
      "❌Digite um valor aceito❌\n",
      "❌Digite um valor aceito❌\n",
      "❌Digite um valor aceito❌\n",
      "❌Digite um valor aceito❌\n",
      "❌Digite um valor aceito❌\n",
      "Seu sexo é Masculino👨🏻\n"
     ]
    }
   ],
   "source": [
    "sexo = str(input('Digite seu sexo [M/F]')).upper()\n",
    "\n",
    "while sexo not in 'M,F' or sexo == '':\n",
    "    print('❌Digite um valor aceito❌')\n",
    "    sexo = str(input('Digite seu sexo [M/F]')).upper()\n",
    "if sexo == 'M':\n",
    "    sexo = 'Masculino👨🏻'\n",
    "else:\n",
    "    sexo = 'Feminino👩🏻'\n",
    "print('Seu sexo é {}'.format(sexo))\n"
   ]
  }
 ],
 "metadata": {
  "kernelspec": {
   "display_name": "Python 3",
   "language": "python",
   "name": "python3"
  },
  "language_info": {
   "codemirror_mode": {
    "name": "ipython",
    "version": 3
   },
   "file_extension": ".py",
   "mimetype": "text/x-python",
   "name": "python",
   "nbconvert_exporter": "python",
   "pygments_lexer": "ipython3",
   "version": "3.12.5"
  }
 },
 "nbformat": 4,
 "nbformat_minor": 2
}
