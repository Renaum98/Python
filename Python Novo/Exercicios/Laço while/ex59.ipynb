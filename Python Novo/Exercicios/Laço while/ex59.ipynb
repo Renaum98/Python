{
 "cells": [
  {
   "cell_type": "markdown",
   "metadata": {},
   "source": [
    "### **59** - Crie um programa que leia dois valores e mostre um menu na tela:\n",
    "\n",
    "[1]somar\n",
    "\n",
    "[2]multiplicar\n",
    "\n",
    "[3]maior\n",
    "\n",
    "[4]novos numeros\n",
    "\n",
    "[5]sair do programa\n",
    "\n",
    "Seu programa devera realizar a operação solicitada em cada caso."
   ]
  },
  {
   "cell_type": "code",
   "execution_count": 8,
   "metadata": {},
   "outputs": [
    {
     "name": "stdout",
     "output_type": "stream",
     "text": [
      "[1]Soma\n",
      "[2]Multiplicar\n",
      "[3]Maior\n",
      "[4]Novos Numeros\n",
      "[5]Sair do Programa\n"
     ]
    }
   ],
   "source": [
    "n1 = int(input('Digite um valor'))\n",
    "n2 = int(input('Digite um valor'))\n",
    "print('[1]Soma')\n",
    "print('[2]Multiplicar')\n",
    "print('[3]Maior')\n",
    "print('[4]Novos Numeros')\n",
    "print('[5]Sair do Programa')\n",
    "a = int(input('Escolha uma operação:'))\n",
    "while a <=0 and a >5:\n",
    "    print('Digite uma operação Valida')\n",
    "while a == 1:\n",
    "    print('A soma de {} e {} é: {}'.format(n1,n2,(n1+n2)))"
   ]
  }
 ],
 "metadata": {
  "kernelspec": {
   "display_name": "Python 3",
   "language": "python",
   "name": "python3"
  },
  "language_info": {
   "codemirror_mode": {
    "name": "ipython",
    "version": 3
   },
   "file_extension": ".py",
   "mimetype": "text/x-python",
   "name": "python",
   "nbconvert_exporter": "python",
   "pygments_lexer": "ipython3",
   "version": "3.12.5"
  }
 },
 "nbformat": 4,
 "nbformat_minor": 2
}
