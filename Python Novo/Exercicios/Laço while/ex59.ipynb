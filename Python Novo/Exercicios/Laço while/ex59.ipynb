{
 "cells": [
  {
   "cell_type": "markdown",
   "metadata": {},
   "source": [
    "### **59** - Crie um programa que leia dois valores e mostre um menu na tela:\n",
    "\n",
    "[1]somar\n",
    "\n",
    "[2]multiplicar\n",
    "\n",
    "[3]maior\n",
    "\n",
    "[4]novos numeros\n",
    "\n",
    "[5]sair do programa\n",
    "\n",
    "Seu programa devera realizar a operação solicitada em cada caso."
   ]
  }
 ],
 "metadata": {
  "language_info": {
   "name": "python"
  }
 },
 "nbformat": 4,
 "nbformat_minor": 2
}
