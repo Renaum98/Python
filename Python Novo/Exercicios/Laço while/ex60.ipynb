{
 "cells": [
  {
   "cell_type": "markdown",
   "metadata": {},
   "source": [
    "### **60** - Faça um programa que leia um numero qualquer e mostre o seu fatorial.\n",
    "\n",
    "ex:5!=5x4x3x2x1=120"
   ]
  }
 ],
 "metadata": {
  "language_info": {
   "name": "python"
  }
 },
 "nbformat": 4,
 "nbformat_minor": 2
}
