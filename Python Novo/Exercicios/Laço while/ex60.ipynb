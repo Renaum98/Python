{
 "cells": [
  {
   "cell_type": "markdown",
   "metadata": {},
   "source": [
    "### **60** - Faça um programa que leia um numero qualquer e mostre o seu fatorial.\n",
    "\n",
    "ex:5!=5x4x3x2x1=120"
   ]
  },
  {
   "cell_type": "code",
   "execution_count": 2,
   "metadata": {},
   "outputs": [
    {
     "name": "stdout",
     "output_type": "stream",
     "text": [
      "Vamos verificar o fatorial de um numero\n"
     ]
    }
   ],
   "source": [
    "print('Vamos verificar o fatorial de um numero')\n",
    "num = int(input('Digite um numero inteiro'))\n",
    "c = 0\n",
    "while num > 0:\n",
    "    c = num - 1 \n",
    "    fat = c*num\n",
    "print(fat)\n",
    "\n"
   ]
  }
 ],
 "metadata": {
  "kernelspec": {
   "display_name": "Python 3",
   "language": "python",
   "name": "python3"
  },
  "language_info": {
   "codemirror_mode": {
    "name": "ipython",
    "version": 3
   },
   "file_extension": ".py",
   "mimetype": "text/x-python",
   "name": "python",
   "nbconvert_exporter": "python",
   "pygments_lexer": "ipython3",
   "version": "3.11.9"
  }
 },
 "nbformat": 4,
 "nbformat_minor": 2
}
