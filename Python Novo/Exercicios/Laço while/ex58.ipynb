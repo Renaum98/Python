{
 "cells": [
  {
   "cell_type": "markdown",
   "metadata": {},
   "source": [
    "### **58** - Melhore o jogo do **Desafio 28** onde o computador vai \"pensar\" em um numero entre 0 e 10. So que agora o jogador vai tentar adivinhar até acertar mostrando no final quantos palpites foram necessarios para vencer."
   ]
  },
  {
   "cell_type": "code",
   "execution_count": 3,
   "metadata": {},
   "outputs": [
    {
     "name": "stdout",
     "output_type": "stream",
     "text": [
      "Tente adivinhar o numero que o Computador ira gerar de 0 a 10\n",
      "Processando⌛\n",
      "Menos...Tente novamente❌\n",
      "Processando⌛\n",
      "Mais...Tente novamente❌\n",
      "🎉Parabens, você acertou🎉\n",
      "_________________________________________\n",
      "Foram precisas 2 tentativas para o acerto✅\n"
     ]
    }
   ],
   "source": [
    "import random\n",
    "from time import sleep\n",
    "\n",
    "print('Tente adivinhar o numero que o Computador ira gerar de 0 a 10')\n",
    "\n",
    "n1 = ''\n",
    "n2 = random.randint(0,10)\n",
    "tenta = 0\n",
    "\n",
    "while n1 != n2:\n",
    "    n1 = int(input('Digite um numero inteiro de 0 a 10:'))\n",
    "    if n1 <0 or n1 > 10:\n",
    "        print('Digite um numero valido de 0 a 10')\n",
    "    else:\n",
    "        if n1 > n2:\n",
    "            print('Processando⌛')\n",
    "            sleep(.5)\n",
    "            print('Menos...Tente novamente❌')\n",
    "            tenta+=1\n",
    "        elif n1 < n2:\n",
    "            print('Processando⌛')\n",
    "            sleep(.5)\n",
    "            print('Mais...Tente novamente❌')\n",
    "            tenta+=1\n",
    "print('🎉Parabens, você acertou🎉')\n",
    "print('_'*41)\n",
    "print('Foram precisas {} tentativas para o acerto✅'.format(tenta))"
   ]
  }
 ],
 "metadata": {
  "kernelspec": {
   "display_name": "Python 3",
   "language": "python",
   "name": "python3"
  },
  "language_info": {
   "codemirror_mode": {
    "name": "ipython",
    "version": 3
   },
   "file_extension": ".py",
   "mimetype": "text/x-python",
   "name": "python",
   "nbconvert_exporter": "python",
   "pygments_lexer": "ipython3",
   "version": "3.12.5"
  }
 },
 "nbformat": 4,
 "nbformat_minor": 2
}
