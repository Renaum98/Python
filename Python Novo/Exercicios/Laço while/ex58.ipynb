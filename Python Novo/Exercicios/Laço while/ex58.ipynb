{
 "cells": [
  {
   "cell_type": "markdown",
   "metadata": {},
   "source": [
    "### **58** - Melhore o jogo do **Desafio 28** onde o computador vai \"pensar\" em um numero entre 0 e 10. So que agora o jogador vai tentar adivinhar até acertar mostrando no final quantos palpites foram necessarios para vencer."
   ]
  }
 ],
 "metadata": {
  "language_info": {
   "name": "python"
  }
 },
 "nbformat": 4,
 "nbformat_minor": 2
}
