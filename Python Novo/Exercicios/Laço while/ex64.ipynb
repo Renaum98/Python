{
 "cells": [
  {
   "cell_type": "markdown",
   "metadata": {},
   "source": [
    "### **64** - Crie um programa que leia varios numeros inteiros pelo teclado.O programa so vai para quando o usuario digitar o valor 999, que é a condição de parada.No Final mostre quantos numeros foram digitados e qual foi a soma entre eles(desconsiderando o flag)"
   ]
  }
 ],
 "metadata": {
  "language_info": {
   "name": "python"
  }
 },
 "nbformat": 4,
 "nbformat_minor": 2
}
