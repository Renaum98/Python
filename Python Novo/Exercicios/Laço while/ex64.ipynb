{
 "cells": [
  {
   "cell_type": "markdown",
   "metadata": {},
   "source": [
    "### **64** - Crie um programa que leia varios numeros inteiros pelo teclado.O programa so vai para quando o usuario digitar o valor 999, que é a condição de parada.No Final mostre quantos numeros foram digitados e qual foi a soma entre eles(desconsiderando o flag)"
   ]
  },
  {
   "cell_type": "code",
   "execution_count": 10,
   "metadata": {},
   "outputs": [
    {
     "name": "stdout",
     "output_type": "stream",
     "text": [
      "Digite valores para ser calulado, caso queira parar use o valor 999\n",
      "Foram digitados 3 valores\n",
      "Somando todos os valores com resultado 66\n"
     ]
    }
   ],
   "source": [
    "print('Digite valores para ser calulado, caso queira parar use o valor 999')\n",
    "num = ''\n",
    "cont = 0\n",
    "soma = 0\n",
    "while num != 999:\n",
    "    num = int(input('Digite um valor: '))\n",
    "    cont+=1\n",
    "    soma+=num\n",
    "    if num == 999:\n",
    "        cont-=1\n",
    "        soma-=num\n",
    "print('Foram digitados {} valores'.format(cont))\n",
    "print('Somando todos os valores com resultado {}'.format(soma))"
   ]
  }
 ],
 "metadata": {
  "kernelspec": {
   "display_name": "Python 3",
   "language": "python",
   "name": "python3"
  },
  "language_info": {
   "codemirror_mode": {
    "name": "ipython",
    "version": 3
   },
   "file_extension": ".py",
   "mimetype": "text/x-python",
   "name": "python",
   "nbconvert_exporter": "python",
   "pygments_lexer": "ipython3",
   "version": "3.12.5"
  }
 },
 "nbformat": 4,
 "nbformat_minor": 2
}
