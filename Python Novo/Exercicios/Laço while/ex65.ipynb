{
 "cells": [
  {
   "cell_type": "markdown",
   "metadata": {},
   "source": [
    "### **65** - Crie um programa que leia varios numeros inteiros pelo teclado.No final da execução mostre a média entre todos os valores e qual foi o maior e o menor valor lido.O programa deve perguntar ao usuario se ele quer ou não continuar a digitar valores."
   ]
  }
 ],
 "metadata": {
  "language_info": {
   "name": "python"
  }
 },
 "nbformat": 4,
 "nbformat_minor": 2
}
