{
 "cells": [
  {
   "cell_type": "markdown",
   "metadata": {},
   "source": [
    "### **65** - Crie um programa que leia varios numeros inteiros pelo teclado.No final da execução mostre a média entre todos os valores e qual foi o maior e o menor valor lido.O programa deve perguntar ao usuario se ele quer ou não continuar a digitar valores."
   ]
  },
  {
   "cell_type": "code",
   "execution_count": 4,
   "metadata": {},
   "outputs": [
    {
     "name": "stdout",
     "output_type": "stream",
     "text": [
      "A média dos valores é 156.00\n",
      "O maior valor digitado é 500\n",
      "O menor valor digitado é 0\n"
     ]
    }
   ],
   "source": [
    "acao = '' \n",
    "soma = 0\n",
    "cont = 0\n",
    "maior = 0\n",
    "menor = 0\n",
    "while acao != 'N':\n",
    "    num = int(input('Digite um valor inteiro: '))\n",
    "    acao = str(input('Deseja continuar?[S/N]: ')).upper().strip()\n",
    "    soma+=num\n",
    "    cont+=1\n",
    "    if num > maior:\n",
    "        maior = num\n",
    "    elif num < menor:\n",
    "        menor = num\n",
    "media = soma / cont\n",
    "print('A média dos valores é {:.2f}'.format(media))\n",
    "print('O maior valor digitado é {}'.format(maior))\n",
    "print('O menor valor digitado é {}'.format(menor))\n"
   ]
  }
 ],
 "metadata": {
  "kernelspec": {
   "display_name": "Python 3",
   "language": "python",
   "name": "python3"
  },
  "language_info": {
   "codemirror_mode": {
    "name": "ipython",
    "version": 3
   },
   "file_extension": ".py",
   "mimetype": "text/x-python",
   "name": "python",
   "nbconvert_exporter": "python",
   "pygments_lexer": "ipython3",
   "version": "3.12.5"
  }
 },
 "nbformat": 4,
 "nbformat_minor": 2
}
