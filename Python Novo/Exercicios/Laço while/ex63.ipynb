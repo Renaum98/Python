{
 "cells": [
  {
   "cell_type": "markdown",
   "metadata": {},
   "source": [
    "### **63** - Escreva um programa que leia um numero n inteiro qualquer e mostre na tela os n primeiros elementos de uma sequencia de Fibonacci\n",
    "\n",
    "ex: 0-1-1-2-3-5-8"
   ]
  },
  {
   "cell_type": "code",
   "execution_count": 7,
   "metadata": {},
   "outputs": [
    {
     "name": "stdout",
     "output_type": "stream",
     "text": [
      "------------------------------\n",
      "Sequencia de Fibonacci\n",
      "------------------------------\n",
      "~~~~~~~~~~~~~~~\n",
      "0 ➡ 1 ➡ 1 ➡ 2 ➡ 3 ➡ 5 ➡ 8 ➡ 13 ➡ 21 ➡ 34 ➡ 55 ➡ 89 ➡ 144 ➡ 233 ➡ 377 ➡ FIM\n",
      "~~~~~~~~~~~~~~~\n"
     ]
    }
   ],
   "source": [
    "print('-' * 30)\n",
    "print('Sequencia de Fibonacci')\n",
    "print('-' * 30)\n",
    "n = int(input('Quantos termos você quer mostrar? '))\n",
    "t1 = 0\n",
    "t2 = 1\n",
    "print('~'*30)\n",
    "print('{} ➡ {}'.format(t1,t2),end='')\n",
    "cont = 3\n",
    "while cont <= n: \n",
    "    t3 = t1 + t2\n",
    "    print(' ➡ {}'.format(t3),end='')\n",
    "    t1 = t2\n",
    "    t2 = t3\n",
    "    cont += 1\n",
    "print(' ➡ FIM')\n",
    "print('~'*30)"
   ]
  }
 ],
 "metadata": {
  "kernelspec": {
   "display_name": "Python 3",
   "language": "python",
   "name": "python3"
  },
  "language_info": {
   "codemirror_mode": {
    "name": "ipython",
    "version": 3
   },
   "file_extension": ".py",
   "mimetype": "text/x-python",
   "name": "python",
   "nbconvert_exporter": "python",
   "pygments_lexer": "ipython3",
   "version": "3.12.5"
  }
 },
 "nbformat": 4,
 "nbformat_minor": 2
}
