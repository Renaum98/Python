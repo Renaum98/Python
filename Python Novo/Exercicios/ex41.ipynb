{
 "cells": [
  {
   "cell_type": "markdown",
   "metadata": {},
   "source": [
    "41 - A confederação nacional de natação precisa de um programa que leia o ano de nascimento de um atleta e mostre sua categoria, de acordo com a idade:\n",
    "\n",
    "-Até 9 anos : Mirim\n",
    "\n",
    "-Até 14 anos : Infantil\n",
    "\n",
    "-Até 19 anos : Junior\n",
    "\n",
    "-Até 20 anos : Sênior\n",
    "\n",
    "-Acima:Master"
   ]
  }
 ],
 "metadata": {
  "language_info": {
   "name": "python"
  }
 },
 "nbformat": 4,
 "nbformat_minor": 2
}
