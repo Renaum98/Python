{
 "cells": [
  {
   "cell_type": "markdown",
   "metadata": {},
   "source": [
    "41 - A confederação nacional de natação precisa de um programa que leia o ano de nascimento de um atleta e mostre sua categoria, de acordo com a idade:\n",
    "\n",
    "-Até 9 anos : Mirim\n",
    "\n",
    "-Até 14 anos : Infantil\n",
    "\n",
    "-Até 19 anos : Junior\n",
    "\n",
    "-Até 20 anos : Sênior\n",
    "\n",
    "-Acima:Master"
   ]
  },
  {
   "cell_type": "code",
   "execution_count": 9,
   "metadata": {},
   "outputs": [
    {
     "name": "stdout",
     "output_type": "stream",
     "text": [
      "Turmna de Natação\n",
      "Você tem 1 anos, por isso esta na equipe Mirim\n"
     ]
    }
   ],
   "source": [
    "from datetime import datetime\n",
    "print('Turmna de Natação')\n",
    "ano = int(input('Digite seu ano de nascimento: '))\n",
    "ano_atual = datetime.now().year\n",
    "idade = ano_atual - ano\n",
    "\n",
    "if idade <= 0:\n",
    "    print('Você digitou um ano invalido, por favor tente novamente com um valor valido')\n",
    "elif idade <= 9:\n",
    "    print('Você tem {} anos, por isso esta na equipe Mirim'.format(idade))\n",
    "elif idade <= 14:\n",
    "    print('Você tem {} anos, por isso esta na equipe Infantil'.format(idade))\n",
    "elif idade <=19:\n",
    "    print('Você tem {} anos, por isso esta na equipe Junior'.format(idade))\n",
    "elif idade == 20:\n",
    "    print('Você tem {} anos, por isso esta na equipe Sênior'.format(idade))\n",
    "else:\n",
    "    print('Você tem {} anos, por isso esta na equipe Master'.format(idade))"
   ]
  }
 ],
 "metadata": {
  "kernelspec": {
   "display_name": "Python 3",
   "language": "python",
   "name": "python3"
  },
  "language_info": {
   "codemirror_mode": {
    "name": "ipython",
    "version": 3
   },
   "file_extension": ".py",
   "mimetype": "text/x-python",
   "name": "python",
   "nbconvert_exporter": "python",
   "pygments_lexer": "ipython3",
   "version": "3.11.9"
  }
 },
 "nbformat": 4,
 "nbformat_minor": 2
}
