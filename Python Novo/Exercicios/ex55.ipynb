{
 "cells": [
  {
   "cell_type": "markdown",
   "metadata": {},
   "source": [
    "### **55** - Faça um programa que leia o peso de cinco pessoas.No final mostre qual foi o maior e o menor peso lidos."
   ]
  },
  {
   "cell_type": "code",
   "execution_count": 15,
   "metadata": {},
   "outputs": [
    {
     "name": "stdout",
     "output_type": "stream",
     "text": [
      "10.0\n",
      "5.0\n",
      "24.0\n",
      "23.0\n",
      "89.0\n",
      "O maior peso digitado foi: 89.00.\n",
      "O menor peso digitado foi: 5.00. \n"
     ]
    }
   ],
   "source": [
    "maior_peso = 0\n",
    "menor_peso = float('inf')\n",
    "\n",
    "for i in range(5):\n",
    "    peso = float(input('Digite seu peso: '))\n",
    "    print(peso)\n",
    "    if peso > maior_peso:\n",
    "        maior_peso = peso\n",
    "    elif peso < menor_peso:\n",
    "        menor_peso = peso\n",
    "\n",
    "print('O maior peso digitado foi: {:.2f}.'.format(maior_peso))\n",
    "print('O menor peso digitado foi: {:.2f}. '.format(menor_peso))\n",
    "        \n",
    "    \n"
   ]
  }
 ],
 "metadata": {
  "kernelspec": {
   "display_name": "Python 3",
   "language": "python",
   "name": "python3"
  },
  "language_info": {
   "codemirror_mode": {
    "name": "ipython",
    "version": 3
   },
   "file_extension": ".py",
   "mimetype": "text/x-python",
   "name": "python",
   "nbconvert_exporter": "python",
   "pygments_lexer": "ipython3",
   "version": "3.11.9"
  }
 },
 "nbformat": 4,
 "nbformat_minor": 2
}
