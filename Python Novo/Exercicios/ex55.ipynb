{
 "cells": [
  {
   "cell_type": "markdown",
   "metadata": {},
   "source": [
    "### **55** - Faça um programa que eia o peso de cinco pessoas.No final mostre qual foi o maior e o menor peso lidos."
   ]
  }
 ],
 "metadata": {
  "language_info": {
   "name": "python"
  }
 },
 "nbformat": 4,
 "nbformat_minor": 2
}
