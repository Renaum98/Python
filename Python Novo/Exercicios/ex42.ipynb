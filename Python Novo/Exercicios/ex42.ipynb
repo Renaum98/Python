{
 "cells": [
  {
   "cell_type": "markdown",
   "metadata": {},
   "source": [
    "### **42** - Refaça o desafio ex35.py dos triangulos acrescentando o recurso de mostrar que tipo de triangulo sera formado:\n",
    "\n",
    "-**Equilatero**: Todos os lados iguais\n",
    "\n",
    "-**Isosceles**: Dois lados iguais\n",
    "\n",
    "-**Escaleno**: Todos os lados diferentes"
   ]
  },
  {
   "cell_type": "code",
   "execution_count": 6,
   "metadata": {},
   "outputs": [
    {
     "name": "stdout",
     "output_type": "stream",
     "text": [
      "As retas formam um triangulo\n",
      "O triangulo que se forma é um Isosceles\n",
      "Obrigado por testar\n"
     ]
    }
   ],
   "source": [
    "r1 = int(input('Digite o valor da reta:'))\n",
    "r2 = int(input('Digite o valor da reta:'))\n",
    "r3 = int(input('Digite o valor da reta:')) \n",
    "\n",
    "if r1 + r2 > r3 and r2 + r3 > r1 and r3 + r1 > r2:\n",
    "    print('As retas formam um triangulo')\n",
    "    if r1 == r2 == r3:\n",
    "        print('O tringulo que se forma é um Equilatero')\n",
    "    elif r1 == r2 or r2 == r3 or r3 == r1:\n",
    "        print('O triangulo que se forma é um Isosceles')\n",
    "    else:\n",
    "        print('Otriangulo que se forma é um Escaleno')\n",
    "else:\n",
    "    print('As retas não formam um triangulo')\n",
    "\n",
    "\n",
    "print('Obrigado por testar')"
   ]
  }
 ],
 "metadata": {
  "kernelspec": {
   "display_name": "Python 3",
   "language": "python",
   "name": "python3"
  },
  "language_info": {
   "codemirror_mode": {
    "name": "ipython",
    "version": 3
   },
   "file_extension": ".py",
   "mimetype": "text/x-python",
   "name": "python",
   "nbconvert_exporter": "python",
   "pygments_lexer": "ipython3",
   "version": "3.12.5"
  }
 },
 "nbformat": 4,
 "nbformat_minor": 2
}
