{
 "cells": [
  {
   "cell_type": "markdown",
   "metadata": {},
   "source": [
    "42 - Refaça o desafio ex35.py dos triangulos acrescentando o recurso de mostrar que tipo de triangulo sera formado:\n",
    "\n",
    "-Equilatero: Todos os lados iguais\n",
    "\n",
    "-Isosceles: Dois lados iguais\n",
    "\n",
    "-Escaleno: Todos os lados diferentes"
   ]
  }
 ],
 "metadata": {
  "language_info": {
   "name": "python"
  }
 },
 "nbformat": 4,
 "nbformat_minor": 2
}
