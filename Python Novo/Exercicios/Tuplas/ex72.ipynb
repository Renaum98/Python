{
 "cells": [
  {
   "cell_type": "markdown",
   "metadata": {},
   "source": [
    "#### **72** - Crie um programa que tenha uma tupla totalmente preenchida com uma contagem por extenso do zero até vinte.O programa devera ler um numero pelo teclado entre 0 e 20 e mostra-lo por extenso."
   ]
  },
  {
   "cell_type": "code",
   "execution_count": 4,
   "metadata": {},
   "outputs": [
    {
     "name": "stdout",
     "output_type": "stream",
     "text": [
      "Voce digitou o numero Zero\n"
     ]
    }
   ],
   "source": [
    "tupla = ('zero','um','dois','tres','quatro','cinco','seis','sete','oito','nove','dez','onze','doze','treze','quatorze','quinze','dezesseis','dezessete','dezoito','dezenove','vinte')\n",
    "\n",
    "num = int(input('Digite um numero entre 0 e 20:'))\n",
    "while num > 20 or num < 0:\n",
    "    num = int(input('Tente novamente, Digite um numero entre 0 e 20:'))\n",
    "extenso = tupla[num].title()\n",
    "print(f'Voce digitou o numero {extenso}')"
   ]
  }
 ],
 "metadata": {
  "kernelspec": {
   "display_name": "Python 3",
   "language": "python",
   "name": "python3"
  },
  "language_info": {
   "codemirror_mode": {
    "name": "ipython",
    "version": 3
   },
   "file_extension": ".py",
   "mimetype": "text/x-python",
   "name": "python",
   "nbconvert_exporter": "python",
   "pygments_lexer": "ipython3",
   "version": "3.12.5"
  }
 },
 "nbformat": 4,
 "nbformat_minor": 2
}
