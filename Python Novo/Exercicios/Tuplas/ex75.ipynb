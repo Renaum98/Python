{
 "cells": [
  {
   "cell_type": "markdown",
   "metadata": {},
   "source": [
    "#### **75** - Desenvolva um programa que leia quatro valores pelo teclado e guarde-os em uma tupla.No final mostre:\n",
    "\n",
    "1 - Quantas vezes apareceu o valor 9.\n",
    "\n",
    "2 - Em que posição foi digitado o primeiro valor 3.\n",
    "\n",
    "3 - Quais foram os numeros pares."
   ]
  },
  {
   "cell_type": "code",
   "execution_count": 2,
   "metadata": {},
   "outputs": [
    {
     "name": "stdout",
     "output_type": "stream",
     "text": [
      "(9, 4, 5, 7)\n",
      "Foi digitado o numero nove 1 vezes\n",
      "Não foi digitado nenhum valor 3\n",
      "O numeros pares digitados foram: (4,)\n"
     ]
    }
   ],
   "source": [
    "tupla = tupla_par = ()\n",
    "n9 = n3 = 0\n",
    "for c in range(4):\n",
    "    num = int(input('Digite um valor inteiro: '))\n",
    "    tupla+=(num, )\n",
    "    if num == 9:\n",
    "        n9+=1\n",
    "    if num % 2 == 0:\n",
    "        tupla_par+=(num, )\n",
    "print(tupla)\n",
    "print(f'Foi digitado o numero nove {n9} vezes')\n",
    "if 3 not in tupla:\n",
    "    print('Não foi digitado nenhum valor 3')\n",
    "else:\n",
    "    n3 = tupla.index(3)+1\n",
    "    print(f'O primeiro numero 3 foi digitado na {n3} posição')\n",
    "print(f'O numeros pares digitados foram: {tupla_par}')"
   ]
  }
 ],
 "metadata": {
  "kernelspec": {
   "display_name": "Python 3",
   "language": "python",
   "name": "python3"
  },
  "language_info": {
   "codemirror_mode": {
    "name": "ipython",
    "version": 3
   },
   "file_extension": ".py",
   "mimetype": "text/x-python",
   "name": "python",
   "nbconvert_exporter": "python",
   "pygments_lexer": "ipython3",
   "version": "3.12.5"
  }
 },
 "nbformat": 4,
 "nbformat_minor": 2
}
