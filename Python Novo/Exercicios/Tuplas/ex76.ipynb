{
 "cells": [
  {
   "cell_type": "markdown",
   "metadata": {},
   "source": [
    "#### **76** - Crie um programa que tenha uma tupla unica com nomes de produtos e seus respectivos preços, na sequencia.No final, mostre uma listagem de preços organizando os dados em forma tabular.\n",
    "\n",
    "exemplo :\n",
    "    \n",
    "listagem = ('Pão', 10, 'Leite', 25, 'Frango', 10.99)"
   ]
  },
  {
   "cell_type": "code",
   "execution_count": 8,
   "metadata": {},
   "outputs": [
    {
     "name": "stdout",
     "output_type": "stream",
     "text": [
      "____________Lista de compras____________\n",
      "Pao...........................R$  20.00\n",
      "Leite.........................R$  10.00\n",
      "Amendoin......................R$  10.20\n",
      "Macarrao......................R$  13.65\n",
      "Panela........................R$  54.25\n",
      "Bolacha.......................R$  10.51\n",
      "Banana........................R$   2.54\n",
      "Azeitona......................R$  15.10\n",
      "____________________________Volte Sempre\n"
     ]
    }
   ],
   "source": [
    "par = impar = 0\n",
    "tupla_prod = tupla_valor = ()\n",
    "tupla = ('Pao', 20, 'Leite', 10, 'Amendoin', 10.20, 'Macarrao', 13.65, 'Panela', 54.25, 'Bolacha', 10.51, 'Banana', 2.54, 'Azeitona', 15.10)\n",
    "tupla_prod = tupla[0::2]\n",
    "tupla_valor = tupla[1::2]\n",
    "\n",
    "print('{:_^40}'.format('Lista de compras'))\n",
    "\n",
    "for cont in range(0,len(tupla_prod)):\n",
    "    print(f'{tupla_prod[cont]:.<30}R${tupla_valor[cont]:>7.2f}')\n",
    "    \n",
    "\n",
    "print('{:_>40}'.format('Volte Sempre'))\n",
    "\n",
    "\n"
   ]
  },
  {
   "cell_type": "markdown",
   "metadata": {},
   "source": [
    "**Correção**"
   ]
  },
  {
   "cell_type": "code",
   "execution_count": 20,
   "metadata": {},
   "outputs": [
    {
     "name": "stdout",
     "output_type": "stream",
     "text": [
      "----------------------------------------\n",
      "           Listagem de Preços           \n",
      "----------------------------------------\n",
      "Pao...........................R$  20.00\n",
      "Leite.........................R$  10.00\n",
      "Amendoin......................R$  10.20\n",
      "Macarrao......................R$  13.65\n",
      "Panela........................R$  54.25\n",
      "Bolacha.......................R$  10.51\n",
      "Banana........................R$   2.54\n",
      "Azeitona......................R$  15.10\n",
      "----------------------------------------\n"
     ]
    }
   ],
   "source": [
    "listagem = ('Pao', 20, \n",
    "         'Leite', 10, \n",
    "         'Amendoin', 10.20, \n",
    "         'Macarrao', 13.65, \n",
    "         'Panela', 54.25, \n",
    "         'Bolacha', 10.51, \n",
    "         'Banana', 2.54, \n",
    "         'Azeitona', 15.10)\n",
    "print('-'*40)\n",
    "print(f'{\"Listagem de Preços\":^40}')\n",
    "print('-'*40)\n",
    "for pos in range(0,len(listagem)):\n",
    "    if pos % 2 == 0:\n",
    "        print(f'{listagem[pos]:.<30}', end='')\n",
    "    else:\n",
    "        print(f'R${listagem[pos]:>7.2f}')\n",
    "print('-'*40)"
   ]
  }
 ],
 "metadata": {
  "kernelspec": {
   "display_name": "Python 3",
   "language": "python",
   "name": "python3"
  },
  "language_info": {
   "codemirror_mode": {
    "name": "ipython",
    "version": 3
   },
   "file_extension": ".py",
   "mimetype": "text/x-python",
   "name": "python",
   "nbconvert_exporter": "python",
   "pygments_lexer": "ipython3",
   "version": "3.12.5"
  }
 },
 "nbformat": 4,
 "nbformat_minor": 2
}
