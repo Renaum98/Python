{
 "cells": [
  {
   "cell_type": "markdown",
   "metadata": {},
   "source": [
    "#### **76** - Crie um programa que tenha uma tupla unica com nomes de produtos e seus respectivos preços, na sequencia.No final, mostre uma listagem de preços organizando os dados em forma tabular.\n",
    "\n",
    "exemplo :\n",
    "    \n",
    "listagem = ('Pão', 10, 'Leite', 25, 'Frango', 10.99)"
   ]
  },
  {
   "cell_type": "code",
   "execution_count": 41,
   "metadata": {},
   "outputs": [
    {
     "ename": "TypeError",
     "evalue": "unsupported operand type(s) for %: 'tuple' and 'int'",
     "output_type": "error",
     "traceback": [
      "\u001b[1;31m---------------------------------------------------------------------------\u001b[0m",
      "\u001b[1;31mTypeError\u001b[0m                                 Traceback (most recent call last)",
      "Cell \u001b[1;32mIn[41], line 3\u001b[0m\n\u001b[0;32m      1\u001b[0m tupla_prod \u001b[38;5;241m=\u001b[39m tupla_valor \u001b[38;5;241m=\u001b[39m ()\n\u001b[0;32m      2\u001b[0m tupla \u001b[38;5;241m=\u001b[39m (\u001b[38;5;124m'\u001b[39m\u001b[38;5;124mPao\u001b[39m\u001b[38;5;124m'\u001b[39m, \u001b[38;5;241m20\u001b[39m, \u001b[38;5;124m'\u001b[39m\u001b[38;5;124mLeite\u001b[39m\u001b[38;5;124m'\u001b[39m, \u001b[38;5;241m10\u001b[39m, \u001b[38;5;124m'\u001b[39m\u001b[38;5;124mAmendoin\u001b[39m\u001b[38;5;124m'\u001b[39m, \u001b[38;5;241m10.20\u001b[39m, \u001b[38;5;124m'\u001b[39m\u001b[38;5;124mMacarrao\u001b[39m\u001b[38;5;124m'\u001b[39m, \u001b[38;5;241m13.65\u001b[39m, \u001b[38;5;124m'\u001b[39m\u001b[38;5;124mPanela\u001b[39m\u001b[38;5;124m'\u001b[39m, \u001b[38;5;241m54.25\u001b[39m, \u001b[38;5;124m'\u001b[39m\u001b[38;5;124mBolacha\u001b[39m\u001b[38;5;124m'\u001b[39m, \u001b[38;5;241m10.51\u001b[39m, \u001b[38;5;124m'\u001b[39m\u001b[38;5;124mBanana\u001b[39m\u001b[38;5;124m'\u001b[39m, \u001b[38;5;241m2.54\u001b[39m, \u001b[38;5;124m'\u001b[39m\u001b[38;5;124mAzeitona\u001b[39m\u001b[38;5;124m'\u001b[39m, \u001b[38;5;241m15.10\u001b[39m)\n\u001b[1;32m----> 3\u001b[0m \u001b[38;5;28;01mif\u001b[39;00m \u001b[43mtupla\u001b[49m\u001b[43m[\u001b[49m\u001b[38;5;241;43m0\u001b[39;49m\u001b[43m:\u001b[49m\u001b[43m]\u001b[49m\u001b[43m \u001b[49m\u001b[38;5;241;43m%\u001b[39;49m\u001b[43m \u001b[49m\u001b[38;5;241;43m2\u001b[39;49m \u001b[38;5;241m==\u001b[39m \u001b[38;5;241m0\u001b[39m:\n\u001b[0;32m      4\u001b[0m     \u001b[38;5;28mprint\u001b[39m(tupla)\n",
      "\u001b[1;31mTypeError\u001b[0m: unsupported operand type(s) for %: 'tuple' and 'int'"
     ]
    }
   ],
   "source": [
    "tupla_prod = tupla_valor = ()\n",
    "tupla = ('Pao', 20, 'Leite', 10, 'Amendoin', 10.20, 'Macarrao', 13.65, 'Panela', 54.25, 'Bolacha', 10.51, 'Banana', 2.54, 'Azeitona', 15.10)\n"
   ]
  }
 ],
 "metadata": {
  "kernelspec": {
   "display_name": "Python 3",
   "language": "python",
   "name": "python3"
  },
  "language_info": {
   "codemirror_mode": {
    "name": "ipython",
    "version": 3
   },
   "file_extension": ".py",
   "mimetype": "text/x-python",
   "name": "python",
   "nbconvert_exporter": "python",
   "pygments_lexer": "ipython3",
   "version": "3.12.5"
  }
 },
 "nbformat": 4,
 "nbformat_minor": 2
}
