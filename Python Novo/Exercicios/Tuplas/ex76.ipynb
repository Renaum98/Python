{
 "cells": [
  {
   "cell_type": "markdown",
   "metadata": {},
   "source": [
    "#### **76** - Crie um programa que tenha uma tupla unica com nomes de produtos e seus respectivos preços, na sequencia.No final, mostre uma listagem de preços organizando os dados em forma tabular.\n",
    "\n",
    "exemplo :\n",
    "    \n",
    "listagem = ('Pão', 10, 'Leite', 25, 'Frango', 10.99)"
   ]
  },
  {
   "cell_type": "code",
   "execution_count": 6,
   "metadata": {},
   "outputs": [
    {
     "name": "stdout",
     "output_type": "stream",
     "text": [
      "('Pao', 20, 'Leite', 10, 'Amendoin', 10.2, 'Macarrao', 13.65, 'Panela', 54.25, 'Bolacha', 10.51, 'Banana', 2.54, 'Azeitona', 15.1)\n"
     ]
    }
   ],
   "source": [
    "tupla_prod = tupla_valor = ()\n",
    "tupla = ('Pao', 20, 'Leite', 10, 'Amendoin', 10.20, 'Macarrao', 13.65, 'Panela', 54.25, 'Bolacha', 10.51, 'Banana', 2.54, 'Azeitona', 15.10)\n",
    "\n"
   ]
  }
 ],
 "metadata": {
  "kernelspec": {
   "display_name": "Python 3",
   "language": "python",
   "name": "python3"
  },
  "language_info": {
   "codemirror_mode": {
    "name": "ipython",
    "version": 3
   },
   "file_extension": ".py",
   "mimetype": "text/x-python",
   "name": "python",
   "nbconvert_exporter": "python",
   "pygments_lexer": "ipython3",
   "version": "3.12.5"
  }
 },
 "nbformat": 4,
 "nbformat_minor": 2
}
