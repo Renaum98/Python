{
 "cells": [
  {
   "cell_type": "markdown",
   "metadata": {},
   "source": [
    "#### **74** - Crie um programa que vai gerar cinco numeros aleatorios e colocar em um tupla.Depois disso mostre a listagem de numeros gerados e tambem indique o menor e o maior valor que estão na tupla"
   ]
  }
 ],
 "metadata": {
  "language_info": {
   "name": "python"
  }
 },
 "nbformat": 4,
 "nbformat_minor": 2
}
