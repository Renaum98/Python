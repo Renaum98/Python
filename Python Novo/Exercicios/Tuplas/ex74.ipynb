{
 "cells": [
  {
   "cell_type": "markdown",
   "metadata": {},
   "source": [
    "#### **74** - Crie um programa que vai gerar cinco numeros aleatorios e colocar em um tupla.Depois disso mostre a listagem de numeros gerados e tambem indique o menor e o maior valor que estão na tupla"
   ]
  },
  {
   "cell_type": "code",
   "execution_count": 62,
   "metadata": {},
   "outputs": [
    {
     "name": "stdout",
     "output_type": "stream",
     "text": [
      "Os valores gerados foram: (5, 1, 6, 7, 1)\n",
      "O menor numero gerado foi: 1\n",
      "O maior numero gerado foi: 7\n"
     ]
    }
   ],
   "source": [
    "import random\n",
    "tupla_vazia = ()\n",
    "menor = maior = cont = 0\n",
    "\n",
    "for cont in range (5):\n",
    "    aleatorio = random.randint(1,10) \n",
    "    tupla_vazia+=(aleatorio,)\n",
    "    if cont == 1 or aleatorio < menor:\n",
    "        menor = aleatorio\n",
    "    \n",
    "    if aleatorio > maior:\n",
    "        maior = aleatorio\n",
    "\n",
    "    \n",
    "\n",
    "print(f'Os valores gerados foram: {tupla_vazia}')\n",
    "print(f'O menor numero gerado foi: {menor}')\n",
    "print(f'O maior numero gerado foi: {maior}')"
   ]
  },
  {
   "cell_type": "markdown",
   "metadata": {},
   "source": [
    "**Codigo corrigido sem repetição**"
   ]
  },
  {
   "cell_type": "code",
   "execution_count": 57,
   "metadata": {},
   "outputs": [
    {
     "name": "stdout",
     "output_type": "stream",
     "text": [
      "Os valores sorteados foram: 3 7 3 5 10 \n",
      "O maior valor sorteado foi 10\n",
      "O menor valor sorteado foi 3\n"
     ]
    }
   ],
   "source": [
    "from random import randint\n",
    "numeros = (randint(1,10), randint(1,10), randint(1,10), randint(1,10),randint(1,10))\n",
    "\n",
    "print('Os valores sorteados foram: ',end='')\n",
    "\n",
    "for n in numeros:\n",
    "    print(f'{n} ',end='')\n",
    "\n",
    "print(f'\\nO maior valor sorteado foi {max(numeros)}')\n",
    "print(f'O menor valor sorteado foi {min(numeros)}')"
   ]
  }
 ],
 "metadata": {
  "kernelspec": {
   "display_name": "Python 3",
   "language": "python",
   "name": "python3"
  },
  "language_info": {
   "codemirror_mode": {
    "name": "ipython",
    "version": 3
   },
   "file_extension": ".py",
   "mimetype": "text/x-python",
   "name": "python",
   "nbconvert_exporter": "python",
   "pygments_lexer": "ipython3",
   "version": "3.12.5"
  }
 },
 "nbformat": 4,
 "nbformat_minor": 2
}
