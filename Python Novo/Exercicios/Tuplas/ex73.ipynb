{
 "cells": [
  {
   "cell_type": "markdown",
   "metadata": {},
   "source": [
    "#### **73** - Crie uma tupla preenchida com os 20 primeiros colocados da tabela do Brasileirão, na ordem de colocação.Depois mostre:\n",
    "\n",
    "1 - Apenas os 5 primeiros colocados\n",
    "\n",
    "2 - os ultimos 4 colocados\n",
    "\n",
    "3 - Uma lista com os times em ordem alfabetica\n",
    "\n",
    "4 - Em que posição na tabela esta o time da Chapecoense\n"
   ]
  }
 ],
 "metadata": {
  "language_info": {
   "name": "python"
  }
 },
 "nbformat": 4,
 "nbformat_minor": 2
}
