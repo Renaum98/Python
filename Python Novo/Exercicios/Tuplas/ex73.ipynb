{
 "cells": [
  {
   "cell_type": "markdown",
   "metadata": {},
   "source": [
    "#### **73** - Crie uma tupla preenchida com os 20 primeiros colocados da tabela do Brasileirão, na ordem de colocação.Depois mostre:\n",
    "\n",
    "1 - Apenas os 5 primeiros colocados\n",
    "\n",
    "2 - os ultimos 4 colocados\n",
    "\n",
    "3 - Uma lista com os times em ordem alfabetica\n",
    "\n",
    "4 - Em que posição na tabela esta o time da Chapecoense\n"
   ]
  },
  {
   "cell_type": "code",
   "execution_count": 11,
   "metadata": {},
   "outputs": [
    {
     "name": "stdout",
     "output_type": "stream",
     "text": [
      "------------------------------\n",
      "Os cinco primeiros times do Brasileirão são ('Flamengo', 'Palmeiras', 'Internacional', 'Fluminense', 'Atlético Mineiro')\n",
      "------------------------------\n",
      "Esses são os ultimos 4 colocados: ('Fortaleza', 'Coritiba', 'Santos', 'Chapecoense')\n",
      "------------------------------\n",
      "Times em ordem alfabetica ['Athletico Paranaense', 'Atlético Mineiro', 'Bahia', 'Botafogo', 'Bragantino', 'Chapecoense', 'Corinthians', 'Coritiba', 'Cruzeiro', 'Cuiabá', 'Flamengo', 'Fluminense', 'Fortaleza', 'Goiás', 'Grêmio', 'Internacional', 'Palmeiras', 'Santos', 'São Paulo', 'Vasco da Gama']\n",
      "------------------------------\n",
      "O Chapecoense esta na 20ª posição\n",
      "------------------------------\n"
     ]
    }
   ],
   "source": [
    "times = ('Flamengo','Palmeiras', 'Internacional', 'Fluminense', 'Atlético Mineiro', 'São Paulo', 'Athletico Paranaense', 'Botafogo', 'Corinthians', 'Grêmio', 'Cruzeiro', 'Vasco da Gama', 'Goiás', 'Bragantino', 'Cuiabá', 'Bahia', 'Fortaleza', 'Coritiba', 'Santos', 'Chapecoense')\n",
    "\n",
    "print('-'*30)\n",
    "print(f'Os cinco primeiros times do Brasileirão são {times[0:5]}')\n",
    "print('-'*30)\n",
    "\n",
    "print(f'Esses são os ultimos 4 colocados: {times[-4:]}')\n",
    "print('-'*30)\n",
    "\n",
    "print(f'Times em ordem alfabetica {sorted(times)}')\n",
    "print('-'*30)\n",
    "\n",
    " \n",
    "print(f'O Chapecoense esta na {times.index('Chapecoense')+1}ª posição')\n",
    "print('-'*30)"
   ]
  }
 ],
 "metadata": {
  "kernelspec": {
   "display_name": "Python 3",
   "language": "python",
   "name": "python3"
  },
  "language_info": {
   "codemirror_mode": {
    "name": "ipython",
    "version": 3
   },
   "file_extension": ".py",
   "mimetype": "text/x-python",
   "name": "python",
   "nbconvert_exporter": "python",
   "pygments_lexer": "ipython3",
   "version": "3.12.5"
  }
 },
 "nbformat": 4,
 "nbformat_minor": 2
}
