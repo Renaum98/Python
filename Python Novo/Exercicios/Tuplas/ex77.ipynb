{
 "cells": [
  {
   "cell_type": "markdown",
   "metadata": {},
   "source": [
    "#### **77** - Crie um programa que tenha uma tupla com varias palavras(não usando ascentos) depois disso deve mostrar para cada palavra quais são vogais."
   ]
  },
  {
   "cell_type": "code",
   "execution_count": 1,
   "metadata": {},
   "outputs": [
    {
     "ename": "TypeError",
     "evalue": "'in <string>' requires string as left operand, not tuple",
     "output_type": "error",
     "traceback": [
      "\u001b[1;31m---------------------------------------------------------------------------\u001b[0m",
      "\u001b[1;31mTypeError\u001b[0m                                 Traceback (most recent call last)",
      "Cell \u001b[1;32mIn[1], line 6\u001b[0m\n\u001b[0;32m      4\u001b[0m \u001b[38;5;28;01mfor\u001b[39;00m cont \u001b[38;5;129;01min\u001b[39;00m \u001b[38;5;28mrange\u001b[39m(\u001b[38;5;241m0\u001b[39m,\u001b[38;5;28mlen\u001b[39m(tupla)):\n\u001b[0;32m      5\u001b[0m     palavra \u001b[38;5;241m=\u001b[39m ()\n\u001b[1;32m----> 6\u001b[0m     \u001b[38;5;28;01mif\u001b[39;00m \u001b[43mvogais\u001b[49m\u001b[43m \u001b[49m\u001b[38;5;129;43;01min\u001b[39;49;00m\u001b[43m \u001b[49m\u001b[43mtupla\u001b[49m\u001b[43m[\u001b[49m\u001b[43mcont\u001b[49m\u001b[43m]\u001b[49m:\n\u001b[0;32m      7\u001b[0m         palavra\u001b[38;5;241m+\u001b[39m\u001b[38;5;241m=\u001b[39m(vogais, )\n",
      "\u001b[1;31mTypeError\u001b[0m: 'in <string>' requires string as left operand, not tuple"
     ]
    }
   ],
   "source": [
    "tupla = ('armario','carro','armadilha','computador','feio','livro','celular','caneta','lapis')\n",
    "vogais = ('a','e','i','o','u')\n",
    "\n",
    "for cont in range(0,len(tupla)):\n",
    "    palavra = ()\n",
    "    if vogais in tupla[cont]:\n",
    "        palavra+=(vogais, )\n",
    "    "
   ]
  },
  {
   "cell_type": "markdown",
   "metadata": {},
   "source": [
    "**Correção**"
   ]
  },
  {
   "cell_type": "code",
   "execution_count": 13,
   "metadata": {},
   "outputs": [
    {
     "name": "stdout",
     "output_type": "stream",
     "text": [
      "\n",
      "Na Palavra ARMARIO temos a-a-i-o-\n",
      "Na Palavra CARRO temos a-o-\n",
      "Na Palavra ARMADILHA temos a-a-i-a-\n",
      "Na Palavra COMPUTADOR temos o-u-a-o-\n",
      "Na Palavra FEIO temos e-i-o-\n",
      "Na Palavra LIVRO temos i-o-\n",
      "Na Palavra CELULAR temos e-u-a-\n",
      "Na Palavra CANETA temos a-e-a-\n",
      "Na Palavra LAPIS temos a-i-"
     ]
    }
   ],
   "source": [
    "palavras = ('armario','carro','armadilha','computador','feio','livro','celular','caneta','lapis')\n",
    "\n",
    "for p in palavras:\n",
    "    print(f'\\nNa Palavra {p.upper()} temos ', end='')\n",
    "    for letra in p:\n",
    "        if letra.lower() in 'aeiou':\n",
    "            print(letra, end='-')"
   ]
  }
 ],
 "metadata": {
  "kernelspec": {
   "display_name": "Python 3",
   "language": "python",
   "name": "python3"
  },
  "language_info": {
   "codemirror_mode": {
    "name": "ipython",
    "version": 3
   },
   "file_extension": ".py",
   "mimetype": "text/x-python",
   "name": "python",
   "nbconvert_exporter": "python",
   "pygments_lexer": "ipython3",
   "version": "3.11.9"
  }
 },
 "nbformat": 4,
 "nbformat_minor": 2
}
