{
 "cells": [
  {
   "cell_type": "markdown",
   "metadata": {},
   "source": [
    "#### **77** - Crie um programa que tenha uma tupula com varias palavras(não usando ascentos) depois disso deve mostrar para cada palavra quais são vogais."
   ]
  }
 ],
 "metadata": {
  "language_info": {
   "name": "python"
  }
 },
 "nbformat": 4,
 "nbformat_minor": 2
}
