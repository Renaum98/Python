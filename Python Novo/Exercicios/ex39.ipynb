{
 "cells": [
  {
   "cell_type": "markdown",
   "metadata": {},
   "source": [
    "39 - Faça um programa que leia o ano de nascimento de um jovem e informe de acordo com a sua idade:\n",
    "\n",
    "-Se ele ainda vai se alistar ao serviço militar\n",
    "\n",
    "-Se é a hora de se alistar\n",
    "\n",
    "-Se ja passou do tempo do alistamento.\n",
    "\n",
    "Seu programa tambem devera mostrar o tempo que falta ou que passou do prazo."
   ]
  }
 ],
 "metadata": {
  "language_info": {
   "name": "python"
  }
 },
 "nbformat": 4,
 "nbformat_minor": 2
}
