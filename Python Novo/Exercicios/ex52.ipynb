{
 "cells": [
  {
   "cell_type": "markdown",
   "metadata": {},
   "source": [
    "### **52** - Faça um programa que leia um numero inteiro e diga se ele é ou não um numero primo."
   ]
  },
  {
   "cell_type": "code",
   "execution_count": 1,
   "metadata": {},
   "outputs": [
    {
     "name": "stdout",
     "output_type": "stream",
     "text": [
      "13 é um número primo.\n"
     ]
    }
   ],
   "source": [
    "# Solicitar um número inteiro ao usuário\n",
    "num = int(input(\"Digite um número inteiro: \"))\n",
    "\n",
    "# Verificar se o número é primo\n",
    "if num <= 1:\n",
    "    print(f\"{num} não é um número primo.\")  # Números menores ou iguais a 1 não são primos\n",
    "else:\n",
    "    # Verificar se o número tem divisores além de 1 e ele mesmo\n",
    "    for i in range(2, num):\n",
    "        if num % i == 0:\n",
    "            print(f\"{num} não é um número primo.\")  # Encontrou um divisor, não é primo\n",
    "            break\n",
    "    else:\n",
    "        print(f\"{num} é um número primo.\")  # Não encontrou nenhum divisor, é primo\n"
   ]
  }
 ],
 "metadata": {
  "kernelspec": {
   "display_name": "Python 3",
   "language": "python",
   "name": "python3"
  },
  "language_info": {
   "codemirror_mode": {
    "name": "ipython",
    "version": 3
   },
   "file_extension": ".py",
   "mimetype": "text/x-python",
   "name": "python",
   "nbconvert_exporter": "python",
   "pygments_lexer": "ipython3",
   "version": "3.12.5"
  }
 },
 "nbformat": 4,
 "nbformat_minor": 2
}
