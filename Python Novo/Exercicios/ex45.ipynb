{
 "cells": [
  {
   "cell_type": "markdown",
   "metadata": {},
   "source": [
    "45 - Crie um programa que faça o computador jogar jokenpo com você.\n"
   ]
  },
  {
   "cell_type": "code",
   "execution_count": 6,
   "metadata": {},
   "outputs": [
    {
     "name": "stdout",
     "output_type": "stream",
     "text": [
      "Papel\n"
     ]
    }
   ],
   "source": [
    "import random\n",
    "lista = ['Pedra','Papel','Tesoura']\n",
    "pc = random.choice(lista)\n",
    "print(pc)"
   ]
  }
 ],
 "metadata": {
  "kernelspec": {
   "display_name": "Python 3",
   "language": "python",
   "name": "python3"
  },
  "language_info": {
   "codemirror_mode": {
    "name": "ipython",
    "version": 3
   },
   "file_extension": ".py",
   "mimetype": "text/x-python",
   "name": "python",
   "nbconvert_exporter": "python",
   "pygments_lexer": "ipython3",
   "version": "3.12.5"
  }
 },
 "nbformat": 4,
 "nbformat_minor": 2
}
