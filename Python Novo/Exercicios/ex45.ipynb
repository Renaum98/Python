{
 "cells": [
  {
   "cell_type": "markdown",
   "metadata": {},
   "source": [
    "45 - Crie um programa que faça o computador jogar jokenpo com você.\n"
   ]
  }
 ],
 "metadata": {
  "language_info": {
   "name": "python"
  }
 },
 "nbformat": 4,
 "nbformat_minor": 2
}
