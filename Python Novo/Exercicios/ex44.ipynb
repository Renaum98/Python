{
 "cells": [
  {
   "cell_type": "markdown",
   "metadata": {},
   "source": [
    "44 - Elabore um programa que calcule o valor a ser pago por um produto, considerando o seu preço normal e condição de pagamento:\n",
    "\n",
    "-A vista dinheiro/cheque: 10% de desconto\n",
    "\n",
    "-A vista no cartão: 5% de desconto\n",
    "\n",
    "-Em até 2x no cartão: Preço normal\n",
    "\n",
    "-3x ou mais no cartão: 20% de juros "
   ]
  },
  {
   "cell_type": "code",
   "execution_count": 36,
   "metadata": {},
   "outputs": [
    {
     "name": "stdout",
     "output_type": "stream",
     "text": [
      "Formas de pagamento disponíveis:\n",
      "0 - Dinheiro/Cheque\n",
      "1 - À vista\n",
      "2 - Parcelado até 2x\n",
      "3 - Parcelado em 3x ou mais\n",
      "\n",
      "Processando...\n",
      "\n",
      "Valor do produto: R$152.10\n",
      "Forma de pagamento: Parcelado em 3x ou mais\n",
      "\n",
      "Valores parcelados em 3x ou mais terão um acrescimo de 20% no valor final\n",
      "O valor final com acrescimos sera: R$182.52\n",
      "O valor da parcela sera: R$36.50\n",
      "\n",
      "Obrigado pela compra e volte sempre!\n"
     ]
    }
   ],
   "source": [
    "import time\n",
    "print('Formas de pagamento disponíveis:')\n",
    "print('0 - Dinheiro/Cheque')\n",
    "print('1 - À vista')\n",
    "print('2 - Parcelado até 2x')\n",
    "print('3 - Parcelado em 3x ou mais\\n')\n",
    "\n",
    "formaL = ['Dinheiro/Cheque', 'À vista', 'Parcelado até 2x', 'Parcelado em 3x ou mais']\n",
    "\n",
    "valorP = float(input('Digite o valor do produto desejado: R$ '))\n",
    "formaP = int(input('Digite a forma de pagamento (0-3): '))  \n",
    "\n",
    "print('...Processando...\\n')\n",
    "time.sleep(1.5)\n",
    "\n",
    "if formaP < 0 or formaP > 3:\n",
    "    print('Digite uma forma de pagamento valido')\n",
    "else:\n",
    "    print('Valor do produto: R${:.2f}\\nForma de pagamento: {}\\n'.format(valorP, formaL[formaP]))\n",
    "\n",
    "    if formaP == 0:\n",
    "        print('Parabens, você ganhou 10% de desconto na sua compra')\n",
    "        print('O valor final com desconto fica: R${:.2f}\\n'.format(valorP-(valorP*10/100)))\n",
    "    elif formaP == 1:\n",
    "        print('Parabens, você ganhou 5% de desconto na sua compra')\n",
    "        print('O valor final com desconto fica: R${:.2f}\\n'.format(valorP-(valorP*5/100)))\n",
    "    elif formaP == 2:\n",
    "        print(' O valor final a ser pago sera: R${:.2f}\\n'.format(valorP))\n",
    "    elif formaP == 3:\n",
    "        parcela = int(input('Em quantas parcelas deseja pagar: '))\n",
    "        acr = valorP+(valorP*20/100)\n",
    "        print('Valores parcelados em 3x ou mais terão um acrescimo de 20% no valor final')\n",
    "        print('O valor final com acrescimos sera: R${:.2f}'.format(acr))\n",
    "        print('O valor da parcela sera: R${:.2f}\\n'.format(acr/parcela))\n",
    "    print('Obrigado pela compra e volte sempre!')\n"
   ]
  }
 ],
 "metadata": {
  "kernelspec": {
   "display_name": "Python 3",
   "language": "python",
   "name": "python3"
  },
  "language_info": {
   "codemirror_mode": {
    "name": "ipython",
    "version": 3
   },
   "file_extension": ".py",
   "mimetype": "text/x-python",
   "name": "python",
   "nbconvert_exporter": "python",
   "pygments_lexer": "ipython3",
   "version": "3.12.5"
  }
 },
 "nbformat": 4,
 "nbformat_minor": 2
}
