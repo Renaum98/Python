{
 "cells": [
  {
   "cell_type": "markdown",
   "metadata": {},
   "source": [
    "44 - Elabore um programa que calcule o valor a ser pago por um produto, considerando o seu preço normal e condição de pagamento:\n",
    "\n",
    "-A vista dinheiro/cheque: 10% de desconto\n",
    "\n",
    "-A vista no cartão: 5% de desconto\n",
    "\n",
    "-Em até 2x no cartão: Preço normal\n",
    "\n",
    "-3x ou mais no cartão: 20% de juros "
   ]
  }
 ],
 "metadata": {
  "language_info": {
   "name": "python"
  }
 },
 "nbformat": 4,
 "nbformat_minor": 2
}
