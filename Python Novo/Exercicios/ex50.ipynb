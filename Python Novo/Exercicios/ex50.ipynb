{
 "cells": [
  {
   "cell_type": "markdown",
   "metadata": {},
   "source": [
    "### **50** - Desenvolva um programa que eia seis numeros inteiros e mostre a soma apenas daqueles que forem pares.Se o vaor digitado for impar, desconsidere-o."
   ]
  }
 ],
 "metadata": {
  "language_info": {
   "name": "python"
  }
 },
 "nbformat": 4,
 "nbformat_minor": 2
}
