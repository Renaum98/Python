{
 "cells": [
  {
   "cell_type": "markdown",
   "metadata": {},
   "source": [
    "### **50** - Desenvolva um programa que leia seis numeros inteiros e mostre a soma apenas daqueles que forem pares.Se o valor digitado for impar, desconsidere-o."
   ]
  },
  {
   "cell_type": "code",
   "execution_count": 5,
   "metadata": {},
   "outputs": [
    {
     "name": "stdout",
     "output_type": "stream",
     "text": [
      "A soma somente dos numeros pares é de : 88\n"
     ]
    }
   ],
   "source": [
    "s1 = 0\n",
    "for num in range(1,7):\n",
    "    n = int(input('Digite um numero inteiro:'))\n",
    "    if n % 2 == 0:\n",
    "        s1+=n\n",
    "print('A soma somente dos numeros pares é de : {}'.format(s1))"
   ]
  }
 ],
 "metadata": {
  "kernelspec": {
   "display_name": "Python 3",
   "language": "python",
   "name": "python3"
  },
  "language_info": {
   "codemirror_mode": {
    "name": "ipython",
    "version": 3
   },
   "file_extension": ".py",
   "mimetype": "text/x-python",
   "name": "python",
   "nbconvert_exporter": "python",
   "pygments_lexer": "ipython3",
   "version": "3.11.9"
  }
 },
 "nbformat": 4,
 "nbformat_minor": 2
}
