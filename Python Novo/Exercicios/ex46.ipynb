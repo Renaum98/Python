{
 "cells": [
  {
   "cell_type": "markdown",
   "metadata": {},
   "source": [
    "### **46** - Faça um programa que mostre na tela uma **contagem regressiva** para o estouro de fogos de artificio, indo de 10 até 0, com uma pausa de 1 segundo entre eles "
   ]
  }
 ],
 "metadata": {
  "language_info": {
   "name": "python"
  }
 },
 "nbformat": 4,
 "nbformat_minor": 2
}
