{
 "cells": [
  {
   "cell_type": "markdown",
   "metadata": {},
   "source": [
    "### **79** - Crie um programa onde o usuario possa digitar varios valores numericos e cadastre-os em uma lista.Caso o numero ja exista la dentro, ele não sera adicionado.No final serão exibidos todos os valores unicos digitados em ordem crescente."
   ]
  },
  {
   "cell_type": "code",
   "execution_count": 6,
   "metadata": {},
   "outputs": [
    {
     "name": "stdout",
     "output_type": "stream",
     "text": [
      "Numero duplicado não sera adicionado\n",
      "Numero duplicado não sera adicionado\n",
      "Numero duplicado não sera adicionado\n",
      "Numero duplicado não sera adicionado\n",
      "[1, 2, 4, 5, 7, 8, 9]\n",
      "Acabou...\n"
     ]
    }
   ],
   "source": [
    "valor = []\n",
    "while True:\n",
    "    num = int(input('Digite um numero: '))\n",
    "    if num in valor:\n",
    "        print('Numero duplicado não sera adicionado')\n",
    "    else:\n",
    "        valor.append(num)\n",
    "        \n",
    "    continuar = ' '\n",
    "    while continuar not in 'S,N':\n",
    "        continuar = input('Deseja continuar?[S/N]').upper()[0]\n",
    "    if continuar in 'N':\n",
    "        break\n",
    "\n",
    "\n",
    "print(sorted(valor))\n",
    "print('Acabou...')"
   ]
  }
 ],
 "metadata": {
  "kernelspec": {
   "display_name": "Python 3",
   "language": "python",
   "name": "python3"
  },
  "language_info": {
   "codemirror_mode": {
    "name": "ipython",
    "version": 3
   },
   "file_extension": ".py",
   "mimetype": "text/x-python",
   "name": "python",
   "nbconvert_exporter": "python",
   "pygments_lexer": "ipython3",
   "version": "3.12.5"
  }
 },
 "nbformat": 4,
 "nbformat_minor": 2
}
