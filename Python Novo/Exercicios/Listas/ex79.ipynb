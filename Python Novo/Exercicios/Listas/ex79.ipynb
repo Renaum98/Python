{
 "cells": [
  {
   "cell_type": "markdown",
   "metadata": {},
   "source": [
    "### **79** - Crie um programa onde o usuario possa digitar varios valores numericos e cadastre-os em uma lista.Caso o numero ja exista la dentro, ele não sera adicionado.No final serão exibidos todos os valores unicos digitados em ordem crescente."
   ]
  },
  {
   "cell_type": "code",
   "execution_count": 6,
   "metadata": {},
   "outputs": [
    {
     "name": "stdout",
     "output_type": "stream",
     "text": [
      "Numero adicionado...\n",
      "Numero adicionado...\n",
      "Numero adicionado...\n",
      "Numero adicionado...\n",
      "Numero adicionado...\n",
      "Os valores adicionados foram: [5, 6, 7, 8, 10]\n",
      "------------------------------\n",
      "A soma dos valores é: 36\n",
      "------------------------------\n",
      "A Média dos valores é: 7.20\n",
      "------------------------------\n",
      "Fim do Programa\n"
     ]
    }
   ],
   "source": [
    "valor = []\n",
    "soma = cont = 0\n",
    "while True:\n",
    "    num = int(input('Digite um numero: '))\n",
    "    if num in valor:\n",
    "        print('Numero duplicado não sera adicionado')\n",
    "    else:\n",
    "        print('Numero adicionado...')\n",
    "        soma+=num\n",
    "        cont+=1\n",
    "        valor.append(num)\n",
    "\n",
    "        \n",
    "    continuar = ' '\n",
    "    while continuar not in 'S,N':\n",
    "        continuar = input('Deseja continuar?[S/N]').upper()[0]\n",
    "    if continuar in 'N':\n",
    "        break\n",
    "\n",
    "\n",
    "\n",
    "print(f'Os valores adicionados foram: {sorted(valor)}')\n",
    "print('-'*30)\n",
    "print(f'A soma dos valores é: {soma}')\n",
    "print('-'*30)\n",
    "print(f'A Média dos valores é: {soma/cont:.2f}')\n",
    "print('-'*30)\n",
    "print('Fim do Programa')"
   ]
  }
 ],
 "metadata": {
  "kernelspec": {
   "display_name": "Python 3",
   "language": "python",
   "name": "python3"
  },
  "language_info": {
   "codemirror_mode": {
    "name": "ipython",
    "version": 3
   },
   "file_extension": ".py",
   "mimetype": "text/x-python",
   "name": "python",
   "nbconvert_exporter": "python",
   "pygments_lexer": "ipython3",
   "version": "3.12.5"
  }
 },
 "nbformat": 4,
 "nbformat_minor": 2
}
