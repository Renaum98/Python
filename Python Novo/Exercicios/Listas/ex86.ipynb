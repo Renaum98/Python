{
 "cells": [
  {
   "cell_type": "markdown",
   "metadata": {},
   "source": [
    "### **86** - crie um programa que crie uma matriz 3x3 e preencha com valores lidos pelo teclado.No final mostre na tela com a formatação correta.\n",
    "\n",
    "0   0   0\n",
    "\n",
    "0   0   0\n",
    "\n",
    "0   0   0"
   ]
  }
 ],
 "metadata": {
  "language_info": {
   "name": "python"
  }
 },
 "nbformat": 4,
 "nbformat_minor": 2
}
