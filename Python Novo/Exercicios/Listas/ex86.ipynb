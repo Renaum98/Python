{
 "cells": [
  {
   "cell_type": "markdown",
   "metadata": {},
   "source": [
    "### **86** - crie um programa que crie uma matriz 3x3 e preencha com valores lidos pelo teclado.No final mostre na tela com a formatação correta.\n",
    "\n",
    "[ 0 ]   [ 0 ]   [ 0 ]\n",
    "\n",
    "[ 0 ]   [ 0 ]   [ 0 ]\n",
    "\n",
    "[ 0 ]   [ 0 ]   [ 0 ]"
   ]
  },
  {
   "cell_type": "code",
   "execution_count": null,
   "metadata": {},
   "outputs": [],
   "source": []
  }
 ],
 "metadata": {
  "kernelspec": {
   "display_name": "Python 3",
   "language": "python",
   "name": "python3"
  },
  "language_info": {
   "codemirror_mode": {
    "name": "ipython",
    "version": 3
   },
   "file_extension": ".py",
   "mimetype": "text/x-python",
   "name": "python",
   "nbconvert_exporter": "python",
   "pygments_lexer": "ipython3",
   "version": "3.12.5"
  }
 },
 "nbformat": 4,
 "nbformat_minor": 2
}
