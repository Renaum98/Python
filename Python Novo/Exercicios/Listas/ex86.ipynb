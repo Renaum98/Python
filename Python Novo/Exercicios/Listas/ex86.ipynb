{
 "cells": [
  {
   "cell_type": "markdown",
   "metadata": {},
   "source": [
    "### **86** - crie um programa que crie uma matriz 3x3 e preencha com valores lidos pelo teclado.No final mostre na tela com a formatação correta.\n",
    "\n",
    "[ 0 ]   [ 0 ]   [ 0 ]\n",
    "\n",
    "[ 0 ]   [ 0 ]   [ 0 ]\n",
    "\n",
    "[ 0 ]   [ 0 ]   [ 0 ]"
   ]
  },
  {
   "cell_type": "code",
   "execution_count": 102,
   "metadata": {},
   "outputs": [
    {
     "name": "stdout",
     "output_type": "stream",
     "text": [
      ":::::MATRIZ 3X3:::::\n",
      "\n",
      "[  3  ][  2  ][  8  ]\n",
      "\n",
      "[ 10  ][  1  ][  1  ]\n",
      "\n",
      "[  2  ][  4  ][  5  ]\n",
      "\n",
      "::::::::::::::::::::\n"
     ]
    }
   ],
   "source": [
    "from random import randint\n",
    "lista = list()\n",
    "num = []\n",
    "for cont in range(0,3):\n",
    "    for sub in range(0,3):\n",
    "        num.append(randint(1,10))\n",
    "        #num.append(int(input(f'Digite um numero para a posição [{cont}] [{sub}]')))\n",
    "    lista.append(num[:])\n",
    "    num.clear()\n",
    "\n",
    "\n",
    "\n",
    "print(f'{'Matriz 3x3'::^20}\\n'.upper())\n",
    "\n",
    "for e, i in enumerate(lista[0]):\n",
    "    print(f'[{i:^5}]',end='')\n",
    "    if e == 2:\n",
    "        print('\\n')\n",
    "\n",
    "for e ,a in enumerate(lista[1]):\n",
    "    print(f'[{a:^5}]',end='')\n",
    "    if e == 2:\n",
    "        print('\\n')\n",
    "        \n",
    "for e, u in enumerate(lista[2]):\n",
    "    print(f'[{u:^5}]',end='')\n",
    "    if e == 2:\n",
    "        print('\\n')\n",
    "print(':'*20)\n",
    "\n",
    "\n",
    "\n"
   ]
  }
 ],
 "metadata": {
  "kernelspec": {
   "display_name": "Python 3",
   "language": "python",
   "name": "python3"
  },
  "language_info": {
   "codemirror_mode": {
    "name": "ipython",
    "version": 3
   },
   "file_extension": ".py",
   "mimetype": "text/x-python",
   "name": "python",
   "nbconvert_exporter": "python",
   "pygments_lexer": "ipython3",
   "version": "3.12.5"
  }
 },
 "nbformat": 4,
 "nbformat_minor": 2
}
