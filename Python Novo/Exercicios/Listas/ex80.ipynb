{
 "cells": [
  {
   "cell_type": "markdown",
   "metadata": {},
   "source": [
    "### **80** - Crie um programa que o usuario possa digitar 5 valores numericos e cadastre-os em uma lista, ja na posição correta de inserção(sem usar o sort()).No final mostre a lista ordenada na tela."
   ]
  },
  {
   "cell_type": "markdown",
   "metadata": {},
   "source": [
    "# CORRIGIR"
   ]
  },
  {
   "cell_type": "code",
   "execution_count": 5,
   "metadata": {},
   "outputs": [
    {
     "name": "stdout",
     "output_type": "stream",
     "text": [
      "[10, 0]\n"
     ]
    }
   ],
   "source": [
    "lista = []\n",
    "for v in range(0,5):\n",
    "    num = int(input('Digite um numero: '))\n",
    "    if v == 0:\n",
    "        lista.append(num)\n",
    "    if num < lista[0] and num > lista [1]:\n",
    "        lista.insert(num, 0)\n",
    "    \n",
    "print(lista)"
   ]
  }
 ],
 "metadata": {
  "kernelspec": {
   "display_name": "Python 3",
   "language": "python",
   "name": "python3"
  },
  "language_info": {
   "codemirror_mode": {
    "name": "ipython",
    "version": 3
   },
   "file_extension": ".py",
   "mimetype": "text/x-python",
   "name": "python",
   "nbconvert_exporter": "python",
   "pygments_lexer": "ipython3",
   "version": "3.12.5"
  }
 },
 "nbformat": 4,
 "nbformat_minor": 2
}
