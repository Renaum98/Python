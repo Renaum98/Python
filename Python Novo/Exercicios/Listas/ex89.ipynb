{
 "cells": [
  {
   "cell_type": "markdown",
   "metadata": {},
   "source": [
    "### **89** - Crie um programa que leia nome e duas notas de varios alunos e guarde tudo em uma lista composta. No final mostre um boletim contendo a media de cada um e permita que o usuario possa mostrar as notas de cada aluno individualemnte."
   ]
  },
  {
   "cell_type": "code",
   "execution_count": 34,
   "metadata": {},
   "outputs": [
    {
     "name": "stdout",
     "output_type": "stream",
     "text": [
      "----------------------------------------\n",
      "No.  Nome                Média  Situação\n",
      "----------------------------------------\n",
      "0    Renan...............  6.0 Reprovado\n",
      "1    Pablo...............  4.0 Reprovado\n",
      "2    Ian................. 10.0  Aprovado\n"
     ]
    },
    {
     "ename": "ValueError",
     "evalue": "invalid literal for int() with base 10: ''",
     "output_type": "error",
     "traceback": [
      "\u001b[1;31m---------------------------------------------------------------------------\u001b[0m",
      "\u001b[1;31mValueError\u001b[0m                                Traceback (most recent call last)",
      "Cell \u001b[1;32mIn[34], line 30\u001b[0m\n\u001b[0;32m     28\u001b[0m     \u001b[38;5;28mprint\u001b[39m(\u001b[38;5;124mf\u001b[39m\u001b[38;5;124m'\u001b[39m\u001b[38;5;132;01m{\u001b[39;00mn\u001b[38;5;132;01m:\u001b[39;00m\u001b[38;5;124m<5\u001b[39m\u001b[38;5;132;01m}\u001b[39;00m\u001b[38;5;132;01m{\u001b[39;00ma[\u001b[38;5;241m0\u001b[39m]\u001b[38;5;132;01m:\u001b[39;00m\u001b[38;5;124m.<20\u001b[39m\u001b[38;5;132;01m}\u001b[39;00m\u001b[38;5;132;01m{\u001b[39;00ma[\u001b[38;5;241m1\u001b[39m][\u001b[38;5;241m2\u001b[39m]\u001b[38;5;132;01m:\u001b[39;00m\u001b[38;5;124m>5.1f\u001b[39m\u001b[38;5;132;01m}\u001b[39;00m\u001b[38;5;132;01m{\u001b[39;00m\u001b[38;5;124m'\u001b[39m\u001b[38;5;124mAprovado\u001b[39m\u001b[38;5;124m'\u001b[39m\u001b[38;5;250m \u001b[39m\u001b[38;5;28;01mif\u001b[39;00m\u001b[38;5;250m \u001b[39ma[\u001b[38;5;241m1\u001b[39m][\u001b[38;5;241m2\u001b[39m]\u001b[38;5;250m \u001b[39m\u001b[38;5;241m>\u001b[39m\u001b[38;5;250m \u001b[39m\u001b[38;5;241m6\u001b[39m\u001b[38;5;250m \u001b[39m\u001b[38;5;28;01melse\u001b[39;00m\u001b[38;5;250m \u001b[39m\u001b[38;5;124m'\u001b[39m\u001b[38;5;124mReprovado\u001b[39m\u001b[38;5;124m'\u001b[39m\u001b[38;5;132;01m:\u001b[39;00m\u001b[38;5;124m>10\u001b[39m\u001b[38;5;132;01m}\u001b[39;00m\u001b[38;5;124m'\u001b[39m)\n\u001b[0;32m     29\u001b[0m \u001b[38;5;28;01mwhile\u001b[39;00m \u001b[38;5;28;01mTrue\u001b[39;00m:\n\u001b[1;32m---> 30\u001b[0m     selec\u001b[38;5;241m=\u001b[39m \u001b[38;5;28;43mint\u001b[39;49m\u001b[43m(\u001b[49m\u001b[38;5;28;43minput\u001b[39;49m\u001b[43m(\u001b[49m\u001b[38;5;124;43m'\u001b[39;49m\u001b[38;5;124;43mMostrar a nota de qual aluno? (999 interrompe)\u001b[39;49m\u001b[38;5;124;43m'\u001b[39;49m\u001b[43m)\u001b[49m\u001b[43m)\u001b[49m\n\u001b[0;32m     31\u001b[0m     nota \u001b[38;5;241m=\u001b[39m \u001b[38;5;124m'\u001b[39m\u001b[38;5;124m \u001b[39m\u001b[38;5;124m'\u001b[39m\n\u001b[0;32m     32\u001b[0m     \u001b[38;5;28;01mif\u001b[39;00m nota \u001b[38;5;241m==\u001b[39m \u001b[38;5;241m999\u001b[39m:\n",
      "\u001b[1;31mValueError\u001b[0m: invalid literal for int() with base 10: ''"
     ]
    }
   ],
   "source": [
    "#lista = [ [[], []], [[], []], [[], []] ]\n",
    "lista = []\n",
    "alunos = []\n",
    "notas = []\n",
    "while True:\n",
    "    alunos.append(input('Digite o nome do aluno').title())\n",
    "\n",
    "    notas.append(float(input('Nota 1: ')))\n",
    "    notas.append(float(input('Nota 2: ')))\n",
    "    notas.append((notas[0] + notas[1]) / 2)\n",
    "        \n",
    "    alunos.append(notas[:])\n",
    "    lista.append(alunos[:])\n",
    "    notas.clear()\n",
    "    alunos.clear()\n",
    "\n",
    "\n",
    "\n",
    "    continuar = ' '\n",
    "    while continuar not in 'S,N':\n",
    "        continuar = input('Deseja continuar?[S/N]').upper()[0]\n",
    "    if continuar in 'N':\n",
    "        break\n",
    "print('-'*40)\n",
    "print(f'{'No.':<5}{'Nome':<20}{'Média':>5}{'Situação':>10}')\n",
    "print('-'*40)\n",
    "for n, a in enumerate(lista):\n",
    "    print(f'{n:<5}{a[0]:.<20}{a[1][2]:>5.1f}{'Aprovado' if a[1][2] > 6 else 'Reprovado':>10}')\n",
    "while True:\n",
    "    selec= int(input('Mostrar a nota de qual aluno? (999 interrompe)'))\n",
    "    nota = ' '\n",
    "    if nota == 999:\n",
    "        break"
   ]
  }
 ],
 "metadata": {
  "kernelspec": {
   "display_name": "Python 3",
   "language": "python",
   "name": "python3"
  },
  "language_info": {
   "codemirror_mode": {
    "name": "ipython",
    "version": 3
   },
   "file_extension": ".py",
   "mimetype": "text/x-python",
   "name": "python",
   "nbconvert_exporter": "python",
   "pygments_lexer": "ipython3",
   "version": "3.12.5"
  }
 },
 "nbformat": 4,
 "nbformat_minor": 2
}
