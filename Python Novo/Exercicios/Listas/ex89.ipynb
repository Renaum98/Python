{
 "cells": [
  {
   "cell_type": "markdown",
   "metadata": {},
   "source": [
    "### **89** - Crie um programa que leia nome e duas notas de varios alunos e guarde tudo em uma lista composta. No final mostre um boletim contendo a media de cada um e permita que o usuario possa mostrar as notas de cada aluno individualemnte."
   ]
  },
  {
   "cell_type": "code",
   "execution_count": 1,
   "metadata": {},
   "outputs": [
    {
     "ename": "SyntaxError",
     "evalue": "f-string: expecting '}' (4217823817.py, line 25)",
     "output_type": "error",
     "traceback": [
      "\u001b[1;36m  Cell \u001b[1;32mIn[1], line 25\u001b[1;36m\u001b[0m\n\u001b[1;33m    print(f'{'No.':<5}{'Nome':<20}{'Média':>5}{'Situação':>10}')\u001b[0m\n\u001b[1;37m              ^\u001b[0m\n\u001b[1;31mSyntaxError\u001b[0m\u001b[1;31m:\u001b[0m f-string: expecting '}'\n"
     ]
    }
   ],
   "source": [
    "#lista = [ [[], []], [[], []], [[], []] ]\n",
    "lista = []\n",
    "alunos = []\n",
    "notas = []\n",
    "while True:\n",
    "    alunos.append(input('Digite o nome do aluno').title())\n",
    "\n",
    "    notas.append(float(input('Nota 1: ')))\n",
    "    notas.append(float(input('Nota 2: ')))\n",
    "    notas.append((notas[0] + notas[1]) / 2)\n",
    "        \n",
    "    alunos.append(notas[:])\n",
    "    lista.append(alunos[:])\n",
    "    notas.clear()\n",
    "    alunos.clear()\n",
    "\n",
    "\n",
    "\n",
    "    continuar = ' '\n",
    "    while continuar not in 'S,N':\n",
    "        continuar = input('Deseja continuar?[S/N]').upper()[0]\n",
    "    if continuar in 'N':\n",
    "        break\n",
    "print('-'*40)\n",
    "print(f'{'No.':<5}{'Nome':<20}{'Média':>5}{'Situação':>10}')\n",
    "print('-'*40)\n",
    "for n, a in enumerate(lista):\n",
    "    print(f'{n:<5}{a[0]:.<20}{a[1][2]:>5.1f}{'Aprovado' if a[1][2] > 6 else 'Reprovado':>10}')\n",
    "while True:\n",
    "    selec= int(input('Mostrar a nota de qual aluno? (999 interrompe)'))\n",
    "    nota = ' '\n",
    "    if nota == 999:\n",
    "        break"
   ]
  }
 ],
 "metadata": {
  "kernelspec": {
   "display_name": "Python 3",
   "language": "python",
   "name": "python3"
  },
  "language_info": {
   "codemirror_mode": {
    "name": "ipython",
    "version": 3
   },
   "file_extension": ".py",
   "mimetype": "text/x-python",
   "name": "python",
   "nbconvert_exporter": "python",
   "pygments_lexer": "ipython3",
   "version": "3.12.5"
  }
 },
 "nbformat": 4,
 "nbformat_minor": 2
}
