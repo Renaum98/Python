{
 "cells": [
  {
   "cell_type": "markdown",
   "metadata": {},
   "source": [
    "### **85** - Crie um programa onde o usuario possa digitar sete valores numericos e cadastre-os em uma lista unica que mantenha separados os valores pares e impares, no final mostre os valores pares e impares em ordem crescente."
   ]
  },
  {
   "cell_type": "code",
   "execution_count": 1,
   "metadata": {},
   "outputs": [
    {
     "name": "stdout",
     "output_type": "stream",
     "text": [
      "O valores Pares digitados foram: [0, 2, 4, 6]\n",
      "O valores Impares digitados foram: [3, 5, 7]\n"
     ]
    }
   ],
   "source": [
    "lista = [[],[]]\n",
    "for n in range(0,7):\n",
    "    num = int(input('Digite um numero: '))\n",
    "    if num % 2 == 0:\n",
    "        lista[0].append(num)\n",
    "    else:\n",
    "        lista[1].append(num)\n",
    "\n",
    "\n",
    "print(f'O valores Pares digitados foram: {sorted(lista[0])}')\n",
    "print(f'O valores Impares digitados foram: {sorted(lista[1])}')"
   ]
  }
 ],
 "metadata": {
  "kernelspec": {
   "display_name": "Python 3",
   "language": "python",
   "name": "python3"
  },
  "language_info": {
   "codemirror_mode": {
    "name": "ipython",
    "version": 3
   },
   "file_extension": ".py",
   "mimetype": "text/x-python",
   "name": "python",
   "nbconvert_exporter": "python",
   "pygments_lexer": "ipython3",
   "version": "3.12.5"
  }
 },
 "nbformat": 4,
 "nbformat_minor": 2
}
