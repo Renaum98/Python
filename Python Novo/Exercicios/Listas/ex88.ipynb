{
 "cells": [
  {
   "cell_type": "markdown",
   "metadata": {},
   "source": [
    "### **88** - Faça um programa que ajude o um jogador da mega sena a criar palpites.O programa vai perguntar quantos jogos serão gerados e vai sortear 6 numeros entre 1 e 60 para cada jogo cadastrando tudo em uma lista composta."
   ]
  },
  {
   "cell_type": "markdown",
   "metadata": {},
   "source": [
    "# **CORRIGIR**"
   ]
  },
  {
   "cell_type": "code",
   "execution_count": null,
   "metadata": {},
   "outputs": [
    {
     "name": "stdout",
     "output_type": "stream",
     "text": [
      "------------------------------\n",
      "      Jogo da mega sena       \n",
      "------------------------------\n",
      "Jogo 1 - [7, 14, 15, 38, 52, 55]\n",
      "Jogo 2 - [7, 8, 12, 13, 30, 30]\n",
      "Jogo 3 - [9, 25, 41, 48, 49, 51]\n",
      "Jogo 4 - [3, 16, 26, 28, 32, 33]\n",
      "Jogo 5 - [10, 14, 32, 35, 51, 52]\n"
     ]
    }
   ],
   "source": [
    "from random import randint\n",
    "from time import sleep\n",
    "lista = list()\n",
    "jogo = list()\n",
    "num = 0\n",
    "qt_jogo = int(input('Quantos jogos deseja fazer?: '))\n",
    "for q in range(0,qt_jogo):\n",
    "    for j in range(0,6):\n",
    "        jogo.append(randint(1,60))\n",
    "    lista.append(sorted(jogo[:]))\n",
    "    jogo.clear()\n",
    "\n",
    "print('-'*30)\n",
    "print(f'{'Jogo da mega sena':^30}')\n",
    "print('-'*30)\n",
    "for c, jor in enumerate(lista):\n",
    "    sleep(.5)\n",
    "    print(f'Jogo {c+1} - {sorted(jor)}')\n",
    "print()"
   ]
  }
 ],
 "metadata": {
  "kernelspec": {
   "display_name": "Python 3",
   "language": "python",
   "name": "python3"
  },
  "language_info": {
   "codemirror_mode": {
    "name": "ipython",
    "version": 3
   },
   "file_extension": ".py",
   "mimetype": "text/x-python",
   "name": "python",
   "nbconvert_exporter": "python",
   "pygments_lexer": "ipython3",
   "version": "3.12.5"
  }
 },
 "nbformat": 4,
 "nbformat_minor": 2
}
