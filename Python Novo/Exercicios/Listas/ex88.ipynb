{
 "cells": [
  {
   "cell_type": "markdown",
   "metadata": {},
   "source": [
    "### **88** - Faça um programa que ajude o um jogador da mega sena a criar palpites.O programa vai perguntar quantos jogos serão gerados e vai sortear 6 numeros entre 1 e 60 para cada jogo cadastrando tudo em uma lista composta."
   ]
  },
  {
   "cell_type": "markdown",
   "metadata": {},
   "source": [
    "# **CORRIGIR**"
   ]
  },
  {
   "cell_type": "code",
   "execution_count": 14,
   "metadata": {},
   "outputs": [
    {
     "name": "stdout",
     "output_type": "stream",
     "text": [
      "------------------------------\n",
      "      Jogo da mega sena       \n",
      "------------------------------\n",
      "       SORTEANDO 10 JOGOS       \n",
      "\n",
      "\n",
      "Jogo 1 - [21, 36, 49, 50, 51, 58]\n",
      "Jogo 2 - [4, 21, 43, 50, 57, 57]\n",
      "Jogo 3 - [2, 5, 6, 15, 31, 51]\n",
      "Jogo 4 - [8, 10, 23, 32, 40, 51]\n",
      "Jogo 5 - [4, 6, 12, 14, 41, 57]\n",
      "Jogo 6 - [1, 13, 14, 15, 18, 49]\n",
      "Jogo 7 - [10, 11, 23, 27, 40, 46]\n",
      "Jogo 8 - [3, 14, 21, 45, 58, 59]\n",
      "Jogo 9 - [3, 10, 17, 20, 30, 49]\n",
      "Jogo 10 - [16, 24, 35, 40, 47, 50]\n",
      "\n",
      "--------< BOA SORTE! >--------\n"
     ]
    }
   ],
   "source": [
    "from random import randint\n",
    "from time import sleep\n",
    "lista = list()\n",
    "jogo = list()\n",
    "num = 0\n",
    "qt_jogo = int(input('Quantos jogos deseja fazer?: '))\n",
    "for q in range(0,qt_jogo):\n",
    "    for j in range(0,6):\n",
    "        jogo.append(randint(1,60))\n",
    "    lista.append(sorted(jogo[:]))\n",
    "    jogo.clear()\n",
    "\n",
    "print('-'*30)\n",
    "print(f'{'Jogo da mega sena':^30}')\n",
    "print('-'*30)\n",
    "print(' {:^30} '.format(f'SORTEANDO {qt_jogo} JOGOS'))\n",
    "print('\\n')\n",
    "for c, jor in enumerate(lista):\n",
    "    sleep(.5)\n",
    "    print(f'Jogo {c+1} - {sorted(jor)}')\n",
    "print(f'\\n{'< BOA SORTE! >':-^30}')"
   ]
  }
 ],
 "metadata": {
  "kernelspec": {
   "display_name": "Python 3",
   "language": "python",
   "name": "python3"
  },
  "language_info": {
   "codemirror_mode": {
    "name": "ipython",
    "version": 3
   },
   "file_extension": ".py",
   "mimetype": "text/x-python",
   "name": "python",
   "nbconvert_exporter": "python",
   "pygments_lexer": "ipython3",
   "version": "3.12.5"
  }
 },
 "nbformat": 4,
 "nbformat_minor": 2
}
