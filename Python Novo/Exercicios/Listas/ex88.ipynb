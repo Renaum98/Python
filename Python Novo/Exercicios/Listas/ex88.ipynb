{
 "cells": [
  {
   "cell_type": "markdown",
   "metadata": {},
   "source": [
    "### **88** - Faça um programa que ajude o um jogador da mega sena a criar palpites.O programa vai perguntar quantos jogos serão gerados e vai sortear 6 numeros entre 1 e 60 para cada jogo cadastrando tudo em uma lista composta."
   ]
  },
  {
   "cell_type": "markdown",
   "metadata": {},
   "source": [
    "# **CORRIGIR**"
   ]
  },
  {
   "cell_type": "code",
   "execution_count": 27,
   "metadata": {},
   "outputs": [
    {
     "name": "stdout",
     "output_type": "stream",
     "text": [
      "------------------------------\n",
      "      Jogo da mega sena       \n",
      "------------------------------\n",
      "       SORTEANDO 3 JOGOS        \n",
      "\n",
      "\n",
      "Jogo 1 - [6, 15, 39, 47, 51, 57]\n",
      "Jogo 2 - [2, 4, 7, 7, 37, 47]\n",
      "Jogo 3 - [2, 16, 22, 23, 32, 44]\n",
      "\n",
      "--------< BOA SORTE! >--------\n"
     ]
    }
   ],
   "source": [
    "from random import randint\n",
    "from time import sleep\n",
    "lista = list()\n",
    "jogo = list()\n",
    "num = 0\n",
    "qt_jogo = int(input('Quantos jogos deseja fazer?: '))\n",
    "for q in range(0,qt_jogo):\n",
    "    for j in range(0,6):\n",
    "        jogo.append(randint(1,60))\n",
    "    lista.append(sorted(jogo[:]))\n",
    "    jogo.clear()\n",
    "\n",
    "print('-'*30)\n",
    "print(f'{'Jogo da mega sena':^30}')\n",
    "print('-'*30)\n",
    "print(' {:^30} '.format(f'SORTEANDO {qt_jogo} JOGOS'))\n",
    "print('\\n')\n",
    "for c, jor in enumerate(lista):\n",
    "    sleep(.5)\n",
    "    print(f'Jogo {c+1} - {sorted(jor)}')\n",
    "print(f'\\n{'< BOA SORTE! >':-^30}')"
   ]
  },
  {
   "cell_type": "markdown",
   "metadata": {},
   "source": [
    "# **Correção**"
   ]
  },
  {
   "cell_type": "code",
   "execution_count": 35,
   "metadata": {},
   "outputs": [
    {
     "name": "stdout",
     "output_type": "stream",
     "text": [
      "-=-=-=-=-=-=-=-=-=-=-=-=-=-=-=-=-=-=-=-=\n",
      "     JOGA NA MEGA SENA     \n",
      "-=-=-=-=-=-=-=-=-=-=-=-=-=-=-=-=-=-=-=-=\n",
      "-=-=-= Sorteando 5 jogos =-=-=-\n",
      "Jogo 1 - [7, 37, 43, 53, 57, 60]\n",
      "Jogo 2 - [5, 38, 39, 46, 49, 54]\n",
      "Jogo 3 - [6, 13, 16, 41, 42, 46]\n",
      "Jogo 4 - [10, 19, 34, 35, 36, 53]\n",
      "Jogo 5 - [6, 13, 32, 33, 44, 55]\n",
      "-=-=-=-=-= Boa Sorte =-=-=-=-=-\n"
     ]
    }
   ],
   "source": [
    "from random import randint\n",
    "lista = list()\n",
    "jogos = []\n",
    "print('-='*20)\n",
    "print('     JOGA NA MEGA SENA     ')\n",
    "print('-='*20)\n",
    "quant = int(input('Quantos jogos você quer sortear?'))\n",
    "tot = 1\n",
    "while tot <= quant:\n",
    "    cont = 0\n",
    "    while True:\n",
    "        num = randint(1,60)\n",
    "        if num not in lista:\n",
    "            lista.append(num)\n",
    "            cont+=1\n",
    "        if cont >= 6:\n",
    "            break\n",
    "    lista.sort()\n",
    "    jogos.append(lista[:])\n",
    "    lista.clear()\n",
    "    tot+=1\n",
    "print('-=' * 3, f'Sorteando {quant} jogos', '=-' * 3)\n",
    "for i, l in enumerate(jogos):\n",
    "    sleep(.5)\n",
    "    print(f'Jogo {i+1} - {l}')\n",
    "print('-=' * 5, 'Boa Sorte', '=-' * 5)"
   ]
  }
 ],
 "metadata": {
  "kernelspec": {
   "display_name": "Python 3",
   "language": "python",
   "name": "python3"
  },
  "language_info": {
   "codemirror_mode": {
    "name": "ipython",
    "version": 3
   },
   "file_extension": ".py",
   "mimetype": "text/x-python",
   "name": "python",
   "nbconvert_exporter": "python",
   "pygments_lexer": "ipython3",
   "version": "3.12.5"
  }
 },
 "nbformat": 4,
 "nbformat_minor": 2
}
