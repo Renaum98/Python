{
 "cells": [
  {
   "cell_type": "markdown",
   "metadata": {},
   "source": [
    "### **88** - Faça um programa que ajude o um jogador da mega sena a criar palpites.O programa vai perguntar quantos jogos serão gerados e vai sortear 6 numeros entre 1 e 60 para cada jogo cadastrando tudo em uma lista composta."
   ]
  },
  {
   "cell_type": "markdown",
   "metadata": {},
   "source": [
    "# **CORRIGIR**"
   ]
  },
  {
   "cell_type": "code",
   "execution_count": 16,
   "metadata": {},
   "outputs": [
    {
     "name": "stdout",
     "output_type": "stream",
     "text": [
      "Jogo 1 - [6, 9, 16, 22, 37, 46]\n",
      "Jogo 2 - [7, 13, 14, 24, 41, 46]\n",
      "Jogo 3 - [6, 8, 22, 35, 39, 52]\n",
      "Jogo 4 - [9, 9, 22, 23, 31, 40]\n",
      "Jogo 5 - [3, 7, 40, 47, 50, 60]\n",
      "Jogo 6 - [18, 23, 36, 41, 47, 49]\n",
      "Jogo 7 - [1, 1, 8, 11, 15, 16]\n",
      "Jogo 8 - [5, 10, 32, 33, 33, 45]\n",
      "Jogo 9 - [12, 13, 26, 32, 41, 54]\n",
      "Jogo 10 - [1, 18, 32, 34, 39, 46]\n",
      "Jogo 11 - [4, 6, 10, 22, 44, 53]\n",
      "Jogo 12 - [8, 13, 18, 21, 35, 44]\n",
      "Jogo 13 - [3, 9, 20, 30, 36, 52]\n",
      "Jogo 14 - [4, 6, 28, 33, 46, 50]\n",
      "Jogo 15 - [2, 10, 17, 41, 49, 51]\n"
     ]
    }
   ],
   "source": [
    "from random import randint\n",
    "from time import sleep\n",
    "lista = list()\n",
    "jogo = list()\n",
    "qt_jogo = int(input('Quantos jogos deseja fazer?: '))\n",
    "for q in range(0,qt_jogo):\n",
    "    for j in range(0,6):\n",
    "        jogo.append(randint(1,60))\n",
    "    lista.append(jogo[:])\n",
    "    jogo.clear()\n",
    "\n",
    "for c, jor in enumerate(lista):\n",
    "    sleep(.5)\n",
    "    print(f'Jogo {c+1} - {sorted(jor)}')\n",
    " "
   ]
  }
 ],
 "metadata": {
  "kernelspec": {
   "display_name": "Python 3",
   "language": "python",
   "name": "python3"
  },
  "language_info": {
   "codemirror_mode": {
    "name": "ipython",
    "version": 3
   },
   "file_extension": ".py",
   "mimetype": "text/x-python",
   "name": "python",
   "nbconvert_exporter": "python",
   "pygments_lexer": "ipython3",
   "version": "3.12.5"
  }
 },
 "nbformat": 4,
 "nbformat_minor": 2
}
