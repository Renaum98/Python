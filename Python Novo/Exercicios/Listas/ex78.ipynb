{
 "cells": [
  {
   "cell_type": "markdown",
   "metadata": {},
   "source": [
    "#### **78** - Faça um programa que leia 5 valores numericos e guarde os em uma lista.No final mostre qual foi o maior e o menor valor digitado e as suas respectivas posições na lista."
   ]
  },
  {
   "cell_type": "code",
   "execution_count": 15,
   "metadata": {},
   "outputs": [
    {
     "name": "stdout",
     "output_type": "stream",
     "text": [
      "5 na posição 0\n",
      "4 na posição 1\n",
      "6 na posição 2\n",
      "3 na posição 3\n",
      "1 na posição 4\n",
      "O menor valor digitado foi: 1\n",
      "O maior valor digitado foi: 6\n"
     ]
    }
   ],
   "source": [
    "valor = list()\n",
    "for cont in range(0,5):\n",
    "    valor.append(int(input('Digite um numero inteiro: ')))\n",
    "\n",
    "for c, v in enumerate(valor):\n",
    "    print(f'{v} na posição {c}')\n",
    "\n",
    "\n",
    "print(f'O menor valor digitado foi: {min(valor)}')\n",
    "print(f'O maior valor digitado foi: {max(valor)}')"
   ]
  }
 ],
 "metadata": {
  "kernelspec": {
   "display_name": "Python 3",
   "language": "python",
   "name": "python3"
  },
  "language_info": {
   "codemirror_mode": {
    "name": "ipython",
    "version": 3
   },
   "file_extension": ".py",
   "mimetype": "text/x-python",
   "name": "python",
   "nbconvert_exporter": "python",
   "pygments_lexer": "ipython3",
   "version": "3.12.5"
  }
 },
 "nbformat": 4,
 "nbformat_minor": 2
}
