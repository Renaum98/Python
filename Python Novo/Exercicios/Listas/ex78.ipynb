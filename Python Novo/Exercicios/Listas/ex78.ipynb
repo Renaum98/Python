{
 "cells": [
  {
   "cell_type": "markdown",
   "metadata": {},
   "source": [
    "#### **78** - Faça um programa que leia 5 valores numericos e guarde os em uma lista.No final mostre qual foi o maior e o menor valor digitado e as suas respectivas posições na lista."
   ]
  },
  {
   "cell_type": "code",
   "execution_count": null,
   "metadata": {},
   "outputs": [
    {
     "name": "stdout",
     "output_type": "stream",
     "text": [
      "Foi digitado os valores: [1, 5, 4, 6, 6]\n",
      "O menor valor digitado foi: 1 e esta nas posições: 0...\n",
      "O maior valor digitado foi: 6 e esta nas posições 3...4..."
     ]
    }
   ],
   "source": [
    "valor = list()\n",
    "for cont in range(0,5):\n",
    "    valor.append(int(input(f'Digite um valor para a posição {cont}: ')))\n",
    "\n",
    "print(f'Foi digitado os valores: {valor}')\n",
    "\n",
    "print(f'O menor valor digitado foi: {min(valor)} e esta nas posições: ',end='')\n",
    "for i, v in enumerate(valor):\n",
    "    if v == min(valor):\n",
    "        print(f'{i}...')\n",
    "\n",
    "print(f'O maior valor digitado foi: {max(valor)} e esta nas posições ',end='')\n",
    "for i, v in enumerate(valor):\n",
    "    if v == max(valor):\n",
    "        print(f'{i}...',end='')"
   ]
  }
 ],
 "metadata": {
  "kernelspec": {
   "display_name": "Python 3",
   "language": "python",
   "name": "python3"
  },
  "language_info": {
   "codemirror_mode": {
    "name": "ipython",
    "version": 3
   },
   "file_extension": ".py",
   "mimetype": "text/x-python",
   "name": "python",
   "nbconvert_exporter": "python",
   "pygments_lexer": "ipython3",
   "version": "3.12.5"
  }
 },
 "nbformat": 4,
 "nbformat_minor": 2
}
