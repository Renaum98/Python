{
 "cells": [
  {
   "cell_type": "markdown",
   "metadata": {},
   "source": [
    "### **82** - Crie um programa que leia varios numeros e colocar em uma lista.Depois disso crie duas listas extras que vão contar apenas os valores pares e os valores impares digitados respectivamente.Ao final mostre o conteudo das tres listas geradas."
   ]
  },
  {
   "cell_type": "code",
   "execution_count": 1,
   "metadata": {},
   "outputs": [
    {
     "name": "stdout",
     "output_type": "stream",
     "text": [
      "Todos os numeros digitados na lista: [7, 9, 2, 6, 8]\n",
      "Os numeros pares digitados foram: 2 6 8 \n",
      "Os numeros impares digitados foram: 7 9 "
     ]
    }
   ],
   "source": [
    "lista = []\n",
    "while True:\n",
    "    lista.append(int(input('Digite um numero inteiro: ')))\n",
    "\n",
    "    c = ' '\n",
    "    while c not in'S,N':\n",
    "        c = input('Deseja continuar?[S/N]').upper()[0]\n",
    "    if c in 'N':\n",
    "        break\n",
    "\n",
    "print(f'Todos os numeros digitados na lista: {lista}')\n",
    "print('Os numeros pares digitados foram: ',end='')\n",
    "for p in lista:\n",
    "    if p % 2 == 0:\n",
    "        print(f'{p}',end=' ')\n",
    "\n",
    "print('\\nOs numeros impares digitados foram: ',end='')\n",
    "for i in lista:\n",
    "    if i % 2 != 0:\n",
    "        print(f'{i}',end=' ')\n"
   ]
  }
 ],
 "metadata": {
  "kernelspec": {
   "display_name": "Python 3",
   "language": "python",
   "name": "python3"
  },
  "language_info": {
   "codemirror_mode": {
    "name": "ipython",
    "version": 3
   },
   "file_extension": ".py",
   "mimetype": "text/x-python",
   "name": "python",
   "nbconvert_exporter": "python",
   "pygments_lexer": "ipython3",
   "version": "3.12.5"
  }
 },
 "nbformat": 4,
 "nbformat_minor": 2
}
