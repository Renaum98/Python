{
 "cells": [
  {
   "cell_type": "markdown",
   "metadata": {},
   "source": [
    "### **84** - Faça um programa que leia o nome e peso de varias pessoas guardando tudo em uma lista.No final mostre\n",
    "\n",
    "-Quantas pessoas foram cadastradas.\n",
    "\n",
    "-Uma listagem com as pessoas mais pesadas.\n",
    "\n",
    "-Uma listagem com as pessoas mais leves."
   ]
  }
 ],
 "metadata": {
  "language_info": {
   "name": "python"
  }
 },
 "nbformat": 4,
 "nbformat_minor": 2
}
