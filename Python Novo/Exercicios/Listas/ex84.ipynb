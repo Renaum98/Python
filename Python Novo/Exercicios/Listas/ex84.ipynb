{
 "cells": [
  {
   "cell_type": "markdown",
   "metadata": {},
   "source": [
    "### **84** - Faça um programa que leia o nome e peso de varias pessoas guardando tudo em uma lista.No final mostre\n",
    "\n",
    "-Quantas pessoas foram cadastradas.\n",
    "\n",
    "-Uma listagem com as pessoas mais pesadas.\n",
    "\n",
    "-Uma listagem com as pessoas mais leves."
   ]
  },
  {
   "cell_type": "code",
   "execution_count": 11,
   "metadata": {},
   "outputs": [
    {
     "name": "stdout",
     "output_type": "stream",
     "text": [
      ".....Cadastro de Pessoas......\n",
      "0 - Renan            45.0\n",
      "1 - Ana              68.0\n",
      "2 - Marcos           80.5\n",
      "3 - Mario            67.0\n",
      "..............................\n",
      "Foram cadastradas 4 pessoas\n",
      "..............................\n",
      "O maior peso foi de 80.5kg Marcos \n",
      "..............................\n",
      "O menor peso foi de 45.0kg  Renan \n",
      "..............................\n"
     ]
    }
   ],
   "source": [
    "pessoas = []\n",
    "lista = list()\n",
    "maiorp = menorp = cont = 0\n",
    "while True:\n",
    "    pessoas.append(str(input('Nome: ').title()))\n",
    "    pessoas.append(float(input('Peso: ')))\n",
    "    if len(lista) == 0:\n",
    "        maiorp = menorp = pessoas[1]\n",
    "    else:\n",
    "        if pessoas[1] > maiorp:\n",
    "            maiorp = pessoas[1]\n",
    "        if pessoas[1] < menorp:\n",
    "            menorp = pessoas[1]\n",
    "    lista.append(pessoas[:])\n",
    "    pessoas.clear()\n",
    "\n",
    "\n",
    "\n",
    "    c = ' '\n",
    "    while c not in 's,n':\n",
    "        c = input('Deseja continuar? [s/n]').lower().strip()[0]\n",
    "    if c in 'n':\n",
    "        break\n",
    "\n",
    "\n",
    "print(f'{'Cadastro de Pessoas':.^30}')\n",
    "for c, p in enumerate(lista):\n",
    "    print(f'{c} - {p[0]:<10} {p[1]:>10}')\n",
    "    \n",
    "print('.'*30)\n",
    "\n",
    "print(f'Foram cadastradas {len(lista)} pessoas')\n",
    "\n",
    "print('.'*30)\n",
    "\n",
    "print(f'O maior peso foi de {maiorp}kg',end='')\n",
    "for p in lista:\n",
    "    if p[1] == maiorp:\n",
    "        print(f' {p[0]} ')\n",
    "\n",
    "print('.'*30)\n",
    "\n",
    "print(f'O menor peso foi de {menorp}kg',end=' ')\n",
    "for p in lista:\n",
    "    if p[1] == menorp:\n",
    "        print(f' {p[0]} ')\n",
    "\n",
    "print('.'*30)\n",
    "\n",
    "\n"
   ]
  },
  {
   "cell_type": "markdown",
   "metadata": {},
   "source": [
    "# **CORREÇÃO**"
   ]
  },
  {
   "cell_type": "code",
   "execution_count": 7,
   "metadata": {},
   "outputs": [
    {
     "name": "stdout",
     "output_type": "stream",
     "text": [
      "-=-=-=-=-=-=-=-=-=-=-=-=-=-=-=-=-=-=-=-=-=-=-=-=-=-=-=-=-=-=\n",
      "Ao todo foran cadastradas 1 pessoas\n",
      "O maior peso foi de 80.5kg renan\n",
      "\n",
      "O menor peso foi de 80.5kg renan\n",
      "\n"
     ]
    }
   ],
   "source": [
    "temp = []\n",
    "princ = []\n",
    "maior = menor = 0\n",
    "while True:\n",
    "    temp.append(str(input('Nome: ').title()))\n",
    "    temp.append(float(input('Peso: ')))\n",
    "    if len(princ) == 0:\n",
    "        maior = menor = temp[1]\n",
    "    else:\n",
    "        if temp[1] > maior:\n",
    "            maior = temp[1]\n",
    "        if temp[1] < menor:\n",
    "            menor = temp[1]\n",
    "                \n",
    "    princ.append(temp[:])\n",
    "\n",
    "    temp.clear()\n",
    "\n",
    "\n",
    "\n",
    "    resp = ' '\n",
    "    while resp not in 'S,N':\n",
    "        resp = str(input('Quer continuar? [S/N]')).upper()[0]\n",
    "    if resp in 'N':\n",
    "        break\n",
    "print('-='*30)\n",
    "print(f'Ao todo foran cadastradas {len(princ)} pessoas')\n",
    "print(f'O maior peso foi de {maior}kg',end=' ')\n",
    "for p in princ:\n",
    "    if p[1] == maior:\n",
    "        print(f'{p[0]}')\n",
    "print(f'\\nO menor peso foi de {menor}kg',end=' ')\n",
    "for p in princ:\n",
    "    if p[1] == menor:\n",
    "        print(f'{p[0]}')"
   ]
  }
 ],
 "metadata": {
  "kernelspec": {
   "display_name": "Python 3",
   "language": "python",
   "name": "python3"
  },
  "language_info": {
   "codemirror_mode": {
    "name": "ipython",
    "version": 3
   },
   "file_extension": ".py",
   "mimetype": "text/x-python",
   "name": "python",
   "nbconvert_exporter": "python",
   "pygments_lexer": "ipython3",
   "version": "3.12.5"
  }
 },
 "nbformat": 4,
 "nbformat_minor": 2
}
