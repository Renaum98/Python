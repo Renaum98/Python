{
 "cells": [
  {
   "cell_type": "markdown",
   "metadata": {},
   "source": [
    "### **84** - Faça um programa que leia o nome e peso de varias pessoas guardando tudo em uma lista.No final mostre\n",
    "\n",
    "-Quantas pessoas foram cadastradas.\n",
    "\n",
    "-Uma listagem com as pessoas mais pesadas.\n",
    "\n",
    "-Uma listagem com as pessoas mais leves."
   ]
  },
  {
   "cell_type": "markdown",
   "metadata": {},
   "source": [
    "# **CORRIGIR**"
   ]
  },
  {
   "cell_type": "code",
   "execution_count": 15,
   "metadata": {},
   "outputs": [
    {
     "name": "stdout",
     "output_type": "stream",
     "text": [
      "0 - 40                 40\n",
      "1 - 50                 50\n",
      "2 - 64                 64\n",
      "------------------------------\n",
      "Foram cadastradas 3 pessoas\n",
      "------------------------------\n",
      "O maior peso foi 64\n"
     ]
    }
   ],
   "source": [
    "pessoas = []\n",
    "lista = list()\n",
    "maiorp = menorp = cont = 0\n",
    "while True:\n",
    "    pessoas.append(str(input('Nome: ').title()))\n",
    "    pessoas.append(int(input('Peso: ')))\n",
    "    lista.append(pessoas[:])\n",
    "    pessoas.clear()\n",
    "    cont += 1\n",
    "    c = ' '\n",
    "    while c not in 's,n':\n",
    "        c = input('Deseja continuar? [s/n]').lower().strip()[0]\n",
    "    if c in 'n':\n",
    "        break\n",
    "\n",
    "\n",
    "\n",
    "for c, p in enumerate(lista):\n",
    "    print(f'{c} - {p[0+1]:<10} {p[1]:>10}')\n",
    "    \n",
    "print('-'*30)\n",
    "\n",
    "print(f'Foram cadastradas {cont} pessoas')\n",
    "\n",
    "print('-'*30)\n",
    "\n",
    "print(f'O maior peso foi {maiorp}')\n",
    "\n"
   ]
  }
 ],
 "metadata": {
  "kernelspec": {
   "display_name": "Python 3",
   "language": "python",
   "name": "python3"
  },
  "language_info": {
   "codemirror_mode": {
    "name": "ipython",
    "version": 3
   },
   "file_extension": ".py",
   "mimetype": "text/x-python",
   "name": "python",
   "nbconvert_exporter": "python",
   "pygments_lexer": "ipython3",
   "version": "3.12.5"
  }
 },
 "nbformat": 4,
 "nbformat_minor": 2
}
