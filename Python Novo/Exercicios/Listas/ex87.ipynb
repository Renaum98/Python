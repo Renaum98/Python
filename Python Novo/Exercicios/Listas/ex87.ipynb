{
 "cells": [
  {
   "cell_type": "markdown",
   "metadata": {},
   "source": [
    "### **87** - aprimore o desafio anterior mostrando:\n",
    "\n",
    "-A soma de todos os valores digitados.\n",
    "\n",
    "-A soma dos valores da terceira coluna.\n",
    "\n",
    "-O maior valor da segunda linha."
   ]
  }
 ],
 "metadata": {
  "language_info": {
   "name": "python"
  }
 },
 "nbformat": 4,
 "nbformat_minor": 2
}
