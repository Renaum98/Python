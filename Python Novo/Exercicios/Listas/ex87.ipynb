{
 "cells": [
  {
   "cell_type": "markdown",
   "metadata": {},
   "source": [
    "### **87** - aprimore o desafio anterior mostrando:\n",
    "\n",
    "-A soma de todos os valores digitados.\n",
    "\n",
    "-A soma dos valores da terceira coluna.\n",
    "\n",
    "-O maior valor da segunda linha."
   ]
  },
  {
   "cell_type": "code",
   "execution_count": 10,
   "metadata": {},
   "outputs": [
    {
     "name": "stdout",
     "output_type": "stream",
     "text": [
      "...ANALISADOR DE MATRIZ 3X3...\n",
      "\n",
      " [  9  ]  [  7  ]  [  8  ] \n",
      "\n",
      " [  9  ]  [  3  ]  [  1  ] \n",
      "\n",
      " [  1  ]  [  6  ]  [  8  ] \n",
      "\n",
      "..............................\n",
      "A soma de todos valores é: 52\n",
      "..............................\n",
      "A soma somente dos valores da ultima coluna é igual a: 17\n",
      "..............................\n",
      "o maior valor da segunda linha é : 9\n"
     ]
    }
   ],
   "source": [
    "from random import randint\n",
    "lista = [[],[],[]]\n",
    "soma = somac= maior = 0\n",
    "for c in range(0,9):\n",
    "    #num = int(input(f'Digite um numero para a {c+1} posição: '))\n",
    "    num = randint(1,10)\n",
    "    soma+=num\n",
    "    if c <= 2:\n",
    "        lista[0].append(num)\n",
    "    elif c <=5:\n",
    "        lista[1].append(num)\n",
    "        if num > maior:\n",
    "            maior = num\n",
    "    else:\n",
    "        lista[2].append(num)\n",
    "\n",
    "somac = lista[0][2] + lista[1][2] + lista[2][2]\n",
    "\n",
    "print(f'{'Analisador de Matriz 3x3':.^30}\\n'.upper())\n",
    "\n",
    "for i, l in enumerate(lista[0]):\n",
    "    print(f' [{l:^5}] ',end='')\n",
    "    if i == 2:\n",
    "        print('\\n')\n",
    "        \n",
    "for i, s in enumerate(lista[1]):\n",
    "    print(f' [{s:^5}] ',end='')\n",
    "    if i == 2:\n",
    "        print('\\n')\n",
    "\n",
    "for i, t in enumerate(lista[2]):\n",
    "    print(f' [{t:^5}] ',end='')\n",
    "    if i == 2:\n",
    "        print('\\n')\n",
    "\n",
    "print('.'*30)\n",
    "print(f'A soma de todos valores é: {soma}')\n",
    "print('.'*30)\n",
    "print(f'A soma somente dos valores da ultima coluna é igual a: {somac}')\n",
    "print('.'*30)\n",
    "print(f'o maior valor da segunda linha é : {maior}')\n",
    "\n",
    "\n",
    "\n"
   ]
  }
 ],
 "metadata": {
  "kernelspec": {
   "display_name": "Python 3",
   "language": "python",
   "name": "python3"
  },
  "language_info": {
   "codemirror_mode": {
    "name": "ipython",
    "version": 3
   },
   "file_extension": ".py",
   "mimetype": "text/x-python",
   "name": "python",
   "nbconvert_exporter": "python",
   "pygments_lexer": "ipython3",
   "version": "3.12.5"
  }
 },
 "nbformat": 4,
 "nbformat_minor": 2
}
