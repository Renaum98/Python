{
 "cells": [
  {
   "cell_type": "markdown",
   "metadata": {},
   "source": [
    "### **83** - Crie um programa onde o usuario digite uma expressão qualquer que use parenteses, Seu aplicativo devera analisar se a expressão passada esta com os parenteses abertos e fechados na ordem correta."
   ]
  }
 ],
 "metadata": {
  "language_info": {
   "name": "python"
  }
 },
 "nbformat": 4,
 "nbformat_minor": 2
}
