{
 "cells": [
  {
   "cell_type": "markdown",
   "metadata": {},
   "source": [
    "### **81** - Crie um programa que vai ler varios numeros e colocar em uma lista.\n",
    "\n",
    "### depois disso,mostre:\n",
    "\n",
    "-Quantos numeros foram digitados\n",
    "\n",
    "-A lista de valores ordenada de forma decrescente\n",
    "\n",
    "-Se o valor 5 foi digitado e esta ou não na lista."
   ]
  },
  {
   "cell_type": "code",
   "execution_count": null,
   "metadata": {},
   "outputs": [
    {
     "name": "stdout",
     "output_type": "stream",
     "text": [
      "Foram digitados 6 numeros na lista\n",
      "A lista em ordem decrescente: [10, 9, 8, 7, 5, 3]\n",
      "O numero 5 foi digitado na posição 0\n",
      "O numero 5 foi digitado na posição 1\n",
      "O numero 5 foi digitado na posição 2\n",
      "O numero 5 foi digitado na posição 3\n",
      "O numero 5 foi digitado na posição 4\n",
      "O numero 5 foi digitado na posição 5\n"
     ]
    }
   ],
   "source": [
    "num = list()\n",
    "cont = 0\n",
    "while True:\n",
    "    num.append(int(input('Digite um numero: ')))\n",
    "    cont+=1\n",
    "\n",
    "    continuar = ' '\n",
    "    while continuar not in 'S,N':\n",
    "        continuar = input('Deseja continuar ? [S/N]').upper()[0]\n",
    "    if continuar in 'N':\n",
    "        break\n",
    "num.sort(reverse=True)\n",
    "print(f'Foram digitados {cont} numeros na lista')\n",
    "\n",
    "print(f'A lista em ordem decrescente: {num}')\n",
    "\n",
    "if 5 in num:\n",
    "    print(f'O numero 5 foi digitado')\n",
    "else:\n",
    "    print('O valor 5 não foi digitado')\n"
   ]
  }
 ],
 "metadata": {
  "kernelspec": {
   "display_name": "Python 3",
   "language": "python",
   "name": "python3"
  },
  "language_info": {
   "codemirror_mode": {
    "name": "ipython",
    "version": 3
   },
   "file_extension": ".py",
   "mimetype": "text/x-python",
   "name": "python",
   "nbconvert_exporter": "python",
   "pygments_lexer": "ipython3",
   "version": "3.12.5"
  }
 },
 "nbformat": 4,
 "nbformat_minor": 2
}
