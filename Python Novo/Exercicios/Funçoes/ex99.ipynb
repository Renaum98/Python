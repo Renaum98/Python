{
 "cells": [
  {
   "cell_type": "markdown",
   "metadata": {},
   "source": [
    "### **99** - Faça um programa que tenha uma função chamada `maior()` que receba varios parametros com valores inteiros.\n",
    "\n",
    "Seu programa tem que analisar todos os valores e dizer qual deles é o maior."
   ]
  },
  {
   "cell_type": "markdown",
   "metadata": {},
   "source": [
    "# **CORRIGIR**"
   ]
  },
  {
   "cell_type": "code",
   "execution_count": null,
   "metadata": {},
   "outputs": [
    {
     "name": "stdout",
     "output_type": "stream",
     "text": [
      "-=-=-=-=-=-=-=-=-=-=-=-=-=-=-=-=-=-=-=-=-=-=-=-=-=-=-=-=-=-=\n",
      "Analisando os valores passados...\n",
      "7 5 6 7 2 6 7 5 Foram informados 8 valores ao todo.\n",
      "O maior valor informado foi 7\n",
      "-=-=-=-=-=-=-=-=-=-=-=-=-=-=-=-=-=-=-=-=-=-=-=-=-=-=-=-=-=-=\n",
      "Analisando os valores passados...\n",
      "5 6 2 0 1 9 7 2 3 6 4 20 Foram informados 12 valores ao todo.\n",
      "O maior valor informado foi 20\n",
      "-=-=-=-=-=-=-=-=-=-=-=-=-=-=-=-=-=-=-=-=-=-=-=-=-=-=-=-=-=-=\n",
      "Analisando os valores passados...\n",
      "1 2 Foram informados 2 valores ao todo.\n",
      "O maior valor informado foi 2\n"
     ]
    }
   ],
   "source": [
    "from time import sleep\n",
    "def maior(* num):\n",
    "    print('-='*30)\n",
    "    print('Analisando os valores passados...') \n",
    "    for n in num:\n",
    "        sleep(.3)\n",
    "        print(n, end=' ')\n",
    "    tam = len(num)\n",
    "    sleep(.3)\n",
    "    print(f'Foram informados {tam} valores ao todo.')\n",
    "    sleep(.3)\n",
    "    if num == (''):\n",
    "        num = 0\n",
    "    print(f'O maior valor informado foi {max(num)}')\n",
    "\n",
    "maior(7,5,6,7,2,6,7,5)\n",
    "maior(5,6,2,0,1,9,7,2,3,6,4,20)\n",
    "maior(1,2)\n"
   ]
  }
 ],
 "metadata": {
  "kernelspec": {
   "display_name": "Python 3",
   "language": "python",
   "name": "python3"
  },
  "language_info": {
   "codemirror_mode": {
    "name": "ipython",
    "version": 3
   },
   "file_extension": ".py",
   "mimetype": "text/x-python",
   "name": "python",
   "nbconvert_exporter": "python",
   "pygments_lexer": "ipython3",
   "version": "3.12.5"
  }
 },
 "nbformat": 4,
 "nbformat_minor": 2
}
