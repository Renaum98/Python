{
 "cells": [
  {
   "cell_type": "markdown",
   "metadata": {},
   "source": [
    "### **101** - Crie um programa que tenha uma função chamada `voto()` que vai receber como parametro o ano de nascimento de uma pessoa retornando um valor literal indicando se uma pessoa tem voto **negado**, **opcional** ou **obrigatorio** nas eleições."
   ]
  },
  {
   "cell_type": "code",
   "execution_count": 6,
   "metadata": {},
   "outputs": [
    {
     "name": "stdout",
     "output_type": "stream",
     "text": [
      "-=-=-=-=-=-=-=-=-=-=-=-=-=-=-=-=-=-=-=-=\n",
      "Com 1985 anos: o voto é OBRIGATORIO\n"
     ]
    }
   ],
   "source": [
    "from datetime import datetime\n",
    "\n",
    "def voto(ano):\n",
    "    print('-='*20)\n",
    "    idade = datetime.now().year - ano\n",
    "    if idade >= 18:\n",
    "        print(f'Com {idade} anos: o voto é OBRIGATORIO')\n",
    "    elif 16 <= idade <18:\n",
    "        print(f'Com {idade} anos: o voto é OPCIONAL')\n",
    "    else:\n",
    "        print(f'Com {idade} anos: o voto NÃO É PERMITIDO ')\n",
    "\n",
    "a = int(input('Digite seu ano de nascimento: '))       \n",
    "voto(a)\n"
   ]
  },
  {
   "cell_type": "code",
   "execution_count": 5,
   "metadata": {},
   "outputs": [
    {
     "name": "stdout",
     "output_type": "stream",
     "text": [
      "Com 10 anos: NÃO VOTA\n"
     ]
    }
   ],
   "source": [
    "def voto(ano):\n",
    "    from datetime import date\n",
    "    atual = date.today().year\n",
    "    idade = atual - ano\n",
    "    if idade < 16:\n",
    "        return f'Com {idade} anos: NÃO VOTA'\n",
    "    elif 16 <= idade <18 or idade > 65:\n",
    "        return f'Com {idade} anos: VOTO OPCIONAL'\n",
    "    else:\n",
    "        return f'Com {idade} anos: VOTO OBRIGATORIO'\n",
    "\n",
    "#Programa principal\n",
    "nasc = int(input('Em que ano você nasceu: '))\n",
    "print(voto(nasc))"
   ]
  }
 ],
 "metadata": {
  "kernelspec": {
   "display_name": "Python 3",
   "language": "python",
   "name": "python3"
  },
  "language_info": {
   "codemirror_mode": {
    "name": "ipython",
    "version": 3
   },
   "file_extension": ".py",
   "mimetype": "text/x-python",
   "name": "python",
   "nbconvert_exporter": "python",
   "pygments_lexer": "ipython3",
   "version": "3.12.5"
  }
 },
 "nbformat": 4,
 "nbformat_minor": 2
}
