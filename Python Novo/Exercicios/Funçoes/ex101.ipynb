{
 "cells": [
  {
   "cell_type": "markdown",
   "metadata": {},
   "source": [
    "### **101** - Crie um programa que tenha uma função chamada `voto()` que vai receber como parametro o ano de nascimento de uma pessoa retornando um valor literal indicando se uma pessoa tem voto **negado**, **opcional** ou **obrigatorio** nas eleições."
   ]
  },
  {
   "cell_type": "code",
   "execution_count": null,
   "metadata": {},
   "outputs": [],
   "source": []
  }
 ],
 "metadata": {
  "language_info": {
   "name": "python"
  }
 },
 "nbformat": 4,
 "nbformat_minor": 2
}
