{
 "cells": [
  {
   "cell_type": "markdown",
   "metadata": {},
   "source": [
    "### **105** - Faça um programa que tenha uma função `notas()` que pode receber varias notas de alunos e vai retornar um dicionario com as seguintes informações:\n",
    "\n",
    "-Quantidade de notas\n",
    "\n",
    "-A maior nota\n",
    "\n",
    "-A menor nota\n",
    "\n",
    "-A media da turma\n",
    "\n",
    "-A situação(opcional)\n",
    "\n",
    "Adicione tambem as docstrings da função"
   ]
  }
 ],
 "metadata": {
  "language_info": {
   "name": "python"
  }
 },
 "nbformat": 4,
 "nbformat_minor": 2
}
