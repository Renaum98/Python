{
 "cells": [
  {
   "cell_type": "markdown",
   "metadata": {},
   "source": [
    "### **105** - Faça um programa que tenha uma função `notas()` que pode receber varias notas de alunos e vai retornar um dicionario com as seguintes informações:\n",
    "\n",
    "-Quantidade de notas\n",
    "\n",
    "-A maior nota\n",
    "\n",
    "-A menor nota\n",
    "\n",
    "-A media da turma\n",
    "\n",
    "-A situação(opcional)\n",
    "\n",
    "Adicione tambem as docstrings da função"
   ]
  },
  {
   "cell_type": "code",
   "execution_count": 20,
   "metadata": {},
   "outputs": [
    {
     "name": "stdout",
     "output_type": "stream",
     "text": [
      "total:  5\n",
      "maior:  10\n",
      "menor:  2.5\n",
      "media:  6.68\n",
      "situação:  RAZOAVEL\n"
     ]
    }
   ],
   "source": [
    "def notas(*n, sit=False):\n",
    "    \"\"\"\n",
    "    ==>Função para analisar notas e situações de varios alunos.\n",
    "    :param n: uma ou mais notas e situações de varios alunos\n",
    "    :param sit: valor opcional, indicando se deve ou não adicionar a situação\n",
    "    :return: dicionario com varias informações sobre a situação da turma\n",
    "    \n",
    "    \"\"\"\n",
    "    r = {}\n",
    "    r['total'] = len(n)\n",
    "    r['maior'] = max(n)\n",
    "    r['menor'] = min(n)\n",
    "    r['media'] = sum(n)/len(n)\n",
    "    if sit:\n",
    "        if r['media'] >= 7:\n",
    "            r['situação'] = 'BOA'\n",
    "        elif r['media'] >=5:\n",
    "            r['situação'] = 'RAZOAVEL'\n",
    "        else:\n",
    "            r['situação'] = 'RUIM'\n",
    "    return r\n",
    "\n",
    "#Programa Principal\n",
    "resp = notas(10, 7.2, 5.2, 2.5, 8.5, sit=True)\n",
    "for k, v in resp.items():\n",
    "    print(f'{k}:  {v}')\n",
    "#help(notas)"
   ]
  }
 ],
 "metadata": {
  "kernelspec": {
   "display_name": "Python 3",
   "language": "python",
   "name": "python3"
  },
  "language_info": {
   "codemirror_mode": {
    "name": "ipython",
    "version": 3
   },
   "file_extension": ".py",
   "mimetype": "text/x-python",
   "name": "python",
   "nbconvert_exporter": "python",
   "pygments_lexer": "ipython3",
   "version": "3.12.5"
  }
 },
 "nbformat": 4,
 "nbformat_minor": 2
}
