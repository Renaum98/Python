{
 "cells": [
  {
   "cell_type": "markdown",
   "metadata": {},
   "source": [
    "### **103** - Faça um programa que tenha uma função chamada `ficha()`, que receba dois parametros opcionais:o nome de um jogador e quantos gols ele marcou.O programa devera ser capaz de mostrar a ficha do jogador mesmo que algum dado não tenha sido informado corretamente.\n"
   ]
  }
 ],
 "metadata": {
  "language_info": {
   "name": "python"
  }
 },
 "nbformat": 4,
 "nbformat_minor": 2
}
