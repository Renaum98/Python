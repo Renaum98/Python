{
 "cells": [
  {
   "cell_type": "markdown",
   "metadata": {},
   "source": [
    "### **103** - Faça um programa que tenha uma função chamada `ficha()`, que receba dois parametros opcionais:o nome de um jogador e quantos gols ele marcou.O programa devera ser capaz de mostrar a ficha do jogador mesmo que algum dado não tenha sido informado corretamente.\n"
   ]
  },
  {
   "cell_type": "code",
   "execution_count": null,
   "metadata": {},
   "outputs": [
    {
     "name": "stdout",
     "output_type": "stream",
     "text": [
      "O jogador <Desconhecido> fez 0 gol(s) no campeonato\n"
     ]
    }
   ],
   "source": [
    "def ficha(n='<Desconhecido>' ,g=0):\n",
    "    print(f'O jogador {n} fez {g} gol(s) no campeonato')\n",
    "\n",
    "#Programa Principal\n",
    "nome = input('Nome do Jogador: ')   \n",
    "gols = str(input('Quantos gols: '))  \n",
    "if gols.isnumeric():\n",
    "    gols = int(gols)\n",
    "else:\n",
    "    gols = 0\n",
    "if nome.strip() == '':\n",
    "    ficha(g=gols)\n",
    "else:\n",
    "    ficha(nome, gols)"
   ]
  }
 ],
 "metadata": {
  "kernelspec": {
   "display_name": "Python 3",
   "language": "python",
   "name": "python3"
  },
  "language_info": {
   "codemirror_mode": {
    "name": "ipython",
    "version": 3
   },
   "file_extension": ".py",
   "mimetype": "text/x-python",
   "name": "python",
   "nbconvert_exporter": "python",
   "pygments_lexer": "ipython3",
   "version": "3.12.5"
  }
 },
 "nbformat": 4,
 "nbformat_minor": 2
}
