{
 "cells": [
  {
   "cell_type": "markdown",
   "metadata": {},
   "source": [
    "### **97** - Faça um programa que tenha uma função chamada `escreva()` que receba um texto qualquer como parametro e moestre uma mensagem com tamanho adaptavel."
   ]
  },
  {
   "cell_type": "code",
   "execution_count": 2,
   "metadata": {},
   "outputs": [
    {
     "name": "stdout",
     "output_type": "stream",
     "text": [
      "-----\n",
      "Renan\n",
      "-----\n",
      "----------------------\n",
      "Mais Um Dia No Paraiso\n",
      "----------------------\n",
      "----------------\n",
      "Pablito Escobrar\n",
      "----------------\n"
     ]
    }
   ],
   "source": [
    "def escreva(txt):\n",
    "    print('-'*len(txt))\n",
    "    print(txt)\n",
    "    print('-'*len(txt))\n",
    "\n",
    "escreva(input('Digite uma palavra ou frase: ').title())\n",
    "escreva(input('Digite uma palavra ou frase: ').title())\n",
    "escreva(input('Digite uma palavra ou frase: ').title())"
   ]
  }
 ],
 "metadata": {
  "kernelspec": {
   "display_name": "Python 3",
   "language": "python",
   "name": "python3"
  },
  "language_info": {
   "codemirror_mode": {
    "name": "ipython",
    "version": 3
   },
   "file_extension": ".py",
   "mimetype": "text/x-python",
   "name": "python",
   "nbconvert_exporter": "python",
   "pygments_lexer": "ipython3",
   "version": "3.12.5"
  }
 },
 "nbformat": 4,
 "nbformat_minor": 2
}
