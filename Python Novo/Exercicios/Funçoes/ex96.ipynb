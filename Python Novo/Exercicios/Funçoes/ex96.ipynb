{
 "cells": [
  {
   "cell_type": "markdown",
   "metadata": {},
   "source": [
    "### **96** - Faça um programa que tenha uma função chamada `area()` que receba as dimensoes de um terreno retangular(largura e comprimento) e mostre a area do terreno. "
   ]
  },
  {
   "cell_type": "code",
   "execution_count": 1,
   "metadata": {},
   "outputs": [
    {
     "name": "stdout",
     "output_type": "stream",
     "text": [
      "Controle de Terrenos\n",
      "--------------------\n",
      "A area de um terreno 10.0 x 25.5 é 255.0m²\n"
     ]
    }
   ],
   "source": [
    "def formata(txt):\n",
    "    print(f'{txt}')\n",
    "    print('-'*len(txt))\n",
    "\n",
    "def area(l,c):\n",
    "    a = l*c\n",
    "    print(f'A area de um terreno {l:.1f} x {c:.1f} é {a:.1f}m²')\n",
    "\n",
    "formata('Controle de Terrenos')\n",
    "area(float(input(\"Largura (m):\")),(float(input(\"Comprimento (m): \"))))\n",
    "\n"
   ]
  }
 ],
 "metadata": {
  "kernelspec": {
   "display_name": "Python 3",
   "language": "python",
   "name": "python3"
  },
  "language_info": {
   "codemirror_mode": {
    "name": "ipython",
    "version": 3
   },
   "file_extension": ".py",
   "mimetype": "text/x-python",
   "name": "python",
   "nbconvert_exporter": "python",
   "pygments_lexer": "ipython3",
   "version": "3.12.5"
  }
 },
 "nbformat": 4,
 "nbformat_minor": 2
}
