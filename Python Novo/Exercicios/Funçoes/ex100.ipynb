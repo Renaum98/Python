{
 "cells": [
  {
   "cell_type": "markdown",
   "metadata": {},
   "source": [
    "### **100** - Faça um programa que tenha uma lista chamada numeros e duas funçoes chamadas `sorteio()` e `somaPar()`.A primeira função vai sortear 5 numeros e vai colocar dentro de uma lista e a segunda função  vai mostrar a soma entre os valores PARES sorteados pela função anterior."
   ]
  },
  {
   "cell_type": "code",
   "execution_count": 5,
   "metadata": {},
   "outputs": [
    {
     "name": "stdout",
     "output_type": "stream",
     "text": [
      "-=-=-=-=-=-=-=-=-=-=-=-=-=-=-=-=-=-=-=-=-=-=-=-=-=-=-=-=-=-=\n",
      "Sorteando 5 valores na lista: 9 5 0 3 5 PRONTO!\n",
      "-=-=-=-=-=-=-=-=-=-=-=-=-=-=-=-=-=-=-=-=-=-=-=-=-=-=-=-=-=-=\n",
      "Somando os valores pares que são: 0 Temos o valor 0\n"
     ]
    }
   ],
   "source": [
    "from time import sleep\n",
    "from random import randint\n",
    "numeros = []\n",
    "def sorteia():\n",
    "    print('-='*30)\n",
    "    print(\"Sorteando 5 valores na lista: \",end='')\n",
    "    for n in range(5):\n",
    "        numeros.append(randint(0,10))\n",
    "    for nl in numeros:\n",
    "        sleep(.5)\n",
    "        print(nl,end=' ')\n",
    "    sleep(.5)\n",
    "    print('PRONTO!')\n",
    "def somaPar():\n",
    "    print('-='*30)\n",
    "    print('Somando os valores pares que são: ',end='')\n",
    "    s = 0\n",
    "    for v in numeros:\n",
    "        if v % 2 == 0:\n",
    "            s+=v\n",
    "            sleep(.5)\n",
    "            print(v,end=' ')\n",
    "    sleep(.5)\n",
    "    print(f'Temos o valor {s}')\n",
    "\n",
    "sorteia()\n",
    "somaPar()\n"
   ]
  }
 ],
 "metadata": {
  "kernelspec": {
   "display_name": "Python 3",
   "language": "python",
   "name": "python3"
  },
  "language_info": {
   "codemirror_mode": {
    "name": "ipython",
    "version": 3
   },
   "file_extension": ".py",
   "mimetype": "text/x-python",
   "name": "python",
   "nbconvert_exporter": "python",
   "pygments_lexer": "ipython3",
   "version": "3.12.5"
  }
 },
 "nbformat": 4,
 "nbformat_minor": 2
}
