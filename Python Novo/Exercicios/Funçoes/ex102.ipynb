{
 "cells": [
  {
   "cell_type": "markdown",
   "metadata": {},
   "source": [
    "### **102** - Crie um programa que tenha uma função `fatorial()` que receba dois parametros: o primeiro que indique o numero a calcular e o outro chamado show,que sera um valor logico(**opcional**) indicando se sera mostrado ou não na tela do factorial."
   ]
  },
  {
   "cell_type": "markdown",
   "metadata": {},
   "source": [
    "# **CORRIGIR**"
   ]
  },
  {
   "cell_type": "code",
   "execution_count": 10,
   "metadata": {},
   "outputs": [
    {
     "name": "stdout",
     "output_type": "stream",
     "text": [
      "5\n",
      "20\n",
      "60\n",
      "120\n",
      "120\n",
      "None\n"
     ]
    }
   ],
   "source": [
    "def fat(a,show=False):\n",
    "    if show is False:\n",
    "        f = 1\n",
    "        for c in range(a,0,-1):\n",
    "            f *= c\n",
    "            print(f)\n",
    "    elif show is True:\n",
    "        f = 1\n",
    "        for c in range(a,0,-1):\n",
    "            f *= c\n",
    "        return f \n",
    "print(fat(5,show=False))\n",
    "\n"
   ]
  },
  {
   "cell_type": "code",
   "execution_count": 3,
   "metadata": {},
   "outputs": [
    {
     "name": "stdout",
     "output_type": "stream",
     "text": [
      "5 x 4 x 3 x 2 x 1 = 120\n"
     ]
    }
   ],
   "source": [
    "def fatorial(n, show=False):\n",
    "    '''\n",
    "    ->Calcula o Fatorial de um numero.\n",
    "    :param n: O numero a ser calculado\n",
    "    :param show: (opcional) Mostrar ou não a conta.\n",
    "    :return: Ovalor do Fatorial de um numero n.\n",
    "    '''\n",
    "    f = 1\n",
    "    for c in range(n, 0, -1):\n",
    "        if show:\n",
    "            print(c,end='')\n",
    "            if c>1:\n",
    "                print(' x ',end='')\n",
    "            else:\n",
    "                print(' = ',end='')\n",
    "        f *= c\n",
    "    return f\n",
    "\n",
    "# Programa Principal\n",
    "print(fatorial(5, show = True))\n",
    "help(fatorial)"
   ]
  }
 ],
 "metadata": {
  "kernelspec": {
   "display_name": "Python 3",
   "language": "python",
   "name": "python3"
  },
  "language_info": {
   "codemirror_mode": {
    "name": "ipython",
    "version": 3
   },
   "file_extension": ".py",
   "mimetype": "text/x-python",
   "name": "python",
   "nbconvert_exporter": "python",
   "pygments_lexer": "ipython3",
   "version": "3.12.5"
  }
 },
 "nbformat": 4,
 "nbformat_minor": 2
}
