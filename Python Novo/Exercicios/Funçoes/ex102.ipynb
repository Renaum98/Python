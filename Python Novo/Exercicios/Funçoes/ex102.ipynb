{
 "cells": [
  {
   "cell_type": "markdown",
   "metadata": {},
   "source": [
    "### **102** - Crie um programa que tenha uma função `fatorial()` que receba dois parametros: o primeiro que indique o numero a calcular e o outro chamado show,que sera um valor logico(**opcional**) indicando se sera mostrado ou não na tela do factorial."
   ]
  },
  {
   "cell_type": "code",
   "execution_count": null,
   "metadata": {},
   "outputs": [],
   "source": []
  }
 ],
 "metadata": {
  "language_info": {
   "name": "python"
  }
 },
 "nbformat": 4,
 "nbformat_minor": 2
}
