{
 "cells": [
  {
   "cell_type": "markdown",
   "metadata": {},
   "source": [
    "### **104** - Crie um programa que tenha a função `leiaInt()`, que vai funcionar de forma semelhante a função `input()` do Python.So que fazendo a validação para aceitar apenar valor numerico.\n",
    "\n",
    "ex:n = leiaInt('Digite um n')"
   ]
  }
 ],
 "metadata": {
  "language_info": {
   "name": "python"
  }
 },
 "nbformat": 4,
 "nbformat_minor": 2
}
