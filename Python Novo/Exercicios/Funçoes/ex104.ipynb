{
 "cells": [
  {
   "cell_type": "markdown",
   "metadata": {},
   "source": [
    "### **104** - Crie um programa que tenha a função `leiaInt()`, que vai funcionar de forma semelhante a função `input()` do Python.So que fazendo a validação para aceitar apenar valor numerico.\n",
    "\n",
    "ex:n = leiaInt('Digite um n')"
   ]
  },
  {
   "cell_type": "code",
   "execution_count": 11,
   "metadata": {},
   "outputs": [
    {
     "name": "stdout",
     "output_type": "stream",
     "text": [
      "O valor digitado não é um numero\n"
     ]
    }
   ],
   "source": [
    "def leiaInt(n):\n",
    "    if n.isnumeric():\n",
    "        return f'Você digitou o valor{n}'\n",
    "    else:\n",
    "        return f'O valor digitado não é um numero'\n",
    "v = input('Digite um valor:')\n",
    "print(leiaInt(v))"
   ]
  },
  {
   "cell_type": "code",
   "execution_count": null,
   "metadata": {},
   "outputs": [],
   "source": [
    "def leiaInt():\n",
    "# Programa principal\n",
    "n = leiaInt('Digite um numero: ')\n",
    "print(f'Você digitou o numero {n}')"
   ]
  }
 ],
 "metadata": {
  "kernelspec": {
   "display_name": "Python 3",
   "language": "python",
   "name": "python3"
  },
  "language_info": {
   "codemirror_mode": {
    "name": "ipython",
    "version": 3
   },
   "file_extension": ".py",
   "mimetype": "text/x-python",
   "name": "python",
   "nbconvert_exporter": "python",
   "pygments_lexer": "ipython3",
   "version": "3.12.5"
  }
 },
 "nbformat": 4,
 "nbformat_minor": 2
}
