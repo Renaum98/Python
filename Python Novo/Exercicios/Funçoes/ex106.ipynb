{
 "cells": [
  {
   "cell_type": "markdown",
   "metadata": {},
   "source": [
    "### **106** - Faça um mini-sistema que utilize o interactive Help do python.O usuario vai digitar o comando e o manual vai aparecer.quando o usuario digitar a palavra **FIM** o programa se encerrara\n",
    "\n",
    "obs: use cores."
   ]
  }
 ],
 "metadata": {
  "language_info": {
   "name": "python"
  }
 },
 "nbformat": 4,
 "nbformat_minor": 2
}
