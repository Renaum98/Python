{
 "cells": [
  {
   "cell_type": "markdown",
   "metadata": {},
   "source": [
    "### **98** - Faça um programa que tenha uma função chamada `contador()` que receba tres parametros,inicio,fim e passo e realize a contagem.\n",
    "\n",
    "Seu programa ter que realizar tres contagens atraves da função criada:\n",
    "\n",
    "a - de 1 até 10, de 1 em 1\n",
    "\n",
    "b - de 10 até 0, de 2 em 2\n",
    "\n",
    "c - um contagem personalizada"
   ]
  },
  {
   "cell_type": "markdown",
   "metadata": {},
   "source": [
    "# **CORRIGIR**"
   ]
  },
  {
   "cell_type": "code",
   "execution_count": 17,
   "metadata": {},
   "outputs": [
    {
     "name": "stdout",
     "output_type": "stream",
     "text": [
      "-=-=-=-=-=-=-=-=-=-=-=-=-=-=-=-=-=-=-=-=-=-=-=-=-=-=-=-=-=-=\n",
      "Contagem de 1 até 10 de 1 em 1\n",
      "1 2 3 4 5 6 7 8 9 10 FIM!\n",
      "-=-=-=-=-=-=-=-=-=-=-=-=-=-=-=-=-=-=-=-=-=-=-=-=-=-=-=-=-=-=\n",
      "Contagem de 10 até -1 de -1 em -1\n",
      "10 9 8 7 6 5 4 3 2 1 FIM!\n",
      "Agora é sua vez de personalizar!\n",
      "-=-=-=-=-=-=-=-=-=-=-=-=-=-=-=-=-=-=-=-=-=-=-=-=-=-=-=-=-=-=\n",
      "Contagem de 40 até 0 de -2 em -2\n",
      "40 38 36 34 32 30 28 26 24 22 20 18 16 14 12 10 8 6 4 2 FIM!\n"
     ]
    }
   ],
   "source": [
    "from time import sleep\n",
    "def contador(inicio,fim,passo):\n",
    "    print(\"-=\"*30)\n",
    "    print(f'Contagem de {inicio} até {fim} de {passo} em {passo}')\n",
    "    for c in range(inicio,fim+1,passo):\n",
    "        sleep(.5)\n",
    "        print(c,end=' ')\n",
    "    print(\"FIM!\")\n",
    "\n",
    "\n",
    "contador(1,10,1)\n",
    "contador(10,0-1,-1)\n",
    "print('Agora é sua vez de personalizar!')\n",
    "contador(int(input('Inicio:')),\n",
    "         int(input('Fim:')),\n",
    "         int(input('Passo')))"
   ]
  },
  {
   "cell_type": "code",
   "execution_count": null,
   "metadata": {},
   "outputs": [
    {
     "name": "stdout",
     "output_type": "stream",
     "text": [
      "-=-=-=-=-=-=-=-=-=-=-=-=-=-=-=-=-=-=-=-=\n",
      "Contagem de 1 até o 10 de 1 em 1\n",
      "1 2 3 4 5 6 7 8 9 10 FIM\n",
      "-=-=-=-=-=-=-=-=-=-=-=-=-=-=-=-=-=-=-=-=\n",
      "Contagem de 10 até o 0 de 2 em 2\n",
      "10 8 6 4 2 0 FIM\n",
      "-=-=-=-=-=-=-=-=-=-=-=-=-=-=-=-=-=-=-=-=\n",
      "Agora sua vez de personlizar\n",
      "-=-=-=-=-=-=-=-=-=-=-=-=-=-=-=-=-=-=-=-=\n",
      "Contagem de 4 até o 7 de 0 em 0\n",
      "Passo recebe 1 pois não pode ser passado 0\n",
      "4 5 6 7 FIM\n"
     ]
    }
   ],
   "source": [
    "from time import sleep\n",
    "def contador(i, f, p):\n",
    "    print('-='*20)\n",
    "    print(f'Contagem de {i} até o {f} de {p} em {p}')\n",
    "    if p < 0:\n",
    "        p*= -1\n",
    "\n",
    "    if p == 0:\n",
    "        p = 1\n",
    "        print(f'ERRO!Passo recebe 1 pois não pode ser passado 0')\n",
    "    if i < f:\n",
    "        cont = i\n",
    "        while cont <= f:\n",
    "            print(f'{cont}',end=' ' )\n",
    "            sleep(.5)\n",
    "            cont += p\n",
    "        print('FIM')\n",
    "    else:\n",
    "        cont = i\n",
    "        while cont >= f:\n",
    "            print(f'{cont}',end=' ')\n",
    "            sleep(.5)\n",
    "            cont-=p\n",
    "        print('FIM')\n",
    "contador(1, 10, 1)\n",
    "contador(10, 0, 2)\n",
    "print('-='*20)\n",
    "print('Agora sua vez de personlizar')\n",
    "contador(int(input('Inicio: ')),\n",
    "         int(input('Fim:    ')),\n",
    "         int(input('Passo:  ')))"
   ]
  }
 ],
 "metadata": {
  "kernelspec": {
   "display_name": "Python 3",
   "language": "python",
   "name": "python3"
  },
  "language_info": {
   "codemirror_mode": {
    "name": "ipython",
    "version": 3
   },
   "file_extension": ".py",
   "mimetype": "text/x-python",
   "name": "python",
   "nbconvert_exporter": "python",
   "pygments_lexer": "ipython3",
   "version": "3.12.5"
  }
 },
 "nbformat": 4,
 "nbformat_minor": 2
}
