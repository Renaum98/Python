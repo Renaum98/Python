{
 "cells": [
  {
   "cell_type": "markdown",
   "metadata": {},
   "source": [
    "38 - Escreva um programa que leia dois numeros inteiros e compare-os mostrando na tela uma mensagem:\n",
    "\n",
    "-O primeiro valor é maior\n",
    "\n",
    "-O segundo valor é maior\n",
    "\n",
    "-Não existe valor maior, os dois são iguais"
   ]
  }
 ],
 "metadata": {
  "language_info": {
   "name": "python"
  }
 },
 "nbformat": 4,
 "nbformat_minor": 2
}
