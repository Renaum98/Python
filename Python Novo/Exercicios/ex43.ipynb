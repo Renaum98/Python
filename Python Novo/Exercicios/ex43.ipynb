{
 "cells": [
  {
   "cell_type": "markdown",
   "metadata": {},
   "source": [
    "43 - Desenvolva uma logica que leia o peso e a altura de uma pessoa, calcule seu IMC e mostre seu status de acordo com a tabela abaixo:\n",
    "\n",
    "-Abaixo de 18.5: Abaixo do peso\n",
    "\n",
    "-Entre 18.5 e 25: Peso ideal\n",
    "\n",
    "-25 até 30: Sobrepeso\n",
    "\n",
    "-30 até 40: Obesidade\n",
    "\n",
    "-Acima de 40: Obesidade morbida"
   ]
  }
 ],
 "metadata": {
  "language_info": {
   "name": "python"
  }
 },
 "nbformat": 4,
 "nbformat_minor": 2
}
