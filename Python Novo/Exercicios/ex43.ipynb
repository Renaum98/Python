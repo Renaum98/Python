{
 "cells": [
  {
   "cell_type": "markdown",
   "metadata": {},
   "source": [
    "43 - Desenvolva uma logica que leia o peso e a altura de uma pessoa, calcule seu IMC e mostre seu status de acordo com a tabela abaixo:\n",
    "\n",
    "-Abaixo de 18.5: Abaixo do peso\n",
    "\n",
    "-Entre 18.5 e 25: Peso ideal\n",
    "\n",
    "-25 até 30: Sobrepeso\n",
    "\n",
    "-30 até 40: Obesidade\n",
    "\n",
    "-Acima de 40: Obesidade morbida"
   ]
  },
  {
   "cell_type": "code",
   "execution_count": 9,
   "metadata": {},
   "outputs": [
    {
     "name": "stdout",
     "output_type": "stream",
     "text": [
      "Calculadora de IMC\n",
      "Seu IMC é de 78.1\n",
      "Você esta com obesidade morbida\n",
      "Procure um profissional urgente para tratamento\n"
     ]
    }
   ],
   "source": [
    "print('Calculadora de IMC')\n",
    "peso = float(input('Digite seu peso: '))\n",
    "altura = float(input('Digite sua altura: '))\n",
    "imc = peso/altura**2\n",
    "\n",
    "print('Seu IMC é de {:.1f}'.format(imc))\n",
    "\n",
    "if imc < 18.5:\n",
    "    print('Você esta abaixo do peso')\n",
    "elif imc >= 18.5 and imc <25:\n",
    "    print('Você esta no peso ideal')\n",
    "elif imc >= 25 and imc < 30:\n",
    "    print('Você esta com sobrebeso')\n",
    "elif imc >= 30 and imc < 40:\n",
    "    print('Você esta com obesidade')\n",
    "else:\n",
    "    print('Você esta com obesidade morbida\\nProcure um profissional urgente para tratamento')\n"
   ]
  }
 ],
 "metadata": {
  "kernelspec": {
   "display_name": "Python 3",
   "language": "python",
   "name": "python3"
  },
  "language_info": {
   "codemirror_mode": {
    "name": "ipython",
    "version": 3
   },
   "file_extension": ".py",
   "mimetype": "text/x-python",
   "name": "python",
   "nbconvert_exporter": "python",
   "pygments_lexer": "ipython3",
   "version": "3.12.5"
  }
 },
 "nbformat": 4,
 "nbformat_minor": 2
}
