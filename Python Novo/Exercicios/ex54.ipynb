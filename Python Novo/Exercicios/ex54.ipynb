{
 "cells": [
  {
   "cell_type": "markdown",
   "metadata": {},
   "source": [
    "### **54** - Crie um programa que eia o ano de nascimento de sete pessoas.No final mostre quantas pessoas ainda não atingiram a maioridade e quantas ja são maiores de idade."
   ]
  }
 ],
 "metadata": {
  "language_info": {
   "name": "python"
  }
 },
 "nbformat": 4,
 "nbformat_minor": 2
}
