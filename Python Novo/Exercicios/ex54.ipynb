{
 "cells": [
  {
   "cell_type": "markdown",
   "metadata": {},
   "source": [
    "### **54** - Crie um programa que leia o ano de nascimento de sete pessoas.No final mostre quantas pessoas ainda não atingiram a maioridade e quantas ja são maiores de idade."
   ]
  },
  {
   "cell_type": "code",
   "execution_count": 12,
   "metadata": {},
   "outputs": [
    {
     "name": "stdout",
     "output_type": "stream",
     "text": [
      "1 pessoas ainda são menores de idade\n",
      "6 pessoas são maiores de idade\n"
     ]
    }
   ],
   "source": [
    "from datetime import datetime\n",
    "ano_atual = datetime.now().year\n",
    "n1 = 0 #a soma dos menores de idade\n",
    "n2 = 0 #a soma dos maiores de idade\n",
    "for i in range (1,8):\n",
    "     ano = int(input('Digite seu ano de nascimento: '))\n",
    "     if ano > ano_atual:\n",
    "        print('Digite um ano valido')\n",
    "        break\n",
    "     elif ano_atual - ano < 18:\n",
    "        n1 = n1+1\n",
    "     else:\n",
    "        n2 = n2+1\n",
    "        \n",
    "print('{} pessoas ainda são menores de idade'.format(n1)) \n",
    "print('{} pessoas são maiores de idade'.format(n2)) "
   ]
  }
 ],
 "metadata": {
  "kernelspec": {
   "display_name": "Python 3",
   "language": "python",
   "name": "python3"
  },
  "language_info": {
   "codemirror_mode": {
    "name": "ipython",
    "version": 3
   },
   "file_extension": ".py",
   "mimetype": "text/x-python",
   "name": "python",
   "nbconvert_exporter": "python",
   "pygments_lexer": "ipython3",
   "version": "3.11.9"
  }
 },
 "nbformat": 4,
 "nbformat_minor": 2
}
