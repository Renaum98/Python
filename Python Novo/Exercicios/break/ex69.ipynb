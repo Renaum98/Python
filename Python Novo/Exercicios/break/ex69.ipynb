{
 "cells": [
  {
   "cell_type": "markdown",
   "metadata": {},
   "source": [
    "#### **69** - Crie um programa que leia a idade e o sexo de varias pessoas.A cada pessoa cadastrada, o programa devera perguntar se o usuario quer ou não continuar.No final mostre:\n",
    "\n",
    "-Quantas pessoas tem mais de 18 anos.\n",
    "\n",
    "-Quantos homens foram cadastrados.\n",
    "\n",
    "-Quantas mulheres tem menos de 20 anos."
   ]
  }
 ],
 "metadata": {
  "language_info": {
   "name": "python"
  }
 },
 "nbformat": 4,
 "nbformat_minor": 2
}
