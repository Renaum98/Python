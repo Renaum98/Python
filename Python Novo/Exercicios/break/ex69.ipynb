{
 "cells": [
  {
   "cell_type": "markdown",
   "metadata": {},
   "source": [
    "#### **69** - Crie um programa que leia a idade e o sexo de varias pessoas.A cada pessoa cadastrada, o programa devera perguntar se o usuario quer ou não continuar. No final mostre:\n",
    "\n",
    "-Quantas pessoas tem mais de 18 anos.\n",
    "\n",
    "-Quantos homens foram cadastrados.\n",
    "\n",
    "-Quantas mulheres tem menos de 20 anos."
   ]
  },
  {
   "cell_type": "code",
   "execution_count": 1,
   "metadata": {},
   "outputs": [
    {
     "name": "stdout",
     "output_type": "stream",
     "text": [
      "==============================\n",
      "     Analisador de Dados      \n",
      "==============================\n",
      "7 pessoas foram cadastradas\n",
      "4 pessoas tem mais de 18 anos\n",
      "4 Homens foram cadastrados\n",
      "2 Mulheres com menos de 20 anos foram cadastradas\n",
      "Fim\n",
      "==============================\n"
     ]
    }
   ],
   "source": [
    "print('='*30)\n",
    "print('Analisador de Dados'.center(30))\n",
    "print('='*30)\n",
    "cont = 0\n",
    "cont_idade = 0\n",
    "cont_m = 0\n",
    "cont_f = 0\n",
    "while True:\n",
    "    idade = int(input('Digite sua idade: '))\n",
    "    cont+=1\n",
    "    while idade < 0:\n",
    "        print('Digite uma idade valida!')\n",
    "        idade = int(input('Digite sua idade: '))\n",
    "    if idade > 18:    \n",
    "        cont_idade+=1\n",
    "    sexo = input('Digite seu sexo [M/F]: ').upper().strip()\n",
    "    while sexo not in 'M,F':\n",
    "        print('Digite um sexo valido!')\n",
    "        sexo = input('Digite seu sexo [M/F]: ').upper().strip()\n",
    "    if sexo == 'M':\n",
    "        cont_m+=1\n",
    "    if sexo == 'F' and idade < 20:\n",
    "        cont_f+=1\n",
    "    ac = input('Deseja continuar?[S/N] ').upper().strip()\n",
    "    while ac not in 'S,N':\n",
    "        print('Digite um sexo valido')\n",
    "        ac = input('Deseja continuar?[S/N] ').upper().strip()\n",
    "    if ac == 'N':\n",
    "        break\n",
    "print(f'{cont} pessoas foram cadastradas')\n",
    "print(f'{cont_idade} pessoas tem mais de 18 anos')\n",
    "print(f'{cont_m} Homens foram cadastrados')\n",
    "print(f'{cont_f} Mulheres com menos de 20 anos foram cadastradas')\n",
    "print('Fim')\n",
    "print('='*30)\n"
   ]
  }
 ],
 "metadata": {
  "kernelspec": {
   "display_name": "Python 3",
   "language": "python",
   "name": "python3"
  },
  "language_info": {
   "codemirror_mode": {
    "name": "ipython",
    "version": 3
   },
   "file_extension": ".py",
   "mimetype": "text/x-python",
   "name": "python",
   "nbconvert_exporter": "python",
   "pygments_lexer": "ipython3",
   "version": "3.12.5"
  }
 },
 "nbformat": 4,
 "nbformat_minor": 2
}
