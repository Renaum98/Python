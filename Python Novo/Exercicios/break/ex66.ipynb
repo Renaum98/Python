{
 "cells": [
  {
   "cell_type": "markdown",
   "metadata": {},
   "source": [
    "#### **66** - Crie um programa que leia varios numeros inteiros pelo teclado.O programa so vai parar quando o usuário digitar o valor **999**, que é a condição de parada.No final mostre **quantos numeros foram digitados** e qual foi a **soma** entre eles desconsiderando o flag."
   ]
  },
  {
   "cell_type": "code",
   "execution_count": 3,
   "metadata": {},
   "outputs": [
    {
     "name": "stdout",
     "output_type": "stream",
     "text": [
      "~~~~~~~~~~~~~~~~~~~~~~~~~~~~~~~~~~~~~~~~~~~~~~~~~~\n",
      "Você digitou 3 e a soma desses valores é 18\n",
      "Fim\n",
      "~~~~~~~~~~~~~~~~~~~~~~~~~~~~~~~~~~~~~~~~~~~~~~~~~~\n"
     ]
    }
   ],
   "source": [
    "num = 0\n",
    "cont = 0\n",
    "soma = 0\n",
    "print('~'*50)\n",
    "while True:\n",
    "    num = int(input('Digite um numero: '))\n",
    "    if num == 999:\n",
    "        break\n",
    "    cont+=1\n",
    "    soma+=num\n",
    "print(f'Você digitou {cont} e a soma desses valores é {soma}')\n",
    "print('Fim')\n",
    "print('~'*50)"
   ]
  }
 ],
 "metadata": {
  "kernelspec": {
   "display_name": "Python 3",
   "language": "python",
   "name": "python3"
  },
  "language_info": {
   "codemirror_mode": {
    "name": "ipython",
    "version": 3
   },
   "file_extension": ".py",
   "mimetype": "text/x-python",
   "name": "python",
   "nbconvert_exporter": "python",
   "pygments_lexer": "ipython3",
   "version": "3.12.5"
  }
 },
 "nbformat": 4,
 "nbformat_minor": 2
}
