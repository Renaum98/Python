{
 "cells": [
  {
   "cell_type": "markdown",
   "metadata": {},
   "source": [
    "#### **66** - Crie um programa que leia varios numeros inteiros pelo teclado.Oprograma so vai parar quando o usuário digitar o valor **999**, que é a condição de parada.No final mostre **quantos numeros foram digitados** e qual foi a **soma** entre eles desconsiderando o flag."
   ]
  }
 ],
 "metadata": {
  "language_info": {
   "name": "python"
  }
 },
 "nbformat": 4,
 "nbformat_minor": 2
}
