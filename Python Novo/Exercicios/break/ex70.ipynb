{
 "cells": [
  {
   "cell_type": "markdown",
   "metadata": {},
   "source": [
    "#### **70** - Crie um programa que leia o nome e o preço de varios produtos.Oprograma devera perguntar se o usuario vai continuar.No final mostre:\n",
    "\n",
    "-qual é o total gasto na compra.\n",
    "\n",
    "-quantos produtos custam mais de R$1000,00.\n",
    "\n",
    "-qual é o nome do produto mais barato."
   ]
  },
  {
   "cell_type": "code",
   "execution_count": 9,
   "metadata": {},
   "outputs": [
    {
     "name": "stdout",
     "output_type": "stream",
     "text": [
      "========================================\n",
      "    Analisador de Produtos e Preços     \n",
      "========================================\n",
      "Asd ---- R$10.00\n",
      "1 ---- R$5.00\n"
     ]
    }
   ],
   "source": [
    "print('='*40)\n",
    "print('Analisador de Produtos e Preços'.center(40))\n",
    "print('='*40)\n",
    "soma_valor = cont_prod = 0\n",
    "cont_prod = 0\n",
    "prod_barato = 1000\n",
    "prod_nome = ''\n",
    "while True:\n",
    "    produto = ''\n",
    "    while produto == '':\n",
    "        produto = input('Digite o nome do Produto: ').title().strip()\n",
    "                    \n",
    "    valor = float(input('Digite um valor: '))\n",
    "    while True:\n",
    "        if valor < 0:\n",
    "            valor = float(input('Digite um valor valido: '))\n",
    "        else:\n",
    "            break\n",
    "    soma_valor += valor\n",
    "    print(f'{produto:} ---- R${valor:.2f}')\n",
    "    \n",
    "    if valor > 1000:\n",
    "        cont_prod+=1\n",
    "    if valor < prod_barato:\n",
    "        prod_barato = valor\n",
    "        prod_nome = produto\n",
    "\n",
    "    continuar = ''\n",
    "    while continuar not in 'S,N':\n",
    "        continuar = input('Deseja continuar?[S/N] ').upper()[0]\n",
    "    if continuar == 'N':\n",
    "        break\n",
    "print('='*40)\n",
    "print(f'O valor total da compra foi R${soma_valor:.2f}')\n",
    "print(f'{cont_prod} produtos custam mais de R$1000.00')\n",
    "print(f'O produto mais barato é {prod_nome} e custa R${prod_barato:.2f}')\n",
    "print('Fim')"
   ]
  },
  {
   "cell_type": "markdown",
   "metadata": {},
   "source": [
    "**Correção**"
   ]
  },
  {
   "cell_type": "code",
   "execution_count": null,
   "metadata": {},
   "outputs": [
    {
     "name": "stdout",
     "output_type": "stream",
     "text": [
      "------------FIM DO PROGRAMA-------------\n",
      "O total da compra foi R$262.00\n",
      "Temos 0 custando mais de R$1000.00\n",
      "O produto mais barato foi wer que custa R$4.00\n"
     ]
    }
   ],
   "source": [
    "total = totmil = menor = cont = 0\n",
    "barato = ''\n",
    "while True:\n",
    "    produto = input('Nome do Produto: ')\n",
    "    valor = float(input('Valor: R$'))\n",
    "    cont+=1\n",
    "    total+=valor\n",
    "    \n",
    "    if valor > 1000:\n",
    "        totmil+=1\n",
    "        \n",
    "    if cont == 1:\n",
    "        menor = valor\n",
    "        barato = produto\n",
    "    else:\n",
    "        if valor < menor:\n",
    "            menor = valor\n",
    "            barato = produto\n",
    "    \n",
    "    resp = ' '\n",
    "    while resp not in 'SN':\n",
    "        resp = input('Quer continuar? [S/N]').strip().upper()[0]\n",
    "    if resp == 'N':\n",
    "        break\n",
    "print('{:-^40}'.format('FIM DO PROGRAMA'))\n",
    "print(f'O total da compra foi R${total:.2f}')\n",
    "print(f'Temos {totmil} custando mais de R$1000.00')\n",
    "print(f'O produto mais barato foi {barato} que custa R${menor:.2f}')"
   ]
  }
 ],
 "metadata": {
  "kernelspec": {
   "display_name": "Python 3",
   "language": "python",
   "name": "python3"
  },
  "language_info": {
   "codemirror_mode": {
    "name": "ipython",
    "version": 3
   },
   "file_extension": ".py",
   "mimetype": "text/x-python",
   "name": "python",
   "nbconvert_exporter": "python",
   "pygments_lexer": "ipython3",
   "version": "3.12.5"
  }
 },
 "nbformat": 4,
 "nbformat_minor": 2
}
