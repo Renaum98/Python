{
 "cells": [
  {
   "cell_type": "markdown",
   "metadata": {},
   "source": [
    "#### **70** - Crie um programa que leia o nome e o preço de varios produtos.Oprograma devera perguntar se o usuario vai continuar.No final mostre:\n",
    "\n",
    "-qual é o total gasto na compra.\n",
    "\n",
    "-quantos produtos custam mais de R$1000,00.\n",
    "\n",
    "-qual é o nome do produto mais barato."
   ]
  }
 ],
 "metadata": {
  "language_info": {
   "name": "python"
  }
 },
 "nbformat": 4,
 "nbformat_minor": 2
}
