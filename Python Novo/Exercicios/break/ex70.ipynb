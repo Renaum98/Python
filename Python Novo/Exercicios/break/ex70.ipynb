{
 "cells": [
  {
   "cell_type": "markdown",
   "metadata": {},
   "source": [
    "#### **70** - Crie um programa que leia o nome e o preço de varios produtos.Oprograma devera perguntar se o usuario vai continuar.No final mostre:\n",
    "\n",
    "-qual é o total gasto na compra.\n",
    "\n",
    "-quantos produtos custam mais de R$1000,00.\n",
    "\n",
    "-qual é o nome do produto mais barato."
   ]
  },
  {
   "cell_type": "code",
   "execution_count": 40,
   "metadata": {},
   "outputs": [
    {
     "name": "stdout",
     "output_type": "stream",
     "text": [
      "========================================\n",
      "    Analisador de Produtos e Preços     \n",
      "========================================\n",
      "Produto:                              Valor                  \n"
     ]
    },
    {
     "ename": "ValueError",
     "evalue": "could not convert string to float: ''",
     "output_type": "error",
     "traceback": [
      "\u001b[1;31m---------------------------------------------------------------------------\u001b[0m",
      "\u001b[1;31mValueError\u001b[0m                                Traceback (most recent call last)",
      "Cell \u001b[1;32mIn[40], line 14\u001b[0m\n\u001b[0;32m     11\u001b[0m \u001b[38;5;28;01mif\u001b[39;00m produto \u001b[38;5;241m==\u001b[39m \u001b[38;5;124m'\u001b[39m\u001b[38;5;124m'\u001b[39m:\n\u001b[0;32m     12\u001b[0m     produto \u001b[38;5;241m=\u001b[39m \u001b[38;5;124m'\u001b[39m\u001b[38;5;124mProduto não cadastrado\u001b[39m\u001b[38;5;124m'\u001b[39m            \n\u001b[1;32m---> 14\u001b[0m valor \u001b[38;5;241m=\u001b[39m \u001b[38;5;28;43mfloat\u001b[39;49m\u001b[43m(\u001b[49m\u001b[38;5;28;43minput\u001b[39;49m\u001b[43m(\u001b[49m\u001b[38;5;124;43m'\u001b[39;49m\u001b[38;5;124;43mDigite um valor: \u001b[39;49m\u001b[38;5;124;43m'\u001b[39;49m\u001b[43m)\u001b[49m\u001b[43m)\u001b[49m\n\u001b[0;32m     15\u001b[0m \u001b[38;5;28;01mwhile\u001b[39;00m \u001b[38;5;28;01mTrue\u001b[39;00m:\n\u001b[0;32m     16\u001b[0m     \u001b[38;5;28;01mif\u001b[39;00m valor \u001b[38;5;241m<\u001b[39m \u001b[38;5;241m0\u001b[39m:\n",
      "\u001b[1;31mValueError\u001b[0m: could not convert string to float: ''"
     ]
    }
   ],
   "source": [
    "print('='*40)\n",
    "print('Analisador de Produtos e Preços'.center(40))\n",
    "print('='*40)\n",
    "soma_valor = 0\n",
    "cont_prod = 0\n",
    "prod_barato = 1000\n",
    "prod_nome = ''\n",
    "while True:\n",
    "    produto = input('Digite o nome do Produto: ').title().strip()\n",
    "    if produto == '':\n",
    "        produto = 'Produto não cadastrado'            \n",
    "\n",
    "    valor = float(input('Digite um valor: '))\n",
    "    while True:\n",
    "        if valor < 0:\n",
    "            valor = float(input('Digite um valor valido: '))\n",
    "        else:\n",
    "            break\n",
    "    soma_valor += valor\n",
    "    print(f'{produto:} ---- R${valor:.2f}')\n",
    "    \n",
    "    if valor > 1000:\n",
    "        cont_prod+=1\n",
    "    if valor < prod_barato:\n",
    "        prod_barato = valor\n",
    "        prod_nome = produto\n",
    "\n",
    "    continuar = input('Deseja continuar?[S/N] ').upper()[0]\n",
    "    if continuar == 'N':\n",
    "        break\n",
    "print('='*40)\n",
    "print(f'O valor total da compra foi R${soma_valor:.2f}')\n",
    "print(f'{cont_prod} produtos custam mais de R$1000.00')\n",
    "print(f'O produto mais barato é {prod_nome} e custa R${prod_barato:.2f}')\n",
    "print('Fim')"
   ]
  }
 ],
 "metadata": {
  "kernelspec": {
   "display_name": "Python 3",
   "language": "python",
   "name": "python3"
  },
  "language_info": {
   "codemirror_mode": {
    "name": "ipython",
    "version": 3
   },
   "file_extension": ".py",
   "mimetype": "text/x-python",
   "name": "python",
   "nbconvert_exporter": "python",
   "pygments_lexer": "ipython3",
   "version": "3.12.5"
  }
 },
 "nbformat": 4,
 "nbformat_minor": 2
}
