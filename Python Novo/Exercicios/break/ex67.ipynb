{
 "cells": [
  {
   "cell_type": "markdown",
   "metadata": {},
   "source": [
    "#### **67** - Faça um programa que mostre a tabuada de varios numeros, um de cada vez, pra cada valor digitado pelo usuario.O programa sera interrompido quando o numero solicitado for negativo."
   ]
  },
  {
   "cell_type": "code",
   "execution_count": 5,
   "metadata": {},
   "outputs": [
    {
     "name": "stdout",
     "output_type": "stream",
     "text": [
      "==============================\n",
      "   Vamos gerar uma Tabuada    \n",
      "==============================\n",
      "     41   x   1   =   41      \n",
      "     41   x   2   =   82      \n",
      "     41   x   3   =   123     \n",
      "     41   x   4   =   164     \n",
      "     41   x   5   =   205     \n",
      "     41   x   6   =   246     \n",
      "     41   x   7   =   287     \n",
      "     41   x   8   =   328     \n",
      "     41   x   9   =   369     \n",
      "    41   x   10   =   410     \n",
      "==============================\n",
      "     50   x   1   =   50      \n",
      "     50   x   2   =   100     \n",
      "     50   x   3   =   150     \n",
      "     50   x   4   =   200     \n",
      "     50   x   5   =   250     \n",
      "     50   x   6   =   300     \n",
      "     50   x   7   =   350     \n",
      "     50   x   8   =   400     \n",
      "     50   x   9   =   450     \n",
      "    50   x   10   =   500     \n",
      "==============================\n"
     ]
    }
   ],
   "source": [
    "print('='*30)\n",
    "print('Vamos gerar uma Tabuada'.center(30))\n",
    "print('='*30)\n",
    "num = 0\n",
    "while True:  \n",
    "    cont = 1\n",
    "    num = int(input('Digite um numero: '))\n",
    "    if num < 0:\n",
    "        break\n",
    "    while cont <=10:\n",
    "        print(f'{num}   x   {cont}   =   {num*cont}'.center(30))\n",
    "        cont+=1\n",
    "    print('='*30)\n",
    "        \n",
    "\n"
   ]
  }
 ],
 "metadata": {
  "kernelspec": {
   "display_name": "Python 3",
   "language": "python",
   "name": "python3"
  },
  "language_info": {
   "codemirror_mode": {
    "name": "ipython",
    "version": 3
   },
   "file_extension": ".py",
   "mimetype": "text/x-python",
   "name": "python",
   "nbconvert_exporter": "python",
   "pygments_lexer": "ipython3",
   "version": "3.12.5"
  }
 },
 "nbformat": 4,
 "nbformat_minor": 2
}
