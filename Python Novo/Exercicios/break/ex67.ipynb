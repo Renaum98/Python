{
 "cells": [
  {
   "cell_type": "markdown",
   "metadata": {},
   "source": [
    "#### **67** - Faça um programa que mostre a tabuada de vatios numeros, um de cada vez, pra cada valor digitado pelo usuario.Oprograma sera interrompido quando o numero solicitado for negativo."
   ]
  }
 ],
 "metadata": {
  "language_info": {
   "name": "python"
  }
 },
 "nbformat": 4,
 "nbformat_minor": 2
}
