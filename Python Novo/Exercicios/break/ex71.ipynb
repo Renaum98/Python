{
 "cells": [
  {
   "cell_type": "markdown",
   "metadata": {},
   "source": [
    "#### **71** - Crie um programa que simule o funcionamento de um caixa eletronico.No inicio pergunte ao usuario qual sera o valor a ser sacado(numero inteiro) e o programa vai informar quantas cédulas de cada valor serão entregues.\n",
    "\n",
    "obs: Considere que o caixa possui cédulas de R$50, R$20, R$10 e R$1"
   ]
  }
 ],
 "metadata": {
  "language_info": {
   "name": "python"
  }
 },
 "nbformat": 4,
 "nbformat_minor": 2
}
