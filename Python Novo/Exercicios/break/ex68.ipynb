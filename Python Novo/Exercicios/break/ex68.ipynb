{
 "cells": [
  {
   "cell_type": "markdown",
   "metadata": {},
   "source": [
    "#### **68** - Faça um programa que jogue par ou impar com o computador.O jogo sera interrompido quando o jogador perder, mostrando o total de vitorias consecutivas que ele consquitou no final do jogo."
   ]
  },
  {
   "cell_type": "code",
   "execution_count": 2,
   "metadata": {},
   "outputs": [
    {
     "ename": "NameError",
     "evalue": "name 'Par' is not defined",
     "output_type": "error",
     "traceback": [
      "\u001b[1;31m---------------------------------------------------------------------------\u001b[0m",
      "\u001b[1;31mNameError\u001b[0m                                 Traceback (most recent call last)",
      "Cell \u001b[1;32mIn[2], line 2\u001b[0m\n\u001b[0;32m      1\u001b[0m \u001b[38;5;28;01mimport\u001b[39;00m \u001b[38;5;21;01mrandom\u001b[39;00m\n\u001b[1;32m----> 2\u001b[0m comp1 \u001b[38;5;241m=\u001b[39m random\u001b[38;5;241m.\u001b[39mchoices(\u001b[43mPar\u001b[49m,Impar)\n\u001b[0;32m      3\u001b[0m \u001b[38;5;28mprint\u001b[39m(comp1)\n\u001b[0;32m      4\u001b[0m \u001b[38;5;66;03m#cont = \u001b[39;00m\n\u001b[0;32m      5\u001b[0m \u001b[38;5;66;03m#num = \u001b[39;00m\n",
      "\u001b[1;31mNameError\u001b[0m: name 'Par' is not defined"
     ]
    }
   ],
   "source": [
    "import random\n",
    "comp1 = random.choices(Par,Impar)\n",
    "print(comp1)\n",
    "#cont = \n",
    "#num = "
   ]
  }
 ],
 "metadata": {
  "kernelspec": {
   "display_name": "Python 3",
   "language": "python",
   "name": "python3"
  },
  "language_info": {
   "codemirror_mode": {
    "name": "ipython",
    "version": 3
   },
   "file_extension": ".py",
   "mimetype": "text/x-python",
   "name": "python",
   "nbconvert_exporter": "python",
   "pygments_lexer": "ipython3",
   "version": "3.12.5"
  }
 },
 "nbformat": 4,
 "nbformat_minor": 2
}
