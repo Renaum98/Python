{
 "cells": [
  {
   "cell_type": "markdown",
   "metadata": {},
   "source": [
    "#### **68** - Faça um programa que jogue par ou impar com o computador.O jogo sera interrompido quando o jogador perder, mostrando o total de vitorias consecutivas que ele consquitou no final do jogo."
   ]
  }
 ],
 "metadata": {
  "language_info": {
   "name": "python"
  }
 },
 "nbformat": 4,
 "nbformat_minor": 2
}
