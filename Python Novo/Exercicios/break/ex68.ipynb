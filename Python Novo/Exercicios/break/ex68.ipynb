{
 "cells": [
  {
   "cell_type": "markdown",
   "metadata": {},
   "source": [
    "#### **68** - Faça um programa que jogue par ou impar com o computador.O jogo sera interrompido quando o jogador perder, mostrando o total de vitorias consecutivas que ele consquitou no final do jogo."
   ]
  },
  {
   "cell_type": "code",
   "execution_count": 2,
   "metadata": {},
   "outputs": [
    {
     "name": "stdout",
     "output_type": "stream",
     "text": [
      "------------------------------\n",
      "Jogue Par ou Impar comigo\n",
      "------------------------------\n",
      "O numero é 15\n",
      "Eu escolhi PAR e você IMPAR\n",
      "Você VENCEU a rodada 🥳\n",
      "------------------------------\n",
      "O numero é 10\n",
      "Eu escolhi IMPAR e você PAR\n",
      "Você VENCEU a rodada 🥳\n",
      "------------------------------\n",
      "O numero é 10\n",
      "Eu escolhi PAR e você IMPAR\n",
      "Você PERDEU a rodada ☹️\n",
      "------------------------------\n",
      "______________________________\n",
      "Fim de jogo, você obteve 2 vitorias seguidas\n"
     ]
    }
   ],
   "source": [
    "import random\n",
    "lista = ['PAR','IMPAR']\n",
    "cont = 0\n",
    "\n",
    "print(\"-\"*30)\n",
    "print('Jogue Par ou Impar comigo')\n",
    "print(\"-\"*30)\n",
    "\n",
    "while True:\n",
    "    soma = 0\n",
    "    comp1 = random.randint(1,10)\n",
    "    comp2 = random.choice(lista)\n",
    "    num = int(input('Digite um numero de 1 a 10: '))\n",
    "    while num <1 or num > 10:\n",
    "        num = int(input('Digite um numero de 1 a 10: '))\n",
    "    choice = (input('Você quer PAR ou IMPAR?: ')).upper()\n",
    "    while choice not in lista:\n",
    "        print('Digite PAR ou IMPAR: ')\n",
    "        choice = input().upper()\n",
    "    soma = comp1 + num\n",
    "    print(f'O numero é {soma}')\n",
    "    if choice == comp2:\n",
    "        print(f'Eu escolhi {comp2} e você {choice}')\n",
    "        print('Rodada empatada')\n",
    "        print('-'*30)\n",
    "    else:\n",
    "        if soma % 2 == 0 and choice == 'PAR':\n",
    "            print(f'Eu escolhi {comp2} e você {choice}')\n",
    "            print('Você VENCEU a rodada 🥳')\n",
    "            cont+=1\n",
    "            print('-'*30)\n",
    "        elif soma % 2 != 0 and choice == 'IMPAR':\n",
    "            print(f'Eu escolhi {comp2} e você {choice}')\n",
    "            print('Você VENCEU a rodada 🥳')\n",
    "            cont+=1\n",
    "            print('-'*30)\n",
    "        else:\n",
    "            print(f'Eu escolhi {comp2} e você {choice}')\n",
    "            print('Você PERDEU a rodada ☹️')\n",
    "            print('-'*30)\n",
    "            break\n",
    "print(\"_\"*30)\n",
    "print(f'Fim de jogo, você obteve {cont} vitorias seguidas')\n"
   ]
  }
 ],
 "metadata": {
  "kernelspec": {
   "display_name": "Python 3",
   "language": "python",
   "name": "python3"
  },
  "language_info": {
   "codemirror_mode": {
    "name": "ipython",
    "version": 3
   },
   "file_extension": ".py",
   "mimetype": "text/x-python",
   "name": "python",
   "nbconvert_exporter": "python",
   "pygments_lexer": "ipython3",
   "version": "3.12.5"
  }
 },
 "nbformat": 4,
 "nbformat_minor": 2
}
