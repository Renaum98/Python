{
 "cells": [
  {
   "cell_type": "markdown",
   "metadata": {},
   "source": [
    "#### **68** - Faça um programa que jogue par ou impar com o computador.O jogo sera interrompido quando o jogador perder, mostrando o total de vitorias consecutivas que ele consquitou no final do jogo."
   ]
  },
  {
   "cell_type": "code",
   "execution_count": 70,
   "metadata": {},
   "outputs": [
    {
     "name": "stdout",
     "output_type": "stream",
     "text": [
      "------------------------------\n",
      "Jogue Par ou Impar comigo\n",
      "------------------------------\n",
      "Digite PAR ou IMPAR\n",
      "Digite PAR ou IMPAR\n",
      "Digite PAR ou IMPAR\n",
      "O numero é 13\n",
      "Eu escolhi PAR e você PAR\n",
      "Rodada empatada\n",
      "------------------------------\n"
     ]
    },
    {
     "ename": "ValueError",
     "evalue": "invalid literal for int() with base 10: ''",
     "output_type": "error",
     "traceback": [
      "\u001b[1;31m---------------------------------------------------------------------------\u001b[0m",
      "\u001b[1;31mValueError\u001b[0m                                Traceback (most recent call last)",
      "Cell \u001b[1;32mIn[70], line 13\u001b[0m\n\u001b[0;32m     11\u001b[0m comp1 \u001b[38;5;241m=\u001b[39m random\u001b[38;5;241m.\u001b[39mrandint(\u001b[38;5;241m1\u001b[39m,\u001b[38;5;241m10\u001b[39m)\n\u001b[0;32m     12\u001b[0m comp2 \u001b[38;5;241m=\u001b[39m random\u001b[38;5;241m.\u001b[39mchoice(lista)\n\u001b[1;32m---> 13\u001b[0m num \u001b[38;5;241m=\u001b[39m \u001b[38;5;28;43mint\u001b[39;49m\u001b[43m(\u001b[49m\u001b[38;5;28;43minput\u001b[39;49m\u001b[43m(\u001b[49m\u001b[38;5;124;43m'\u001b[39;49m\u001b[38;5;124;43mDigite um numero de 1 a 10\u001b[39;49m\u001b[38;5;124;43m'\u001b[39;49m\u001b[43m)\u001b[49m\u001b[43m)\u001b[49m\n\u001b[0;32m     14\u001b[0m \u001b[38;5;28;01mif\u001b[39;00m num \u001b[38;5;241m<\u001b[39m\u001b[38;5;241m0\u001b[39m \u001b[38;5;129;01mor\u001b[39;00m num \u001b[38;5;241m>\u001b[39m \u001b[38;5;241m10\u001b[39m:\n\u001b[0;32m     15\u001b[0m     \u001b[38;5;28mprint\u001b[39m(\u001b[38;5;124m'\u001b[39m\u001b[38;5;124mDigite um numero correto\u001b[39m\u001b[38;5;124m'\u001b[39m)\n",
      "\u001b[1;31mValueError\u001b[0m: invalid literal for int() with base 10: ''"
     ]
    }
   ],
   "source": [
    "import random\n",
    "lista = ['PAR','IMPAR']\n",
    "cont = 0\n",
    "\n",
    "print(\"-\"*30)\n",
    "print('Jogue Par ou Impar comigo')\n",
    "print(\"-\"*30)\n",
    "\n",
    "while True:\n",
    "    soma = 0\n",
    "    comp1 = random.randint(1,10)\n",
    "    comp2 = random.choice(lista)\n",
    "    num = int(input('Digite um numero de 1 a 10: '))\n",
    "    if num <0 or num > 10:\n",
    "        print('Digite um numero de 1 a 10: ')\n",
    "    else:\n",
    "        choice = str(input('Você quer PAR ou IMPAR?: ')).upper()\n",
    "        while True:\n",
    "            if choice in lista:\n",
    "                break\n",
    "            else:\n",
    "                print('Digite PAR ou IMPAR: ',end='')\n",
    "                choice = input().upper()\n",
    "        soma = comp1 + num\n",
    "        print(f'O numero é {soma}')\n",
    "        if choice == comp2:\n",
    "            print(f'Eu escolhi {comp2} e você {choice}')\n",
    "            print('Rodada empatada')\n",
    "            print('-'*30)\n",
    "        else:\n",
    "            if soma % 2 == 0 and choice == 'PAR':\n",
    "                print(f'Eu escolhi {comp2} e você {choice}')\n",
    "                print('Você VENCEU a rodada 🥳')\n",
    "                cont+=1\n",
    "                print('-'*30)\n",
    "            elif soma % 2 != 0 and choice == 'IMPAR':\n",
    "                print(f'Eu escolhi {comp2} e você {choice}')\n",
    "                print('Você VENCEU a rodada 🥳')\n",
    "                cont+=1\n",
    "                print('-'*30)\n",
    "            else:\n",
    "                print(f'Eu escolhi {comp2} e você {choice}')\n",
    "                print('Você PERDEU a rodada ☹️')\n",
    "                print('-'*30)\n",
    "                break\n",
    "print(\"_\"*30)\n",
    "print(f'Fim de jogo, você obteve {cont} vitorias seguidas')\n"
   ]
  }
 ],
 "metadata": {
  "kernelspec": {
   "display_name": "Python 3",
   "language": "python",
   "name": "python3"
  },
  "language_info": {
   "codemirror_mode": {
    "name": "ipython",
    "version": 3
   },
   "file_extension": ".py",
   "mimetype": "text/x-python",
   "name": "python",
   "nbconvert_exporter": "python",
   "pygments_lexer": "ipython3",
   "version": "3.12.5"
  }
 },
 "nbformat": 4,
 "nbformat_minor": 2
}
