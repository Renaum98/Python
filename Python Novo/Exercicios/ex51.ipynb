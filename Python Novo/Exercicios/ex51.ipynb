{
 "cells": [
  {
   "cell_type": "markdown",
   "metadata": {},
   "source": [
    "### **51** - Desenvova um programa que leia o primeiro termo e a razão de uma PA. No final mostre os 10 primeiros termos dessa progressão."
   ]
  },
  {
   "cell_type": "code",
   "execution_count": 1,
   "metadata": {},
   "outputs": [
    {
     "name": "stdout",
     "output_type": "stream",
     "text": [
      "0\n",
      "2\n",
      "4\n",
      "6\n",
      "8\n",
      "10\n",
      "12\n",
      "14\n",
      "16\n",
      "18\n"
     ]
    }
   ],
   "source": [
    "# Solicitar o primeiro termo e a razão da PA\n",
    "a1 = int(input(\"Digite o primeiro termo da PA: \"))\n",
    "r = int(input(\"Digite a razão da PA: \"))\n",
    "\n",
    "# Exibir os 10 primeiros termos da PA\n",
    "for n in range(10):\n",
    "    an = a1 + n * r  # Fórmula do n-ésimo termo da PA\n",
    "    print(an)\n"
   ]
  }
 ],
 "metadata": {
  "kernelspec": {
   "display_name": "Python 3",
   "language": "python",
   "name": "python3"
  },
  "language_info": {
   "codemirror_mode": {
    "name": "ipython",
    "version": 3
   },
   "file_extension": ".py",
   "mimetype": "text/x-python",
   "name": "python",
   "nbconvert_exporter": "python",
   "pygments_lexer": "ipython3",
   "version": "3.12.5"
  }
 },
 "nbformat": 4,
 "nbformat_minor": 2
}
