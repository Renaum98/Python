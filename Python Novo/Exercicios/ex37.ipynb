{
 "cells": [
  {
   "cell_type": "markdown",
   "metadata": {},
   "source": [
    "37 - Escreva um programa que leia um numero inteiro qualquer e peça para o usuario escolher qual sera a base de conversão:\n",
    "\n",
    "1 para binario\n",
    "\n",
    "2 para octal\n",
    "\n",
    "3 para hexadecimal"
   ]
  },
  {
   "cell_type": "code",
   "execution_count": 14,
   "metadata": {},
   "outputs": [
    {
     "name": "stdout",
     "output_type": "stream",
     "text": [
      "Escreva um numero para que possa ser convertido\n",
      "1 - para Binário\n",
      "2 - para Octal\n",
      "3 - para Hexadecimal\n",
      "Processando dados...\n",
      "O Numero convertido para Octal: 12\n"
     ]
    }
   ],
   "source": [
    "import time\n",
    "print('Escreva um numero para que possa ser convertido')\n",
    "print('1 - para Binário')\n",
    "print('2 - para Octal')\n",
    "print('3 - para Hexadecimal')\n",
    "\n",
    "num = int(input('Digite um numero inteiro: '))\n",
    "conv = int(input('Digite a opção para converção: '))\n",
    "\n",
    "print('Processando dados...')\n",
    "time.sleep(2)\n",
    "\n",
    "if conv == 1:\n",
    "    num = bin(num)[2:]\n",
    "    print('O Numero convertido para Binario: {}'.format(num))\n",
    "elif conv == 2:\n",
    "    num = oct(num)[2:]\n",
    "    print('O Numero convertido para Octal: {}'.format(num))\n",
    "elif conv == 3:\n",
    "    num = hex(num)[2:].upper()\n",
    "    print('O Numero convertido para Hexadecimal: {}'.format(num))\n",
    "else:\n",
    "    print('Você não digitou um numero valido de conversor, tente novamente')"
   ]
  }
 ],
 "metadata": {
  "kernelspec": {
   "display_name": "Python 3",
   "language": "python",
   "name": "python3"
  },
  "language_info": {
   "codemirror_mode": {
    "name": "ipython",
    "version": 3
   },
   "file_extension": ".py",
   "mimetype": "text/x-python",
   "name": "python",
   "nbconvert_exporter": "python",
   "pygments_lexer": "ipython3",
   "version": "3.11.9"
  }
 },
 "nbformat": 4,
 "nbformat_minor": 2
}
