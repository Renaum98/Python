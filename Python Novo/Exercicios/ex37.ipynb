{
 "cells": [
  {
   "cell_type": "markdown",
   "metadata": {},
   "source": [
    "37 - Escreva um programa que leia um numero inteiro qualquer e peça para o usuario escolher qual sera a base de conversão:\n",
    "\n",
    "1 para binario\n",
    "\n",
    "2 para octal\n",
    "\n",
    "3 para hexadecimal"
   ]
  }
 ],
 "metadata": {
  "language_info": {
   "name": "python"
  }
 },
 "nbformat": 4,
 "nbformat_minor": 2
}
