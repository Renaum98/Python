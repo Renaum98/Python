{
 "cells": [
  {
   "cell_type": "markdown",
   "metadata": {},
   "source": [
    "Usando cores no terminal\n",
    "sintaxe: \n",
    "\\033[style;text;backm"
   ]
  },
  {
   "cell_type": "markdown",
   "metadata": {},
   "source": [
    "style = \n",
    "0 none\n",
    "1 bold\n",
    "4 underline\n",
    "7 negativa"
   ]
  },
  {
   "cell_type": "markdown",
   "metadata": {},
   "source": [
    "text =\n",
    "30 white\n",
    "31 red\n",
    "32 green\n",
    "33 yellow\n",
    "34 blue\n",
    "35 purple\n",
    "36 light blue\n",
    "37 grey"
   ]
  },
  {
   "cell_type": "markdown",
   "metadata": {},
   "source": [
    "back =\n",
    "40 white\n",
    "41 red\n",
    "42 green\n",
    "43 yellow\n",
    "44 blue\n",
    "45 purple\n",
    "46 light blue\n",
    "47 grey"
   ]
  },
  {
   "cell_type": "code",
   "execution_count": 1,
   "metadata": {},
   "outputs": [
    {
     "name": "stdout",
     "output_type": "stream",
     "text": [
      "\u001b[0;30;41mOlá Mundo\u001b[m\n"
     ]
    }
   ],
   "source": [
    "print('\\033[0;30;41mOlá Mundo\\033[m')"
   ]
  },
  {
   "cell_type": "code",
   "execution_count": 2,
   "metadata": {},
   "outputs": [
    {
     "name": "stdout",
     "output_type": "stream",
     "text": [
      "\u001b[0;33;45mOlá Mundo\u001b[m\n"
     ]
    }
   ],
   "source": [
    "print('\\033[0;33;45mOlá Mundo\\033[m')"
   ]
  }
 ],
 "metadata": {
  "kernelspec": {
   "display_name": "Python 3",
   "language": "python",
   "name": "python3"
  },
  "language_info": {
   "codemirror_mode": {
    "name": "ipython",
    "version": 3
   },
   "file_extension": ".py",
   "mimetype": "text/x-python",
   "name": "python",
   "nbconvert_exporter": "python",
   "pygments_lexer": "ipython3",
   "version": "3.12.5"
  }
 },
 "nbformat": 4,
 "nbformat_minor": 2
}
