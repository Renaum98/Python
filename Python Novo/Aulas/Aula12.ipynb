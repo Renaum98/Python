{
 "cells": [
  {
   "cell_type": "markdown",
   "metadata": {},
   "source": [
    "### **CONDIÇÕES ANINHADAS**"
   ]
  },
  {
   "cell_type": "markdown",
   "metadata": {},
   "source": [
    "Se chama aninhadas pois se encontram em formato de ninho\n"
   ]
  },
  {
   "cell_type": "markdown",
   "metadata": {},
   "source": [
    "if - elif - else\n",
    "se - senão se- senão\n"
   ]
  },
  {
   "cell_type": "code",
   "execution_count": null,
   "metadata": {},
   "outputs": [
    {
     "name": "stdout",
     "output_type": "stream",
     "text": [
      "Nome comum\n",
      "Tenha um bom dia Calos\n"
     ]
    }
   ],
   "source": [
    "nome = input('Qual é o seu nome? ').title()\n",
    "\n",
    "if nome == 'Gustavo':\n",
    "    print('Otimo') # esse print só aparece quando a condição 'if' for verdadeira, nesse caso o print esta aninhado e pertencendo a condição\n",
    "elif nome == 'Paulo' or nome == 'André' or nome == 'José':\n",
    "    print('Um nome bem comum no Brasil') \n",
    "else:\n",
    "    print('Nome comum')\n",
    "\n",
    "print('Tenha um bom dia {}'.format(nome))"
   ]
  }
 ],
 "metadata": {
  "kernelspec": {
   "display_name": "Python 3",
   "language": "python",
   "name": "python3"
  },
  "language_info": {
   "codemirror_mode": {
    "name": "ipython",
    "version": 3
   },
   "file_extension": ".py",
   "mimetype": "text/x-python",
   "name": "python",
   "nbconvert_exporter": "python",
   "pygments_lexer": "ipython3",
   "version": "3.12.5"
  }
 },
 "nbformat": 4,
 "nbformat_minor": 2
}
