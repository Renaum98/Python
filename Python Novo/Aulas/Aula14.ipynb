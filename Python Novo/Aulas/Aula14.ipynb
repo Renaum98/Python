{
 "cells": [
  {
   "cell_type": "markdown",
   "metadata": {},
   "source": [
    "### **Laços de repetição** (pt2)\n",
    "\n",
    "o  `while`(enquanto) pode ser usado para definir um caminho enquanto não chega em um objetivo exposto no codigo, mas indicado para situaçoes onde não se sabe o limite a chegar "
   ]
  },
  {
   "cell_type": "code",
   "execution_count": 14,
   "metadata": {},
   "outputs": [
    {
     "name": "stdout",
     "output_type": "stream",
     "text": [
      "0\n",
      "1\n",
      "2\n",
      "3\n",
      "4\n",
      "5\n",
      "6\n",
      "7\n",
      "8\n",
      "9\n",
      "10\n"
     ]
    }
   ],
   "source": [
    "n = 0\n",
    "while n <= 10:\n",
    "    print(n)\n",
    "    n = n+1 #ou n+=1\n",
    "print('Fim')\n"
   ]
  },
  {
   "cell_type": "code",
   "execution_count": 15,
   "metadata": {},
   "outputs": [
    {
     "name": "stdout",
     "output_type": "stream",
     "text": [
      "Voce acertou o numero\n"
     ]
    }
   ],
   "source": [
    "n=''\n",
    "while n != 5:\n",
    "    n = int(input('Digite um numero: '))\n",
    "print('Voce acertou o numero')"
   ]
  },
  {
   "cell_type": "markdown",
   "metadata": {},
   "source": [
    "Nesse exemplo ele entende que `while` r é igual a 'S', então ele ira pedir um novo numero somente interrompendo caso não seja S "
   ]
  },
  {
   "cell_type": "code",
   "execution_count": null,
   "metadata": {},
   "outputs": [
    {
     "name": "stdout",
     "output_type": "stream",
     "text": [
      "A soma dos numeros digitados é: 10\n",
      "fim\n"
     ]
    }
   ],
   "source": [
    "r = 'S'\n",
    "n = ''\n",
    "soma = 0\n",
    "while r =='S':\n",
    "    n = int(input('Digite um numero: '))\n",
    "    r = str(input('Deseja continuar? [S/N]: ')).upper()\n",
    "    soma=soma+n\n",
    "print('A soma dos numeros digitados é:{}'.format(soma))\n",
    "print('fim')\n"
   ]
  },
  {
   "cell_type": "code",
   "execution_count": 9,
   "metadata": {},
   "outputs": [
    {
     "name": "stdout",
     "output_type": "stream",
     "text": [
      "10\n",
      "45\n",
      "12\n",
      "32\n",
      "51\n",
      "41\n",
      "25\n",
      "41\n",
      "0\n",
      "Voce digitou 4 números pares e 5 números ímpares\n",
      "Acabou\n"
     ]
    }
   ],
   "source": [
    "n = 1\n",
    "par = impar = 0\n",
    "while n != 0:\n",
    "    n = int(input('Digite um valor:'))\n",
    "    print(n)\n",
    "    if n != 0:\n",
    "        if n % 2 == 0:\n",
    "            par = par + 1\n",
    "        else:\n",
    "            impar = impar + 1\n",
    "print('Voce digitou {} números pares e {} números ímpares'.format(par, impar))\n",
    "        \n",
    "\n",
    "print('Acabou')"
   ]
  }
 ],
 "metadata": {
  "kernelspec": {
   "display_name": "Python 3",
   "language": "python",
   "name": "python3"
  },
  "language_info": {
   "codemirror_mode": {
    "name": "ipython",
    "version": 3
   },
   "file_extension": ".py",
   "mimetype": "text/x-python",
   "name": "python",
   "nbconvert_exporter": "python",
   "pygments_lexer": "ipython3",
   "version": "3.12.5"
  }
 },
 "nbformat": 4,
 "nbformat_minor": 2
}
