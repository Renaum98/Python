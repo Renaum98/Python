{
 "cells": [
  {
   "cell_type": "markdown",
   "metadata": {},
   "source": [
    "### **Laços de repetição** (pt2)\n",
    "\n",
    "o  `while`(enquanto) pode ser usado para definir um caminho enquanto não chega em um objetivo exposto no codigo, mas indicado para situaçoes onde não se sabe o limite a chegar "
   ]
  },
  {
   "cell_type": "code",
   "execution_count": 14,
   "metadata": {},
   "outputs": [
    {
     "name": "stdout",
     "output_type": "stream",
     "text": [
      "0\n",
      "1\n",
      "2\n",
      "3\n",
      "4\n",
      "5\n",
      "6\n",
      "7\n",
      "8\n",
      "9\n",
      "10\n"
     ]
    }
   ],
   "source": [
    "n = 0\n",
    "while n <= 10:\n",
    "    print(n)\n",
    "    n = n+1 #ou n+=1\n",
    "print('Fim')\n"
   ]
  },
  {
   "cell_type": "code",
   "execution_count": 15,
   "metadata": {},
   "outputs": [
    {
     "name": "stdout",
     "output_type": "stream",
     "text": [
      "Voce acertou o numero\n"
     ]
    }
   ],
   "source": [
    "n=''\n",
    "while n != 5:\n",
    "    n = int(input('Digite um numero: '))\n",
    "print('Voce acertou o numero')"
   ]
  },
  {
   "cell_type": "code",
   "execution_count": null,
   "metadata": {},
   "outputs": [
    {
     "name": "stdout",
     "output_type": "stream",
     "text": [
      "A soma dos numeros digitados foi 0\n"
     ]
    }
   ],
   "source": [
    "r = 'S'\n",
    "n = ''\n",
    "while r =='S':\n",
    "    n = int(input('Digite um numero: '))\n",
    "    r = str(input('Deseja continuar? [S/N]: ')).upper()\n"
   ]
  }
 ],
 "metadata": {
  "kernelspec": {
   "display_name": "Python 3",
   "language": "python",
   "name": "python3"
  },
  "language_info": {
   "codemirror_mode": {
    "name": "ipython",
    "version": 3
   },
   "file_extension": ".py",
   "mimetype": "text/x-python",
   "name": "python",
   "nbconvert_exporter": "python",
   "pygments_lexer": "ipython3",
   "version": "3.12.5"
  }
 },
 "nbformat": 4,
 "nbformat_minor": 2
}
