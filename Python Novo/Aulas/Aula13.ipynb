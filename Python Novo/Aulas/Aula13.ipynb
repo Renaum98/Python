{
 "cells": [
  {
   "cell_type": "markdown",
   "metadata": {},
   "source": [
    "### **Laços de Repetição** (pt1)\n",
    "\n",
    "São estruturas de repetição que ajudam automatizando um processo que poderia ser mais complexo somente com um codigo\n",
    "\n",
    "exemplos:\n",
    "vamos imaginar que uma pessoa precise dar 10 passos para chegar no seu destino, isso em codigo ficaria"
   ]
  },
  {
   "cell_type": "code",
   "execution_count": 2,
   "metadata": {},
   "outputs": [
    {
     "name": "stdout",
     "output_type": "stream",
     "text": [
      "passo\n",
      "passo\n",
      "passo\n",
      "passo\n",
      "passo\n",
      "passo\n",
      "passo\n",
      "passo\n",
      "passo\n",
      "passo\n",
      "paro\n"
     ]
    }
   ],
   "source": [
    "for c in range(0,10):\n",
    "    print('passo')\n",
    "print('paro')"
   ]
  },
  {
   "cell_type": "markdown",
   "metadata": {},
   "source": [
    "**Exemplos**"
   ]
  },
  {
   "cell_type": "code",
   "execution_count": 14,
   "metadata": {},
   "outputs": [
    {
     "name": "stdout",
     "output_type": "stream",
     "text": [
      "0\n",
      "1\n",
      "2\n",
      "3\n",
      "4\n",
      "Fim\n"
     ]
    }
   ],
   "source": [
    "for c in range(0, 5):\n",
    "    print(c)\n",
    "print('Fim')"
   ]
  },
  {
   "cell_type": "markdown",
   "metadata": {},
   "source": [
    "**Contagem regressiva de 1 em 1**"
   ]
  },
  {
   "cell_type": "code",
   "execution_count": 13,
   "metadata": {},
   "outputs": [
    {
     "name": "stdout",
     "output_type": "stream",
     "text": [
      "6\n",
      "5\n",
      "4\n",
      "3\n",
      "2\n",
      "1\n",
      "Fim\n"
     ]
    }
   ],
   "source": [
    "for c in range(6, 0, -1):\n",
    "    print(c)\n",
    "print('Fim')"
   ]
  },
  {
   "cell_type": "markdown",
   "metadata": {},
   "source": [
    "**Adicionando um '+1' na variavel faz uma contagem até o numero digitado pois foi acrescentado o +1 para garantir**"
   ]
  },
  {
   "cell_type": "code",
   "execution_count": 19,
   "metadata": {},
   "outputs": [
    {
     "name": "stdout",
     "output_type": "stream",
     "text": [
      "0\n",
      "1\n",
      "2\n",
      "3\n",
      "Fim\n"
     ]
    }
   ],
   "source": [
    "import time\n",
    "n = int(input('Digite um numero: '))\n",
    "for c in range(0, n+1):\n",
    "    time.sleep(.5)\n",
    "    print(c)\n",
    "print('Fim')"
   ]
  },
  {
   "cell_type": "markdown",
   "metadata": {},
   "source": [
    "**Usando variaveis com o `for`**"
   ]
  },
  {
   "cell_type": "code",
   "execution_count": 20,
   "metadata": {},
   "outputs": [
    {
     "name": "stdout",
     "output_type": "stream",
     "text": [
      "0\n",
      "2\n",
      "4\n",
      "6\n",
      "8\n",
      "10\n",
      "12\n",
      "14\n",
      "Fim\n"
     ]
    }
   ],
   "source": [
    "i = int(input('Inicio:')) \n",
    "f = int(input('Fim: '))\n",
    "p = int(input('Passo: '))\n",
    "for c in range(i, f+1, p):\n",
    "    print(c)\n",
    "print('Fim')"
   ]
  },
  {
   "cell_type": "markdown",
   "metadata": {},
   "source": [
    "**Fazendo uma taboada**"
   ]
  },
  {
   "cell_type": "code",
   "execution_count": 3,
   "metadata": {},
   "outputs": [
    {
     "name": "stdout",
     "output_type": "stream",
     "text": [
      "3 x 1 = 3\n",
      "___________\n",
      "3 x 2 = 6\n",
      "___________\n",
      "3 x 3 = 9\n",
      "___________\n",
      "3 x 4 = 12\n",
      "___________\n",
      "3 x 5 = 15\n",
      "___________\n",
      "3 x 6 = 18\n",
      "___________\n",
      "3 x 7 = 21\n",
      "___________\n",
      "3 x 8 = 24\n",
      "___________\n",
      "3 x 9 = 27\n",
      "___________\n",
      "3 x 10 = 30\n",
      "___________\n",
      "Fim\n"
     ]
    }
   ],
   "source": [
    "n = int(input('Digite um número inteiro: '))\n",
    "for c in range(1, 11):\n",
    "    print('{} x {} = {}'.format(n, c, n * c))\n",
    "    print('_' * 11)\n",
    "print('Fim')\n",
    "\n"
   ]
  }
 ],
 "metadata": {
  "kernelspec": {
   "display_name": "Python 3",
   "language": "python",
   "name": "python3"
  },
  "language_info": {
   "codemirror_mode": {
    "name": "ipython",
    "version": 3
   },
   "file_extension": ".py",
   "mimetype": "text/x-python",
   "name": "python",
   "nbconvert_exporter": "python",
   "pygments_lexer": "ipython3",
   "version": "3.12.5"
  }
 },
 "nbformat": 4,
 "nbformat_minor": 2
}
