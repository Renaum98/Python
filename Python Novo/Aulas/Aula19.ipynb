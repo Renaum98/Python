{
 "cells": [
  {
   "cell_type": "markdown",
   "metadata": {},
   "source": [
    "### **Variaveis Compostas**(Dicionarios)\n",
    "\n",
    "Com dicionarios é possivel personalizar os indices e ter indices literais\n",
    "\n",
    "São identificados por `{}` chaves \n",
    "\n",
    "`dados = dict()` ou `dados = {}`\n",
    "\n",
    "`dados = {'nome':'Pedro','idade':25}`\n",
    "\n"
   ]
  },
  {
   "cell_type": "code",
   "execution_count": 12,
   "metadata": {},
   "outputs": [
    {
     "name": "stdout",
     "output_type": "stream",
     "text": [
      "Pedro\n",
      "25\n",
      "M\n",
      "{'nome': 'Pedro', 'sexo': 'M'}\n"
     ]
    }
   ],
   "source": [
    "dados = {'nome':'Pedro',\n",
    "         'idade':25}\n",
    "print(dados['nome'])\n",
    "print(dados['idade'])\n",
    "dados['sexo'] = 'M'\n",
    "print(dados['sexo'])\n",
    "del dados['idade']\n"
   ]
  },
  {
   "cell_type": "markdown",
   "metadata": {},
   "source": [
    "Para visualizar o conteudo de um dicionario use o `print(filme.values())` \n",
    "\n",
    "Para a parte das chaves `print(filme.keys())`\n",
    "\n",
    "Para ambos use o `print(filme.items())`"
   ]
  },
  {
   "cell_type": "code",
   "execution_count": 15,
   "metadata": {},
   "outputs": [
    {
     "name": "stdout",
     "output_type": "stream",
     "text": [
      "O titulo é Star Wars\n",
      "O ano é 1977\n",
      "O diretor é Geroge Lucas\n",
      "[{'titulo': 'Star Wars', 'ano': 1977, 'diretor': 'Geroge Lucas'}]\n"
     ]
    }
   ],
   "source": [
    "lista = []\n",
    "filme = {'titulo':'Star Wars',\n",
    "         'ano':1977,\n",
    "         'diretor':'Geroge Lucas'\n",
    "         }\n",
    "for k, v in filme.items():#k = key e v = valor\n",
    "    print(f'O {k} é {v}')\n",
    "lista.append(filme)\n",
    "print(lista)"
   ]
  }
 ],
 "metadata": {
  "kernelspec": {
   "display_name": "Python 3",
   "language": "python",
   "name": "python3"
  },
  "language_info": {
   "codemirror_mode": {
    "name": "ipython",
    "version": 3
   },
   "file_extension": ".py",
   "mimetype": "text/x-python",
   "name": "python",
   "nbconvert_exporter": "python",
   "pygments_lexer": "ipython3",
   "version": "3.12.5"
  }
 },
 "nbformat": 4,
 "nbformat_minor": 2
}
