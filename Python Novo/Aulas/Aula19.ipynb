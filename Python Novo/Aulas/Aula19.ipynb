{
 "cells": [
  {
   "cell_type": "markdown",
   "metadata": {},
   "source": [
    "### **Variaveis Compostas**(Dicionarios)\n",
    "\n",
    "Com dicionarios é possivel personalizar os indices e ter indices literais\n",
    "\n",
    "São identificados por `{}` chaves \n",
    "\n",
    "`dados = dict()` ou `dados = {}`\n",
    "\n",
    "`dados = {'nome':'Pedro','idade':25}`\n",
    "\n"
   ]
  },
  {
   "cell_type": "code",
   "execution_count": 12,
   "metadata": {},
   "outputs": [
    {
     "name": "stdout",
     "output_type": "stream",
     "text": [
      "Pedro\n",
      "25\n",
      "M\n",
      "{'nome': 'Pedro', 'sexo': 'M'}\n"
     ]
    }
   ],
   "source": [
    "dados = {'nome':'Pedro',\n",
    "         'idade':25}\n",
    "print(dados['nome'])\n",
    "print(dados['idade'])\n",
    "dados['sexo'] = 'M'\n",
    "print(dados['sexo'])\n",
    "del dados['idade']\n"
   ]
  },
  {
   "cell_type": "markdown",
   "metadata": {},
   "source": [
    "Para visualizar o conteudo de um dicionario use o `print(filme.values())` \n",
    "\n",
    "Para a parte das chaves `print(filme.keys())`\n",
    "\n",
    "Para ambos use o `print(filme.items())`"
   ]
  },
  {
   "cell_type": "code",
   "execution_count": 15,
   "metadata": {},
   "outputs": [
    {
     "name": "stdout",
     "output_type": "stream",
     "text": [
      "O titulo é Star Wars\n",
      "O ano é 1977\n",
      "O diretor é Geroge Lucas\n",
      "[{'titulo': 'Star Wars', 'ano': 1977, 'diretor': 'Geroge Lucas'}]\n"
     ]
    }
   ],
   "source": [
    "lista = []\n",
    "filme = {'titulo':'Star Wars',\n",
    "         'ano':1977,\n",
    "         'diretor':'Geroge Lucas'\n",
    "         }\n",
    "for k, v in filme.items():#k = key e v = valor\n",
    "    print(f'O {k} é {v}')\n",
    "lista.append(filme)\n",
    "print(lista)"
   ]
  },
  {
   "cell_type": "code",
   "execution_count": 9,
   "metadata": {},
   "outputs": [
    {
     "name": "stdout",
     "output_type": "stream",
     "text": [
      "dict_keys(['nome', 'sexo', 'idade'])\n",
      "dict_values(['Gustavo', 'M', 22])\n",
      "dict_items([('nome', 'Gustavo'), ('sexo', 'M'), ('idade', 22)])\n"
     ]
    }
   ],
   "source": [
    "pessoas = {'nome':'Gustavo', 'sexo':'M', 'idade':22}\n",
    "print(pessoas.keys())\n",
    "print(pessoas.values())\n",
    "print(pessoas.items())"
   ]
  },
  {
   "cell_type": "code",
   "execution_count": 14,
   "metadata": {},
   "outputs": [
    {
     "name": "stdout",
     "output_type": "stream",
     "text": [
      "nome = Leandro\n",
      "sexo = M\n",
      "idade = 22\n",
      "peso = 99\n"
     ]
    }
   ],
   "source": [
    "pessoas = {'nome':'Gustavo', 'sexo':'M', 'idade':22}\n",
    "pessoas['nome'] = 'Leandro'\n",
    "pessoas['peso'] = 99\n",
    "for k, v in pessoas.items():\n",
    "    print(f'{k} = {v}')"
   ]
  },
  {
   "cell_type": "code",
   "execution_count": 17,
   "metadata": {},
   "outputs": [
    {
     "name": "stdout",
     "output_type": "stream",
     "text": [
      "Rio de Janeiro\n"
     ]
    }
   ],
   "source": [
    "estado1 = {'uf':'Rio de Janeiro', 'sigla':'RJ'}\n",
    "estado2 = {'uf':'São Paulo', 'sigla':'SP'}\n",
    "brasil = list()\n",
    "\n",
    "brasil.append(estado1)\n",
    "brasil.append(estado2)\n",
    "print(brasil[0]['uf'])"
   ]
  },
  {
   "cell_type": "code",
   "execution_count": 26,
   "metadata": {},
   "outputs": [
    {
     "name": "stdout",
     "output_type": "stream",
     "text": [
      "[{'uf': 'Sao Paulo', 'sigla': 'SP'}, {'uf': 'Rio De Janeiro', 'sigla': 'RJ'}, {'uf': 'Acre', 'sigla': 'AC'}]\n",
      "O campo uf tem valor Sao Paulo\n",
      "O campo sigla tem valor SP\n",
      "O campo uf tem valor Rio De Janeiro\n",
      "O campo sigla tem valor RJ\n",
      "O campo uf tem valor Acre\n",
      "O campo sigla tem valor AC\n"
     ]
    }
   ],
   "source": [
    "estado = dict()\n",
    "brasil = list()\n",
    "for c in range(0,3):\n",
    "    estado['uf'] = str(input('UF: ').title())\n",
    "    estado['sigla'] = str(input('Sigla: ').upper())\n",
    "    brasil.append(estado.copy())\n",
    "print(brasil)\n",
    "for e in brasil:# laço da lista\n",
    "    for k, v in e.items():# laço do dicionario\n",
    "        print(f'O campo {k} tem valor {v}')"
   ]
  }
 ],
 "metadata": {
  "kernelspec": {
   "display_name": "Python 3",
   "language": "python",
   "name": "python3"
  },
  "language_info": {
   "codemirror_mode": {
    "name": "ipython",
    "version": 3
   },
   "file_extension": ".py",
   "mimetype": "text/x-python",
   "name": "python",
   "nbconvert_exporter": "python",
   "pygments_lexer": "ipython3",
   "version": "3.12.5"
  }
 },
 "nbformat": 4,
 "nbformat_minor": 2
}
