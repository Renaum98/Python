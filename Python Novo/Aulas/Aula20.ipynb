{
 "cells": [
  {
   "cell_type": "markdown",
   "metadata": {},
   "source": [
    "### **Função**(pt1)\n",
    "\n",
    "é usado o `Def` para definir uma função que é como uma rotina no python\n",
    "\n",
    "Sendo assim coisas que acontecem constantemente no python o ideal é usar funções "
   ]
  },
  {
   "cell_type": "code",
   "execution_count": 52,
   "metadata": {},
   "outputs": [
    {
     "name": "stdout",
     "output_type": "stream",
     "text": [
      "------------------------------\n",
      "      Sistema de Alunos       \n",
      "------------------------------\n",
      "   Cadastro de Funcionarios   \n",
      "------------------------------\n",
      "       Erro do Sistema        \n",
      "------------------------------\n"
     ]
    }
   ],
   "source": [
    "def mostraLinha():\n",
    "    print('-'*30)\n",
    "\n",
    "\n",
    "mostraLinha()\n",
    "print(f'{\"Sistema de Alunos\":^30}')\n",
    "mostraLinha()\n",
    "print(f'{\"Cadastro de Funcionarios\":^30}')\n",
    "mostraLinha()\n",
    "print(f'{\"Erro do Sistema\":^30}')\n",
    "mostraLinha()\n"
   ]
  },
  {
   "cell_type": "markdown",
   "metadata": {},
   "source": [
    "É usado o `txt` no parametro para definir um texto ou conteudo da função"
   ]
  },
  {
   "cell_type": "code",
   "execution_count": 53,
   "metadata": {},
   "outputs": [
    {
     "name": "stdout",
     "output_type": "stream",
     "text": [
      "-----------------\n",
      "Sistema de Alunos\n",
      "-----------------\n",
      "------------------------\n",
      "Cadastro de Funcionarios\n",
      "------------------------\n",
      "---------------\n",
      "Erro de Sistema\n",
      "---------------\n"
     ]
    }
   ],
   "source": [
    "def titulo(txt):\n",
    "    print('-'*len(txt))\n",
    "    print(f'{txt}')\n",
    "    print('-'*len(txt))\n",
    "\n",
    "titulo('Sistema de Alunos')  \n",
    "titulo('Cadastro de Funcionarios') \n",
    "titulo('Erro de Sistema') "
   ]
  },
  {
   "cell_type": "markdown",
   "metadata": {},
   "source": [
    "É possivel tambem fazer funções matematicas com função"
   ]
  },
  {
   "cell_type": "code",
   "execution_count": 54,
   "metadata": {},
   "outputs": [
    {
     "name": "stdout",
     "output_type": "stream",
     "text": [
      "A = 4 e B = 5\n",
      "A soma vale A + B = 9\n",
      "A = 8 e B = 9\n",
      "A soma vale A + B = 17\n",
      "A = 2 e B = 1\n",
      "A soma vale A + B = 3\n"
     ]
    }
   ],
   "source": [
    "def soma(a, b):\n",
    "    print(f'A = {a} e B = {b}')\n",
    "    s = a + b\n",
    "    print(f'A soma vale A + B = {s}')\n",
    "\n",
    "#programa principal\n",
    "soma(a=4, b=5)\n",
    "soma(8, 9)\n",
    "soma(2, 1)"
   ]
  },
  {
   "cell_type": "code",
   "execution_count": 55,
   "metadata": {},
   "outputs": [
    {
     "name": "stdout",
     "output_type": "stream",
     "text": [
      "O numero é par\n"
     ]
    }
   ],
   "source": [
    "def par(a):\n",
    "    s = a % 2\n",
    "    if s == 0:\n",
    "        print(f'O numero é par')\n",
    "par(6)"
   ]
  },
  {
   "cell_type": "code",
   "execution_count": 56,
   "metadata": {},
   "outputs": [
    {
     "name": "stdout",
     "output_type": "stream",
     "text": [
      " 5  7  3  1  4 Fim!\n",
      " 8  4  7 Fim!\n",
      " 4  5  6  7 Fim!\n"
     ]
    }
   ],
   "source": [
    "def contador(* num):\n",
    "    for valor in num:\n",
    "        print(f' {valor} ',end='')\n",
    "    print('Fim!')\n",
    "\n",
    "contador(5,7,3,1,4)\n",
    "contador(8,4,7)\n",
    "contador(4,5,6,7)"
   ]
  },
  {
   "cell_type": "markdown",
   "metadata": {},
   "source": [
    "o asteristico antes coloca os valores em uma tupla"
   ]
  },
  {
   "cell_type": "code",
   "execution_count": 58,
   "metadata": {},
   "outputs": [
    {
     "name": "stdout",
     "output_type": "stream",
     "text": [
      "(5, 7, 3, 1, 4) tem 5 numeros\n",
      "(8, 4, 7) tem 3 numeros\n",
      "(4, 5, 6, 7) tem 4 numeros\n"
     ]
    }
   ],
   "source": [
    "def contador(* num):\n",
    "    tam = len(num)\n",
    "    print(f'{num} tem {tam} numeros')\n",
    "\n",
    "contador(5,7,3,1,4)\n",
    "contador(8,4,7)\n",
    "contador(4,5,6,7)"
   ]
  },
  {
   "cell_type": "code",
   "execution_count": 67,
   "metadata": {},
   "outputs": [
    {
     "name": "stdout",
     "output_type": "stream",
     "text": [
      "[20, 6, 12, 2, 10]\n",
      "Somando os valores (1, 2, 3, 5, 7) temos 18\n",
      "Somando os valores (1, 2, 5, 7, 4, 3) temos 22\n"
     ]
    }
   ],
   "source": [
    "def dobra(lst):\n",
    "    pos = 0\n",
    "    while pos <len(lst):\n",
    "        lst[pos]*=2\n",
    "        pos+=1\n",
    "\n",
    "valores = [10, 3, 6, 1, 5]\n",
    "dobra(valores)\n",
    "print(valores)\n",
    "\n",
    "\n",
    "def soma(* val):\n",
    "    s = 0\n",
    "    for num in val:\n",
    "        s += num\n",
    "    print(f'Somando os valores {val} temos {s}')\n",
    "\n",
    "soma(1, 2, 3, 5, 7)\n",
    "soma(1, 2, 5, 7, 4, 3)"
   ]
  },
  {
   "cell_type": "markdown",
   "metadata": {},
   "source": [
    "**Exemplos de Docstring**\n",
    "\n",
    "Docstrings são documentações que podem ser criadas para descrever uma função ou atributo dentro de um programa.Ela não interfere no codigo final\n",
    "\n",
    "'''Essa é uma docstring'''"
   ]
  },
  {
   "cell_type": "code",
   "execution_count": 1,
   "metadata": {},
   "outputs": [
    {
     "name": "stdout",
     "output_type": "stream",
     "text": [
      "Help on function contador in module __main__:\n",
      "\n",
      "contador(i, f, p)\n",
      "    ->Faz uma contagem e mostra na tela\n",
      "    :param i: inicio da contagem\n",
      "    :param f: fim da contagem\n",
      "    :param p: passo da contagem\n",
      "    :return: sem retorno\n",
      "\n",
      "1 3 5 7 9 Fim\n"
     ]
    }
   ],
   "source": [
    "def contador(i, f, p):\n",
    "    '''\n",
    "    ->Faz uma contagem e mostra na tela\n",
    "    :param i: inicio da contagem\n",
    "    :param f: fim da contagem\n",
    "    :param p: passo da contagem\n",
    "    :return: sem retorno\n",
    "    '''\n",
    "    help(contador)\n",
    "    \n",
    "    c = i\n",
    "    while c <= f:\n",
    "        print(f'{c}',end=' ')\n",
    "        c+=p\n",
    "    print('Fim')\n",
    "contador(1, 10, 2)"
   ]
  },
  {
   "cell_type": "markdown",
   "metadata": {},
   "source": [
    "**Parametros Opcionais**\n",
    "\n",
    "Os parametros opcionais são usados quase como um `if` pois podem ser declarados valores no parametro e se caso não houver nenhum valor pra ele, ele ira jogar o valor que você definiu"
   ]
  },
  {
   "cell_type": "code",
   "execution_count": 3,
   "metadata": {},
   "outputs": [
    {
     "name": "stdout",
     "output_type": "stream",
     "text": [
      "13\n",
      "10\n",
      "0\n"
     ]
    }
   ],
   "source": [
    "def somar(a=0, b=0, c=0):\n",
    "    s = a + b + c\n",
    "    print(s)\n",
    "somar(2,5,6)\n",
    "somar(c=4,a=6)\n",
    "somar()\n",
    "\n"
   ]
  },
  {
   "cell_type": "markdown",
   "metadata": {},
   "source": [
    "**Escopo de Variaveis**\n",
    "\n"
   ]
  },
  {
   "cell_type": "code",
   "execution_count": 4,
   "metadata": {},
   "outputs": [
    {
     "name": "stdout",
     "output_type": "stream",
     "text": [
      "A dentro vale 1\n",
      "B dentro vale 7\n",
      "C dentro vale 2\n",
      "A fora vale 1\n"
     ]
    },
    {
     "ename": "NameError",
     "evalue": "name 'c' is not defined",
     "output_type": "error",
     "traceback": [
      "\u001b[1;31m---------------------------------------------------------------------------\u001b[0m",
      "\u001b[1;31mNameError\u001b[0m                                 Traceback (most recent call last)",
      "Cell \u001b[1;32mIn[4], line 13\u001b[0m\n\u001b[0;32m     11\u001b[0m teste(a)\n\u001b[0;32m     12\u001b[0m \u001b[38;5;28mprint\u001b[39m(\u001b[38;5;124mf\u001b[39m\u001b[38;5;124m'\u001b[39m\u001b[38;5;124mA fora vale \u001b[39m\u001b[38;5;132;01m{\u001b[39;00ma\u001b[38;5;132;01m}\u001b[39;00m\u001b[38;5;124m'\u001b[39m)\n\u001b[1;32m---> 13\u001b[0m \u001b[38;5;28mprint\u001b[39m(\u001b[38;5;124mf\u001b[39m\u001b[38;5;124m'\u001b[39m\u001b[38;5;132;01m{\u001b[39;00m\u001b[43mc\u001b[49m\u001b[38;5;132;01m}\u001b[39;00m\u001b[38;5;124m'\u001b[39m) \u001b[38;5;66;03m# aqui ira dar erro pois a variavel c soexiste dentro de def e por isso não pode ser mostrada fora\u001b[39;00m\n",
      "\u001b[1;31mNameError\u001b[0m: name 'c' is not defined"
     ]
    }
   ],
   "source": [
    "from random import randint\n",
    "def teste(b):\n",
    "    global a #usado pra definir o 'a' dentro do escopo como uma variavel global fora do escopo\n",
    "    a = 1\n",
    "    b += randint(1,10)\n",
    "    c = 2\n",
    "    print(f'A dentro vale {a}')\n",
    "    print(f'B dentro vale {b}')\n",
    "    print(f'C dentro vale {c}')\n",
    "a = 5\n",
    "teste(a)\n",
    "print(f'A fora vale {a}')\n",
    "print(f'{c}') # aqui ira dar erro pois a variavel c soexiste dentro de def e por isso não pode ser mostrada fora"
   ]
  },
  {
   "cell_type": "markdown",
   "metadata": {},
   "source": [
    "**Retorno de Valores**\n",
    "\n",
    "O return faz com que o valor que vc retornou volte para uma variavel que vc indicar a função"
   ]
  },
  {
   "cell_type": "code",
   "execution_count": 62,
   "metadata": {},
   "outputs": [
    {
     "name": "stdout",
     "output_type": "stream",
     "text": [
      "Meus calculos deram: 10, 4 e 10\n"
     ]
    }
   ],
   "source": [
    "def somar(a=0,b=0,c=0):\n",
    "    s = a+b+c\n",
    "    return s\n",
    "r1 = somar(3,2,5)\n",
    "r2 = somar(4)\n",
    "r3 = somar(3, 7)\n",
    "\n",
    "print(f'Meus calculos deram: {r1}, {r2} e {r3}')\n"
   ]
  },
  {
   "cell_type": "code",
   "execution_count": 9,
   "metadata": {},
   "outputs": [
    {
     "name": "stdout",
     "output_type": "stream",
     "text": [
      "O fatorial de 5 é igual a 120\n"
     ]
    }
   ],
   "source": [
    "def fatorial(num = 1):\n",
    "    f = 1\n",
    "    for c in range(num, 0, -1):\n",
    "        f *= c\n",
    "    return f \n",
    "n = int(input('Digite um numero: '))\n",
    "print(f'O fatorial de {n} é igual a {fatorial(n)}')\n"
   ]
  },
  {
   "cell_type": "code",
   "execution_count": 8,
   "metadata": {},
   "outputs": [
    {
     "name": "stdout",
     "output_type": "stream",
     "text": [
      "O valor da soma foi 80\n"
     ]
    }
   ],
   "source": [
    "def somar(a=0,b=0,c=0):\n",
    "    s = a + b + c\n",
    "    return s\n",
    "resultado = somar(10,60,10)\n",
    "print(f'O valor da soma foi {resultado}')"
   ]
  },
  {
   "cell_type": "code",
   "execution_count": 13,
   "metadata": {},
   "outputs": [
    {
     "name": "stdout",
     "output_type": "stream",
     "text": [
      "Não é par\n"
     ]
    }
   ],
   "source": [
    "def par(n=0):\n",
    "    if n % 2 == 0:\n",
    "        return True\n",
    "    else:\n",
    "        return False\n",
    "    \n",
    "num = int(input('Digite um numero: '))\n",
    "if par(num):\n",
    "    print('é par')\n",
    "else:\n",
    "    print('Não é par')\n"
   ]
  }
 ],
 "metadata": {
  "kernelspec": {
   "display_name": "Python 3",
   "language": "python",
   "name": "python3"
  },
  "language_info": {
   "codemirror_mode": {
    "name": "ipython",
    "version": 3
   },
   "file_extension": ".py",
   "mimetype": "text/x-python",
   "name": "python",
   "nbconvert_exporter": "python",
   "pygments_lexer": "ipython3",
   "version": "3.12.5"
  }
 },
 "nbformat": 4,
 "nbformat_minor": 2
}
