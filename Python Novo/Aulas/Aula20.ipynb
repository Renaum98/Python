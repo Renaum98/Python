{
 "cells": [
  {
   "cell_type": "markdown",
   "metadata": {},
   "source": [
    "### **Função**(pt1)\n",
    "\n",
    "é usado o `Def` para definir uma função que é como uma rotina no python\n",
    "\n",
    "Sendo assim coisas que acontecem constantemente no python o ideal é usar funções "
   ]
  },
  {
   "cell_type": "code",
   "execution_count": 52,
   "metadata": {},
   "outputs": [
    {
     "name": "stdout",
     "output_type": "stream",
     "text": [
      "------------------------------\n",
      "      Sistema de Alunos       \n",
      "------------------------------\n",
      "   Cadastro de Funcionarios   \n",
      "------------------------------\n",
      "       Erro do Sistema        \n",
      "------------------------------\n"
     ]
    }
   ],
   "source": [
    "def mostraLinha():\n",
    "    print('-'*30)\n",
    "\n",
    "\n",
    "mostraLinha()\n",
    "print(f'{\"Sistema de Alunos\":^30}')\n",
    "mostraLinha()\n",
    "print(f'{\"Cadastro de Funcionarios\":^30}')\n",
    "mostraLinha()\n",
    "print(f'{\"Erro do Sistema\":^30}')\n",
    "mostraLinha()\n"
   ]
  },
  {
   "cell_type": "markdown",
   "metadata": {},
   "source": [
    "É usado o `txt` no parametro para definir um texto ou conteudo da função"
   ]
  },
  {
   "cell_type": "code",
   "execution_count": 53,
   "metadata": {},
   "outputs": [
    {
     "name": "stdout",
     "output_type": "stream",
     "text": [
      "-----------------\n",
      "Sistema de Alunos\n",
      "-----------------\n",
      "------------------------\n",
      "Cadastro de Funcionarios\n",
      "------------------------\n",
      "---------------\n",
      "Erro de Sistema\n",
      "---------------\n"
     ]
    }
   ],
   "source": [
    "def titulo(txt):\n",
    "    print('-'*len(txt))\n",
    "    print(f'{txt}')\n",
    "    print('-'*len(txt))\n",
    "\n",
    "titulo('Sistema de Alunos')  \n",
    "titulo('Cadastro de Funcionarios') \n",
    "titulo('Erro de Sistema') "
   ]
  },
  {
   "cell_type": "markdown",
   "metadata": {},
   "source": [
    "É possivel tambem fazer funções matematicas com função"
   ]
  },
  {
   "cell_type": "code",
   "execution_count": 54,
   "metadata": {},
   "outputs": [
    {
     "name": "stdout",
     "output_type": "stream",
     "text": [
      "A = 4 e B = 5\n",
      "A soma vale A + B = 9\n",
      "A = 8 e B = 9\n",
      "A soma vale A + B = 17\n",
      "A = 2 e B = 1\n",
      "A soma vale A + B = 3\n"
     ]
    }
   ],
   "source": [
    "def soma(a, b):\n",
    "    print(f'A = {a} e B = {b}')\n",
    "    s = a + b\n",
    "    print(f'A soma vale A + B = {s}')\n",
    "\n",
    "#programa principal\n",
    "soma(a=4, b=5)\n",
    "soma(8, 9)\n",
    "soma(2, 1)"
   ]
  },
  {
   "cell_type": "code",
   "execution_count": 55,
   "metadata": {},
   "outputs": [
    {
     "name": "stdout",
     "output_type": "stream",
     "text": [
      "O numero é par\n"
     ]
    }
   ],
   "source": [
    "def par(a):\n",
    "    s = a % 2\n",
    "    if s == 0:\n",
    "        print(f'O numero é par')\n",
    "par(6)"
   ]
  },
  {
   "cell_type": "code",
   "execution_count": 56,
   "metadata": {},
   "outputs": [
    {
     "name": "stdout",
     "output_type": "stream",
     "text": [
      " 5  7  3  1  4 Fim!\n",
      " 8  4  7 Fim!\n",
      " 4  5  6  7 Fim!\n"
     ]
    }
   ],
   "source": [
    "def contador(* num):\n",
    "    for valor in num:\n",
    "        print(f' {valor} ',end='')\n",
    "    print('Fim!')\n",
    "\n",
    "contador(5,7,3,1,4)\n",
    "contador(8,4,7)\n",
    "contador(4,5,6,7)"
   ]
  },
  {
   "cell_type": "markdown",
   "metadata": {},
   "source": [
    "o asteristico antes coloca os valores em uma tupla"
   ]
  },
  {
   "cell_type": "code",
   "execution_count": 58,
   "metadata": {},
   "outputs": [
    {
     "name": "stdout",
     "output_type": "stream",
     "text": [
      "(5, 7, 3, 1, 4) tem 5 numeros\n",
      "(8, 4, 7) tem 3 numeros\n",
      "(4, 5, 6, 7) tem 4 numeros\n"
     ]
    }
   ],
   "source": [
    "def contador(* num):\n",
    "    tam = len(num)\n",
    "    print(f'{num} tem {tam} numeros')\n",
    "\n",
    "contador(5,7,3,1,4)\n",
    "contador(8,4,7)\n",
    "contador(4,5,6,7)"
   ]
  },
  {
   "cell_type": "code",
   "execution_count": 67,
   "metadata": {},
   "outputs": [
    {
     "name": "stdout",
     "output_type": "stream",
     "text": [
      "[20, 6, 12, 2, 10]\n",
      "Somando os valores (1, 2, 3, 5, 7) temos 18\n",
      "Somando os valores (1, 2, 5, 7, 4, 3) temos 22\n"
     ]
    }
   ],
   "source": [
    "def dobra(lst):\n",
    "    pos = 0\n",
    "    while pos <len(lst):\n",
    "        lst[pos]*=2\n",
    "        pos+=1\n",
    "\n",
    "valores = [10, 3, 6, 1, 5]\n",
    "dobra(valores)\n",
    "print(valores)\n",
    "\n",
    "\n",
    "def soma(* val):\n",
    "    s = 0\n",
    "    for num in val:\n",
    "        s += num\n",
    "    print(f'Somando os valores {val} temos {s}')\n",
    "\n",
    "soma(1, 2, 3, 5, 7)\n",
    "soma(1, 2, 5, 7, 4, 3)"
   ]
  }
 ],
 "metadata": {
  "kernelspec": {
   "display_name": "Python 3",
   "language": "python",
   "name": "python3"
  },
  "language_info": {
   "codemirror_mode": {
    "name": "ipython",
    "version": 3
   },
   "file_extension": ".py",
   "mimetype": "text/x-python",
   "name": "python",
   "nbconvert_exporter": "python",
   "pygments_lexer": "ipython3",
   "version": "3.12.5"
  }
 },
 "nbformat": 4,
 "nbformat_minor": 2
}
