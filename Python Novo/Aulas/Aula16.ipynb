{
 "cells": [
  {
   "cell_type": "markdown",
   "metadata": {},
   "source": [
    "### **Variaveis Compostas** (Tuplas)\n",
    "São variaveis que podem armazenar mais de um valor ao mesmo tempo\n",
    "\n",
    "Tipos de fatiamento:\n",
    "\n",
    "`lanche = '🍔🥤🍕🍮'`\n",
    "\n",
    "`print(lanche[0]) resultado = 🍔`\n",
    "\n",
    "`print(lanche[0:2]) resultado = 🍔🥤`\n",
    "\n",
    "`print(lanche[1:]) resultado = 🥤🍕🍮`\n",
    "\n",
    "`print(lanche[-1]) resultado = 🍮` \n",
    "Nesse caso começara a ler do ultimo pro primeiro ou da esquerda pra direita\n",
    "\n",
    "`len(lanche)`Ira mostrar o tamanho de caracteres de lanche\n",
    "\n",
    "### As Tuplas são imutaveis\n",
    "\n",
    "Não é possivel mudar o valor de uma tupla enquanto o programa estiver em execução.Ela sendo definida uma vez, ira ficar a mesma ate o fim.\n"
   ]
  },
  {
   "cell_type": "code",
   "execution_count": 1,
   "metadata": {},
   "outputs": [
    {
     "name": "stdout",
     "output_type": "stream",
     "text": [
      "Eu vou comer hamburguer na posição 0\n",
      "Eu vou comer suco na posição 1\n",
      "Eu vou comer pizza na posição 2\n",
      "Eu vou comer pudim na posição 3\n",
      "Eu vou comer hamburguer na posição 0\n",
      "Eu vou comer suco na posição 1\n",
      "Eu vou comer pizza na posição 2\n",
      "Eu vou comer pudim na posição 3\n"
     ]
    }
   ],
   "source": [
    "lanche = ('hamburguer', 'suco', 'pizza', 'pudim')\n",
    "#lanche[1] = 'Refrigerante' #ira dar um erro pois não é possivel mudar tuplas\n",
    "\n",
    "for cont in range(0,len(lanche)):\n",
    "    print(f'Eu vou comer {lanche[cont]} na posição {cont}')\n",
    "\n",
    "for pos, comida in enumerate(lanche):\n",
    "    print(f'Eu vou comer {comida} na posição {pos}')\n",
    "\n"
   ]
  },
  {
   "cell_type": "code",
   "execution_count": 32,
   "metadata": {},
   "outputs": [
    {
     "name": "stdout",
     "output_type": "stream",
     "text": [
      "['Batata', 'Bolo', 'Hamburguer', 'Refrigerante']\n"
     ]
    }
   ],
   "source": [
    "lanche = ('Batata', 'Hamburguer', 'Refrigerante', 'Bolo')\n",
    "\n",
    "print(sorted(lanche)) #metodo em ordem com sorted"
   ]
  },
  {
   "cell_type": "code",
   "execution_count": 50,
   "metadata": {},
   "outputs": [
    {
     "name": "stdout",
     "output_type": "stream",
     "text": [
      "(2, 5, 4, 5, 8, 1, 2)\n",
      "3\n"
     ]
    }
   ],
   "source": [
    "a = (2, 5, 4)\n",
    "b = (5, 8, 1, 2)\n",
    "c = a + b\n",
    "print(c)\n",
    "print(c.index(5, 3))#no caso do index se verifica primeiro qual valor a ser encontrado em c, depois a partir de qual posição deve procurar"
   ]
  },
  {
   "cell_type": "code",
   "execution_count": 54,
   "metadata": {},
   "outputs": [
    {
     "name": "stdout",
     "output_type": "stream",
     "text": [
      "Meu nome é Gustavo, tenho 39 anos, sou do sexo masculino e peso 99.88 quilos\n"
     ]
    }
   ],
   "source": [
    "pessoa = ('gustavo' , 39, 'masculino' , 99.88)\n",
    "nome = pessoa[0].title()\n",
    "idade = pessoa[1]\n",
    "sexo = pessoa[2]\n",
    "peso = pessoa[3]\n",
    "print(f'Meu nome é {nome}, tenho {idade} anos, sou do sexo {sexo} e peso {peso:.2f} quilos')"
   ]
  },
  {
   "cell_type": "code",
   "execution_count": 55,
   "metadata": {},
   "outputs": [
    {
     "ename": "NameError",
     "evalue": "name 'pessoa' is not defined",
     "output_type": "error",
     "traceback": [
      "\u001b[1;31m---------------------------------------------------------------------------\u001b[0m",
      "\u001b[1;31mNameError\u001b[0m                                 Traceback (most recent call last)",
      "Cell \u001b[1;32mIn[55], line 3\u001b[0m\n\u001b[0;32m      1\u001b[0m pessoa \u001b[38;5;241m=\u001b[39m (\u001b[38;5;124m'\u001b[39m\u001b[38;5;124mgustavo\u001b[39m\u001b[38;5;124m'\u001b[39m , \u001b[38;5;241m39\u001b[39m, \u001b[38;5;124m'\u001b[39m\u001b[38;5;124mmasculino\u001b[39m\u001b[38;5;124m'\u001b[39m , \u001b[38;5;241m99.88\u001b[39m)\n\u001b[0;32m      2\u001b[0m \u001b[38;5;28;01mdel\u001b[39;00m(pessoa)\n\u001b[1;32m----> 3\u001b[0m \u001b[38;5;28mprint\u001b[39m(\u001b[43mpessoa\u001b[49m)\n",
      "\u001b[1;31mNameError\u001b[0m: name 'pessoa' is not defined"
     ]
    }
   ],
   "source": [
    "pessoa = ('gustavo' , 39, 'masculino' , 99.88)\n",
    "del(pessoa)#del usado para apagar da memoria\n",
    "print(pessoa)"
   ]
  }
 ],
 "metadata": {
  "kernelspec": {
   "display_name": "Python 3",
   "language": "python",
   "name": "python3"
  },
  "language_info": {
   "codemirror_mode": {
    "name": "ipython",
    "version": 3
   },
   "file_extension": ".py",
   "mimetype": "text/x-python",
   "name": "python",
   "nbconvert_exporter": "python",
   "pygments_lexer": "ipython3",
   "version": "3.12.5"
  }
 },
 "nbformat": 4,
 "nbformat_minor": 2
}
