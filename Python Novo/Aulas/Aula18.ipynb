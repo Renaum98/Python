{
 "cells": [
  {
   "cell_type": "markdown",
   "metadata": {},
   "source": [
    "### **Variaveis Compostas** (listas)pt2\n",
    "\n",
    "é possivel tambem criar listas dentro de listas"
   ]
  },
  {
   "cell_type": "code",
   "execution_count": 52,
   "metadata": {},
   "outputs": [
    {
     "name": "stdout",
     "output_type": "stream",
     "text": [
      "['Paulo', 'Andre'] esta na posição 0\n",
      "[10, 5] esta na posição 1\n",
      "['Paulo', 'Andre']\n",
      "[10, 5]\n"
     ]
    }
   ],
   "source": [
    "lista = []\n",
    "pessoas = []\n",
    "idade = []\n",
    "for l in range(0,2):\n",
    "    pessoas.append(input('Digite um nome: ').capitalize())\n",
    "    idade.append(int(input('Digite sua idade: ')))\n",
    "lista.append(pessoas)\n",
    "lista.append(idade)\n",
    "for c, l in enumerate(lista):\n",
    "    print(f'{l} esta na posição {c}')\n",
    "#lista de pessoas\n",
    "print(lista[0])\n",
    "#lista de idades\n",
    "print(lista[1])"
   ]
  },
  {
   "cell_type": "markdown",
   "metadata": {},
   "source": [
    "Apos inserir uma lista dentro de uma lista, a lista principal recebera um novo index representando cada lista dentro dela com é o exemplo acima "
   ]
  },
  {
   "cell_type": "code",
   "execution_count": 39,
   "metadata": {},
   "outputs": [
    {
     "name": "stdout",
     "output_type": "stream",
     "text": [
      "Pedro\n",
      "19\n",
      "João\n"
     ]
    }
   ],
   "source": [
    "pessoas = [['Pedro', 25],['Mario', 19],['João', 32]]\n",
    "print(pessoas[0][0])#com dois indices o valor a ser mostrado sera o indice principal e depois o valor corerspondente ao indice digitado\n",
    "print(pessoas[1][1])\n",
    "print(pessoas[2][0])"
   ]
  },
  {
   "cell_type": "code",
   "execution_count": 48,
   "metadata": {},
   "outputs": [
    {
     "name": "stdout",
     "output_type": "stream",
     "text": [
      "[['Gustavo', 40], ['Maria', 22]]\n"
     ]
    }
   ],
   "source": [
    "teste = list()\n",
    "teste.append('Gustavo')\n",
    "teste.append(40)\n",
    "galera = list()\n",
    "galera.append(teste[:])#cria uma copia e tira a ligação de uma lista a outro\n",
    "teste[0] = 'Maria'\n",
    "teste[1] = 22\n",
    "galera.append(teste[:])\n",
    "print(galera)"
   ]
  },
  {
   "cell_type": "code",
   "execution_count": 56,
   "metadata": {},
   "outputs": [
    {
     "name": "stdout",
     "output_type": "stream",
     "text": [
      "João tem 10 anos de idade\n",
      "Maria tem 33 anos de idade\n",
      "Joaquim tem 13 anos de idade\n",
      "Ana tem 33 anos de idade\n"
     ]
    }
   ],
   "source": [
    "galera = [['João', 10],['Maria', 33],['Joaquim',13],['Ana', 33]]\n",
    "for p in galera:\n",
    "    print(f'{p[0]} tem {p[1]} anos de idade')"
   ]
  },
  {
   "cell_type": "markdown",
   "metadata": {},
   "source": [
    "Sempre tomar cuidado com o as listas relacionadas\n",
    "\n",
    "Caso uma lista não seja copiada antes de ser excluida, ela ira excluir as duas listas"
   ]
  },
  {
   "cell_type": "code",
   "execution_count": 6,
   "metadata": {},
   "outputs": [
    {
     "name": "stdout",
     "output_type": "stream",
     "text": [
      "['R', 'a', 'e', 'n', 'n'] é menor de idade\n",
      "['P', 'a', 'a', 'l', 'u'] é maior de idade\n",
      "['A', 'a', 'n'] é maior de idade\n",
      "['B', 'a', 'n', 'r', 'u'] é menor de idade\n",
      "['R', 'a', 'e', 'n', 'n'] é maior de idade\n",
      "3 pessoas são maiores de idade\n",
      "2 pessoas são menores de idade\n"
     ]
    }
   ],
   "source": [
    "galera = list()\n",
    "dado = list()\n",
    "totmaior = totmenor = totp = 0\n",
    "for c in range (0,5):\n",
    "    dado.append(str(input('Nome: ').capitalize()))\n",
    "    dado.append(int(input('Idade: ')))\n",
    "    galera.append(dado[:])\n",
    "    dado.clear()\n",
    "\n",
    "for p in galera:\n",
    "    if p[1] >= 21:\n",
    "        print(f'{p[0]} é maior de idade')\n",
    "        totmaior+=1\n",
    "    else:\n",
    "        print(f'{p[0]} é menor de idade')\n",
    "        totmenor+=1\n",
    "print(f'{totmaior} pessoas são maiores de idade')\n",
    "print(f'{totmenor} pessoas são menores de idade')"
   ]
  }
 ],
 "metadata": {
  "kernelspec": {
   "display_name": "Python 3",
   "language": "python",
   "name": "python3"
  },
  "language_info": {
   "codemirror_mode": {
    "name": "ipython",
    "version": 3
   },
   "file_extension": ".py",
   "mimetype": "text/x-python",
   "name": "python",
   "nbconvert_exporter": "python",
   "pygments_lexer": "ipython3",
   "version": "3.12.5"
  }
 },
 "nbformat": 4,
 "nbformat_minor": 2
}
