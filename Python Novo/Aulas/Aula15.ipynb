{
 "cells": [
  {
   "cell_type": "markdown",
   "metadata": {},
   "source": [
    "### **15** - Interrompendo repetições While\n",
    "\n",
    "Utilizando o `break`, é possivel parar uma estrutura de repetição `while` caso queira que o codigo pare de executar em uma condição"
   ]
  },
  {
   "cell_type": "code",
   "execution_count": 16,
   "metadata": {},
   "outputs": [
    {
     "name": "stdout",
     "output_type": "stream",
     "text": [
      "A soma vale 13\n",
      "A soma vale 13\n"
     ]
    }
   ],
   "source": [
    "n = s = 0\n",
    "while True:\n",
    "    n = int(input('Digite um numero: '))\n",
    "    if n == 999:#colocando o a condição antes da soma com o break, o valor 999 não sera somado\n",
    "        break\n",
    "    s += n\n",
    "print('A soma vale',s)#forma simples\n",
    "print('A soma vale {}'.format(s))#Formatado\n",
    "print(f'A soma vale {s}')#usando f strings\n"
   ]
  }
 ],
 "metadata": {
  "kernelspec": {
   "display_name": "Python 3",
   "language": "python",
   "name": "python3"
  },
  "language_info": {
   "codemirror_mode": {
    "name": "ipython",
    "version": 3
   },
   "file_extension": ".py",
   "mimetype": "text/x-python",
   "name": "python",
   "nbconvert_exporter": "python",
   "pygments_lexer": "ipython3",
   "version": "3.12.5"
  }
 },
 "nbformat": 4,
 "nbformat_minor": 2
}
