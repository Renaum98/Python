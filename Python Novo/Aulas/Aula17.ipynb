{
 "cells": [
  {
   "cell_type": "markdown",
   "metadata": {},
   "source": [
    "### **Variaveis Compostas**(Listas)\n",
    "\n",
    "Diferente das tuplas, as listas podem ser mutaveis e são representadas por colchetes\"[ ]\"\n",
    "\n",
    "É usado o metodo `.append()` para inserir um novo dado a lista e sera inserido no final da lista, ja o metodo `.insert()` pode ser usado para colocar uma posição especifica.Para apagar elementos pode se usar o del lista[numero do indice para deletar], ja com o `lista.pop()` se usa um metodo para remover e geralmente apaga o ultimo indice, mas pode ser declarado tambem no metodo o numero do indice e `Lista.remove()` é usado para remover o conteudo especifico e em todos os casos ele ira reposicionar o numero dos indices\n",
    "\n"
   ]
  },
  {
   "cell_type": "code",
   "execution_count": 23,
   "metadata": {},
   "outputs": [
    {
     "name": "stdout",
     "output_type": "stream",
     "text": [
      "Não existe o numero 4 na lista\n",
      "[5, 0, 2, 1, 1]\n",
      "Essa lista tem 5 elementos\n"
     ]
    }
   ],
   "source": [
    "num = [2 ,5, 9, 1]\n",
    "num[2] = 1\n",
    "num.append(7)# adicionando um novo valor a lista\n",
    "num.sort(reverse=True)# em ordem reversa\n",
    "num.insert(2, 0)# adicionando o valor em um lugar especifico\n",
    "num.pop(0)#apaga o valor do indice '0'\n",
    "if 4 in num:\n",
    "    num.remove(4)\n",
    "else:\n",
    "    print('Não existe o numero 4 na lista')\n",
    "print(num)\n",
    "print(f'Essa lista tem {len(num)} elementos')"
   ]
  },
  {
   "cell_type": "code",
   "execution_count": 29,
   "metadata": {},
   "outputs": [
    {
     "name": "stdout",
     "output_type": "stream",
     "text": [
      "5 esta na lista na posição 0\n",
      "9 esta na lista na posição 1\n",
      "4 esta na lista na posição 2\n",
      "Fim da lista\n"
     ]
    }
   ],
   "source": [
    "valores = []\n",
    "valores.append(5)\n",
    "valores.append(9)\n",
    "valores.append(4)\n",
    "\n",
    "for c, v in enumerate(valores):\n",
    "    print(f'{v} esta na lista na posição {c}')\n",
    "print(f'Fim da lista')"
   ]
  },
  {
   "cell_type": "markdown",
   "metadata": {},
   "source": [
    "Inserindo valores direto do teclado"
   ]
  },
  {
   "cell_type": "code",
   "execution_count": 32,
   "metadata": {},
   "outputs": [
    {
     "name": "stdout",
     "output_type": "stream",
     "text": [
      "Os valores digitados foram [10, 51, 41, 2]\n"
     ]
    }
   ],
   "source": [
    "valores = list()\n",
    "for cont in range(0,4):\n",
    "    valores.append(int(input('Digite um numero: ')))\n",
    "print(f'Os valores digitados foram {valores}')"
   ]
  },
  {
   "cell_type": "markdown",
   "metadata": {},
   "source": [
    "Quando se menciona uma lista em outra variavel, o python liga uma a outra fazendo com que uma edição em uma pode afetar outra\n",
    "\n",
    "Porem é possivel criar uma copia como o exemplo a baixo."
   ]
  },
  {
   "cell_type": "code",
   "execution_count": 34,
   "metadata": {},
   "outputs": [
    {
     "name": "stdout",
     "output_type": "stream",
     "text": [
      "Lista A: [2, 3, 8, 7]\n",
      "Lista B: [2, 3, 8, 7]\n"
     ]
    }
   ],
   "source": [
    "a = [2,3,4,7]\n",
    "b = a[:]#cria uma copia, dessa maneira e não tem mais ligação\n",
    "b[2] = 8\n",
    "print(f'Lista A: {a}')\n",
    "print(f'Lista B: {b}')"
   ]
  }
 ],
 "metadata": {
  "kernelspec": {
   "display_name": "Python 3",
   "language": "python",
   "name": "python3"
  },
  "language_info": {
   "codemirror_mode": {
    "name": "ipython",
    "version": 3
   },
   "file_extension": ".py",
   "mimetype": "text/x-python",
   "name": "python",
   "nbconvert_exporter": "python",
   "pygments_lexer": "ipython3",
   "version": "3.12.5"
  }
 },
 "nbformat": 4,
 "nbformat_minor": 2
}
