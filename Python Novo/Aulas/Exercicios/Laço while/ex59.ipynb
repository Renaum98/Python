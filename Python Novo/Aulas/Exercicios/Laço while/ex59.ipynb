{
 "cells": [
  {
   "cell_type": "markdown",
   "metadata": {},
   "source": [
    "### **59** - Crie um programa que leia dois valores e mostre um menu na tela:\n",
    "\n",
    "[1]somar\n",
    "\n",
    "[2]multiplicar\n",
    "\n",
    "[3]maior\n",
    "\n",
    "[4]novos numeros\n",
    "\n",
    "[5]sair do programa\n",
    "\n",
    "Seu programa devera realizar a operação solicitada em cada caso."
   ]
  },
  {
   "cell_type": "markdown",
   "metadata": {},
   "source": [
    "# PRECISA DE CORREÇÃO"
   ]
  },
  {
   "cell_type": "code",
   "execution_count": 1,
   "metadata": {},
   "outputs": [
    {
     "name": "stdout",
     "output_type": "stream",
     "text": [
      "[1]Soma\n",
      "[2]Multiplicar\n",
      "[3]Maior\n",
      "[4]Novos Numeros\n",
      "[5]Sair do Programa\n"
     ]
    },
    {
     "ename": "ValueError",
     "evalue": "invalid literal for int() with base 10: ''",
     "output_type": "error",
     "traceback": [
      "\u001b[1;31m---------------------------------------------------------------------------\u001b[0m",
      "\u001b[1;31mValueError\u001b[0m                                Traceback (most recent call last)",
      "Cell \u001b[1;32mIn[1], line 28\u001b[0m\n\u001b[0;32m     26\u001b[0m     a \u001b[38;5;241m=\u001b[39m \u001b[38;5;28mint\u001b[39m(\u001b[38;5;28minput\u001b[39m(\u001b[38;5;124m'\u001b[39m\u001b[38;5;124mEscolha uma operação:\u001b[39m\u001b[38;5;124m'\u001b[39m))\n\u001b[0;32m     27\u001b[0m \u001b[38;5;28;01mwhile\u001b[39;00m a \u001b[38;5;241m==\u001b[39m \u001b[38;5;241m4\u001b[39m:\n\u001b[1;32m---> 28\u001b[0m     n1 \u001b[38;5;241m=\u001b[39m \u001b[38;5;28;43mint\u001b[39;49m\u001b[43m(\u001b[49m\u001b[38;5;28;43minput\u001b[39;49m\u001b[43m(\u001b[49m\u001b[38;5;124;43m'\u001b[39;49m\u001b[38;5;124;43mDigite um valor: \u001b[39;49m\u001b[38;5;124;43m'\u001b[39;49m\u001b[43m)\u001b[49m\u001b[43m)\u001b[49m\n\u001b[0;32m     29\u001b[0m     n2 \u001b[38;5;241m=\u001b[39m \u001b[38;5;28mint\u001b[39m(\u001b[38;5;28minput\u001b[39m(\u001b[38;5;124m'\u001b[39m\u001b[38;5;124mDigite um valor: \u001b[39m\u001b[38;5;124m'\u001b[39m))\n\u001b[0;32m     30\u001b[0m     \u001b[38;5;28;01mbreak\u001b[39;00m\n",
      "\u001b[1;31mValueError\u001b[0m: invalid literal for int() with base 10: ''"
     ]
    }
   ],
   "source": [
    "n1 = int(input('Primeiro valor: '))\n",
    "n2 = int(input('Segundo valor: '))\n",
    "print('[ 1 ] Soma')\n",
    "print('[ 2 ] Multiplicar')\n",
    "print('[ 3 ] Maior')\n",
    "print('[ 4 ] Novos Numeros')\n",
    "print('[ 5 ] Sair do Programa')\n",
    "a = int(input('Escolha uma operação:'))\n",
    "while n1 or n2 > 0:\n",
    "    while a <= 0 or a > 5:\n",
    "        print('Escolha uma operação valida')\n",
    "        a = int(input('Escolha uma operação:'))\n",
    "    while a == 1:\n",
    "        print('A soma de {} com {} é: {}'.format(n1,n2,(n1+n2)))\n",
    "        a = int(input('Escolha uma operação:'))\n",
    "    while a == 2:\n",
    "        print('A Multiplicação de {} e {} é: {}'.format(n1,n2,(n1*n2)))\n",
    "        a = int(input('Escolha uma operação:'))\n",
    "    while a == 3:\n",
    "        if n1 > n2:\n",
    "            print('{} é maior que {}'.format(n1,n2))\n",
    "        elif n1 == n2:\n",
    "            print('{} é igual a {}'.format(n1,n2))\n",
    "        else:\n",
    "            print('{} é maior que {}'.format(n2,n1))\n",
    "        a = int(input('Escolha uma operação:'))\n",
    "    while a == 4:\n",
    "        n1 = int(input('Digite um valor: '))\n",
    "        n2 = int(input('Digite um valor: '))\n",
    "        break\n",
    "    "
   ]
  },
  {
   "cell_type": "markdown",
   "metadata": {},
   "source": [
    "**Correção**"
   ]
  },
  {
   "cell_type": "code",
   "execution_count": null,
   "metadata": {},
   "outputs": [
    {
     "name": "stdout",
     "output_type": "stream",
     "text": [
      "    [ 1 ] somar\n",
      "    [ 2 ] multiplicar\n",
      "    [ 3 ] maior\n",
      "    [ 4 ] novos números\n",
      "    [ 5 ] sair do programa\n",
      "Opção invalida, tente novamente\n",
      "    [ 1 ] somar\n",
      "    [ 2 ] multiplicar\n",
      "    [ 3 ] maior\n",
      "    [ 4 ] novos números\n",
      "    [ 5 ] sair do programa\n",
      "A soma de 50 com 42 é: 92\n",
      "    [ 1 ] somar\n",
      "    [ 2 ] multiplicar\n",
      "    [ 3 ] maior\n",
      "    [ 4 ] novos números\n",
      "    [ 5 ] sair do programa\n"
     ]
    },
    {
     "ename": "ValueError",
     "evalue": "invalid literal for int() with base 10: ''",
     "output_type": "error",
     "traceback": [
      "\u001b[1;31m---------------------------------------------------------------------------\u001b[0m",
      "\u001b[1;31mValueError\u001b[0m                                Traceback (most recent call last)",
      "Cell \u001b[1;32mIn[9], line 11\u001b[0m\n\u001b[0;32m      5\u001b[0m \u001b[38;5;28;01mwhile\u001b[39;00m opc \u001b[38;5;241m!=\u001b[39m \u001b[38;5;241m5\u001b[39m:\n\u001b[0;32m      6\u001b[0m     \u001b[38;5;28mprint\u001b[39m(\u001b[38;5;124m'''\u001b[39m\u001b[38;5;124m    [ 1 ] somar\u001b[39m\n\u001b[0;32m      7\u001b[0m \u001b[38;5;124m    [ 2 ] multiplicar\u001b[39m\n\u001b[0;32m      8\u001b[0m \u001b[38;5;124m    [ 3 ] maior\u001b[39m\n\u001b[0;32m      9\u001b[0m \u001b[38;5;124m    [ 4 ] novos números\u001b[39m\n\u001b[0;32m     10\u001b[0m \u001b[38;5;124m    [ 5 ] sair do programa\u001b[39m\u001b[38;5;124m'''\u001b[39m)\n\u001b[1;32m---> 11\u001b[0m     opc \u001b[38;5;241m=\u001b[39m \u001b[38;5;28;43mint\u001b[39;49m\u001b[43m(\u001b[49m\u001b[38;5;28;43minput\u001b[39;49m\u001b[43m(\u001b[49m\u001b[38;5;124;43m'\u001b[39;49m\u001b[38;5;124;43m>>>>>Qual é a sua opção? \u001b[39;49m\u001b[38;5;124;43m'\u001b[39;49m\u001b[43m)\u001b[49m\u001b[43m)\u001b[49m\n\u001b[0;32m     12\u001b[0m     \u001b[38;5;28;01mif\u001b[39;00m opc \u001b[38;5;241m==\u001b[39m \u001b[38;5;241m1\u001b[39m:\n\u001b[0;32m     13\u001b[0m         \u001b[38;5;28mprint\u001b[39m(\u001b[38;5;124m'\u001b[39m\u001b[38;5;124mA soma de \u001b[39m\u001b[38;5;132;01m{}\u001b[39;00m\u001b[38;5;124m com \u001b[39m\u001b[38;5;132;01m{}\u001b[39;00m\u001b[38;5;124m é: \u001b[39m\u001b[38;5;132;01m{}\u001b[39;00m\u001b[38;5;124m'\u001b[39m\u001b[38;5;241m.\u001b[39mformat(n1,n2,(n1\u001b[38;5;241m+\u001b[39mn2)))\n",
      "\u001b[1;31mValueError\u001b[0m: invalid literal for int() with base 10: ''"
     ]
    }
   ],
   "source": [
    "from time import sleep\n",
    "n1 = int(input('Primeiro valor: '))\n",
    "n2 = int(input('Segundo valor: '))\n",
    "opc = 0\n",
    "while opc != 5:\n",
    "    print('''    [ 1 ] somar\n",
    "    [ 2 ] multiplicar\n",
    "    [ 3 ] maior\n",
    "    [ 4 ] novos números\n",
    "    [ 5 ] sair do programa''')\n",
    "    opc = int(input('>>>>>Qual é a sua opção? '))\n",
    "    if opc == 1:\n",
    "        print('A soma de {} + {} é: {}'.format(n1,n2,(n1+n2)))\n",
    "    elif opc == 2:\n",
    "        print('A Multiplicação de {} X {} é: {}'.format(n1,n2,(n1*n2)))\n",
    "    elif opc == 3:\n",
    "        if n1 > n2:\n",
    "            print('{} é maior que {}'.format(n1,n2))\n",
    "        elif n1 == n2:\n",
    "            print('{} é igual a {}'.format(n1,n2))\n",
    "        else:\n",
    "            print('{} é maior que {}'.format(n2,n1))\n",
    "    elif opc ==4:\n",
    "        print('Informe os novos numeros:')\n",
    "        n1 = int(input('Digite um valor: '))\n",
    "        n2 = int(input('Digite um valor: '))\n",
    "    elif opc ==5:\n",
    "        print('Encerrando programa...')\n",
    "        sleep(2)\n",
    "    else:\n",
    "        print('Opção invalida, tente novamente')\n",
    "    \n",
    "print('Fim do programa')"
   ]
  }
 ],
 "metadata": {
  "kernelspec": {
   "display_name": "Python 3",
   "language": "python",
   "name": "python3"
  },
  "language_info": {
   "codemirror_mode": {
    "name": "ipython",
    "version": 3
   },
   "file_extension": ".py",
   "mimetype": "text/x-python",
   "name": "python",
   "nbconvert_exporter": "python",
   "pygments_lexer": "ipython3",
   "version": "3.12.5"
  }
 },
 "nbformat": 4,
 "nbformat_minor": 2
}
