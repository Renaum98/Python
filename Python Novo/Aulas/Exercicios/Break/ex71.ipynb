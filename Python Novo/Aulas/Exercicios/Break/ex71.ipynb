{
 "cells": [
  {
   "cell_type": "markdown",
   "metadata": {},
   "source": [
    "#### **71** - Crie um programa que simule o funcionamento de um caixa eletronico.No inicio pergunte ao usuario qual sera o valor a ser sacado(numero inteiro) e o programa vai informar quantas cédulas de cada valor serão entregues.\n",
    "\n",
    "obs: Considere que o caixa possui cédulas de R$50, R$20, R$10 e R$1"
   ]
  },
  {
   "cell_type": "code",
   "execution_count": 2,
   "metadata": {},
   "outputs": [
    {
     "name": "stdout",
     "output_type": "stream",
     "text": [
      "------------------------------\n",
      "-----Banco Internacional------\n",
      "------------------------------\n",
      "Total de 2 cedulas de R$20\n",
      "==============================\n",
      "Volte sempre ao BANCO! Tenha um otimo dia\n"
     ]
    }
   ],
   "source": [
    "print('-'*30)\n",
    "print('{:-^30}'.format('Banco Internacional'))\n",
    "print('-'*30)\n",
    "\n",
    "valor = int(input('Quanto deseja sacar: '))\n",
    "total = valor\n",
    "ced = 50\n",
    "totced = 0\n",
    "while True:\n",
    "    if total >= ced:\n",
    "        total-= ced\n",
    "        totced+=1\n",
    "    else:\n",
    "        if totced > 0:\n",
    "            print(f'Total de {totced} cedulas de R${ced}')\n",
    "        if ced == 50:\n",
    "            ced = 20\n",
    "        elif ced == 20:\n",
    "            ced = 10\n",
    "        elif ced == 10:\n",
    "            ced = 1\n",
    "        totced = 0\n",
    "        if total == 0:\n",
    "            break\n",
    "print('=' * 30)\n",
    "print('Volte sempre ao BANCO! Tenha um otimo dia')"
   ]
  }
 ],
 "metadata": {
  "kernelspec": {
   "display_name": "Python 3",
   "language": "python",
   "name": "python3"
  },
  "language_info": {
   "codemirror_mode": {
    "name": "ipython",
    "version": 3
   },
   "file_extension": ".py",
   "mimetype": "text/x-python",
   "name": "python",
   "nbconvert_exporter": "python",
   "pygments_lexer": "ipython3",
   "version": "3.12.5"
  }
 },
 "nbformat": 4,
 "nbformat_minor": 2
}
