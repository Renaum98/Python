{
 "cells": [
  {
   "cell_type": "markdown",
   "metadata": {},
   "source": [
    "### **46** - Faça um programa que mostre na tela uma **contagem regressiva** para o estouro de fogos de artificio, indo de 10 até 0, com uma pausa de 1 segundo entre eles "
   ]
  },
  {
   "cell_type": "code",
   "execution_count": 2,
   "metadata": {},
   "outputs": [
    {
     "name": "stdout",
     "output_type": "stream",
     "text": [
      "Contagem regressiva\n",
      "10\n",
      "9\n",
      "8\n",
      "7\n",
      "6\n",
      "5\n",
      "4\n",
      "3\n",
      "2\n",
      "1\n",
      "Feliz ano novo 💥\n"
     ]
    }
   ],
   "source": [
    "import time\n",
    "\n",
    "print('Contagem regressiva')\n",
    "\n",
    "for c in range(10,0,-1):\n",
    "    print(c)\n",
    "    time.sleep(1)\n",
    "\n",
    "print('Feliz ano novo 💥')"
   ]
  }
 ],
 "metadata": {
  "kernelspec": {
   "display_name": "Python 3",
   "language": "python",
   "name": "python3"
  },
  "language_info": {
   "codemirror_mode": {
    "name": "ipython",
    "version": 3
   },
   "file_extension": ".py",
   "mimetype": "text/x-python",
   "name": "python",
   "nbconvert_exporter": "python",
   "pygments_lexer": "ipython3",
   "version": "3.11.9"
  }
 },
 "nbformat": 4,
 "nbformat_minor": 2
}
