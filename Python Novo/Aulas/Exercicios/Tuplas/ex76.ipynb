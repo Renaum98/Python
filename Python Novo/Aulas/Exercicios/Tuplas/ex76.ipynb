{
 "cells": [
  {
   "cell_type": "markdown",
   "metadata": {},
   "source": [
    "#### **76** - Crie um programa que tenha uma tupla unica com nomes de produtos e seus respectivos preços, na sequencia.No final, mostre uma listagem de preços organizando os dados em forma tabular.\n",
    "\n",
    "exemplo :\n",
    "    \n",
    "listagem = ('Pão', 10, 'Leite', 25, 'Frango', 10.99)"
   ]
  }
 ],
 "metadata": {
  "language_info": {
   "name": "python"
  }
 },
 "nbformat": 4,
 "nbformat_minor": 2
}
