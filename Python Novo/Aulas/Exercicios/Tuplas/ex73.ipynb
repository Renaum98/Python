{
 "cells": [
  {
   "cell_type": "markdown",
   "metadata": {},
   "source": [
    "#### **73** - Crie uma tupla preenchida com os 20 primeiros colocados da tabela do Brasileirão, na ordem de colocação.Depois mostre:\n",
    "\n",
    "1 - Apenas os 5 primeiros colocados\n",
    "\n",
    "2 - os ultimos 4 colocados\n",
    "\n",
    "3 - Uma lista com os times em ordem alfabetica\n",
    "\n",
    "4 - Em que posição na tabela esta o time da Chapecoense\n"
   ]
  },
  {
   "cell_type": "code",
   "execution_count": 12,
   "metadata": {},
   "outputs": [
    {
     "name": "stdout",
     "output_type": "stream",
     "text": [
      "20\n",
      "Os cinco primeiros times da lista são: ('Flamengo', 'Palmeiras', 'Internacional', 'Atlético-MG', 'São Paulo', 'Grêmio')\n",
      "Os ultimos colocados são: ('Fortaleza', 'América-MG', 'Coritiba', 'Red Bull Bragantino')\n",
      "['América-MG', 'Athletico-PR', 'Atlético-MG', 'Bahia', 'Botafogo', 'Corinthians', 'Coritiba', 'Cruzeiro', 'Cuiabá', 'Flamengo', 'Fluminense', 'Fortaleza', 'Goiás', 'Grêmio', 'Internacional', 'Palmeiras', 'Red Bull Bragantino', 'Santos', 'São Paulo', 'Vasco da Gama']\n"
     ]
    }
   ],
   "source": [
    "times = ('Flamengo', 'Palmeiras', 'Internacional', 'Atlético-MG', 'São Paulo', 'Grêmio', 'Fluminense', 'Athletico-PR', 'Corinthians', 'Botafogo', \n",
    "'Vasco da Gama', 'Cruzeiro', 'Bahia', 'Santos', 'Cuiabá', 'Goiás', 'Fortaleza', 'América-MG', 'Coritiba', 'Red Bull Bragantino')\n",
    "\n",
    "print(len(times))\n",
    "\n",
    "print(f'Os cinco primeiros times da lista são: {times[0:6]}')\n",
    "\n",
    "\n",
    "print(f'Os ultimos colocados são: {times[-4:]}')\n",
    "\n",
    "print(sorted(times))\n",
    "\n"
   ]
  }
 ],
 "metadata": {
  "kernelspec": {
   "display_name": "Python 3",
   "language": "python",
   "name": "python3"
  },
  "language_info": {
   "codemirror_mode": {
    "name": "ipython",
    "version": 3
   },
   "file_extension": ".py",
   "mimetype": "text/x-python",
   "name": "python",
   "nbconvert_exporter": "python",
   "pygments_lexer": "ipython3",
   "version": "3.12.5"
  }
 },
 "nbformat": 4,
 "nbformat_minor": 2
}
