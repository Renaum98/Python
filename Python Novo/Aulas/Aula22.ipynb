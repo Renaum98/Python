{
 "cells": [
  {
   "cell_type": "markdown",
   "metadata": {},
   "source": [
    "### **Tratamentos de Erros**\n",
    "\n"
   ]
  },
  {
   "cell_type": "code",
   "execution_count": 1,
   "metadata": {},
   "outputs": [
    {
     "name": "stdout",
     "output_type": "stream",
     "text": [
      "O resultado é 0.5\n",
      "Obrigado por usar\n"
     ]
    }
   ],
   "source": [
    "try:# tentar executar o codigo\n",
    "    a = int(input('Numerador: '))\n",
    "    b = int(input('Denominador: '))\n",
    "    r = a / b\n",
    "\n",
    "except (ValueError, TypeError):\n",
    "    print('Tivemos um problema com os tipo de dados que você digitou')\n",
    "\n",
    "except ZeroDivisionError:\n",
    "    print('Não é possivel dividir um numero por ZERO')\n",
    "\n",
    "except KeyboardInterrupt:\n",
    "    print('Não foi digitado um dos valores')\n",
    "except Exception as erro:\n",
    "    print(f'O erro encontrado foi {erro.__cause__}')\n",
    "else:#caso der certo isso ira aparecer \n",
    "    print(f'O resultado é {r:.1f}')\n",
    "finally:#ira aparecer independente do erro ou não\n",
    "    print('Obrigado por usar')\n"
   ]
  }
 ],
 "metadata": {
  "kernelspec": {
   "display_name": "Python 3",
   "language": "python",
   "name": "python3"
  },
  "language_info": {
   "codemirror_mode": {
    "name": "ipython",
    "version": 3
   },
   "file_extension": ".py",
   "mimetype": "text/x-python",
   "name": "python",
   "nbconvert_exporter": "python",
   "pygments_lexer": "ipython3",
   "version": "3.12.5"
  }
 },
 "nbformat": 4,
 "nbformat_minor": 2
}
